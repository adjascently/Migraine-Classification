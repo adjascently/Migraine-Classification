{
 "cells": [
  {
   "cell_type": "code",
   "execution_count": 1,
   "id": "5a2d9072",
   "metadata": {
    "_cell_guid": "b1076dfc-b9ad-4769-8c92-a6c4dae69d19",
    "_uuid": "8f2839f25d086af736a60e9eeb907d3b93b6e0e5",
    "execution": {
     "iopub.execute_input": "2022-12-16T06:11:30.425552Z",
     "iopub.status.busy": "2022-12-16T06:11:30.424862Z",
     "iopub.status.idle": "2022-12-16T06:11:30.449656Z",
     "shell.execute_reply": "2022-12-16T06:11:30.448557Z"
    },
    "papermill": {
     "duration": 0.048241,
     "end_time": "2022-12-16T06:11:30.452428",
     "exception": false,
     "start_time": "2022-12-16T06:11:30.404187",
     "status": "completed"
    },
    "tags": []
   },
   "outputs": [
    {
     "name": "stdout",
     "output_type": "stream",
     "text": [
      "/kaggle/input/migraine-classification/data.csv\n"
     ]
    }
   ],
   "source": [
    "# This Python 3 environment comes with many helpful analytics libraries installed\n",
    "# It is defined by the kaggle/python Docker image: https://github.com/kaggle/docker-python\n",
    "# For example, here's several helpful packages to load\n",
    "\n",
    "import numpy as np # linear algebra\n",
    "import pandas as pd # data processing, CSV file I/O (e.g. pd.read_csv)\n",
    "\n",
    "# Input data files are available in the read-only \"../input/\" directory\n",
    "# For example, running this (by clicking run or pressing Shift+Enter) will list all files under the input directory\n",
    "\n",
    "import os\n",
    "for dirname, _, filenames in os.walk('/kaggle/input'):\n",
    "    for filename in filenames:\n",
    "        print(os.path.join(dirname, filename))\n",
    "\n",
    "# You can write up to 20GB to the current directory (/kaggle/working/) that gets preserved as output when you create a version using \"Save & Run All\" \n",
    "# You can also write temporary files to /kaggle/temp/, but they won't be saved outside of the current session"
   ]
  },
  {
   "cell_type": "code",
   "execution_count": 2,
   "id": "40ea1ab1",
   "metadata": {
    "execution": {
     "iopub.execute_input": "2022-12-16T06:11:30.487006Z",
     "iopub.status.busy": "2022-12-16T06:11:30.486271Z",
     "iopub.status.idle": "2022-12-16T06:11:37.723035Z",
     "shell.execute_reply": "2022-12-16T06:11:37.722174Z"
    },
    "papermill": {
     "duration": 7.25673,
     "end_time": "2022-12-16T06:11:37.725602",
     "exception": false,
     "start_time": "2022-12-16T06:11:30.468872",
     "status": "completed"
    },
    "tags": []
   },
   "outputs": [],
   "source": [
    "import seaborn as sns\n",
    "from matplotlib import pyplot as plt\n",
    "from sklearn.model_selection import train_test_split\n",
    "from sklearn.preprocessing import LabelEncoder\n",
    "from sklearn.svm import SVR\n",
    "from sklearn.ensemble import RandomForestClassifier\n",
    "from sklearn.tree import DecisionTreeClassifier\n",
    "from sklearn.neural_network import MLPClassifier\n",
    "from tensorflow.keras.layers import Dense, Conv1D, MaxPooling1D, Activation, Dropout\n",
    "from tensorflow.keras.models import Sequential\n",
    "from tensorflow.keras.callbacks import EarlyStopping\n",
    "from tensorflow.keras.utils import to_categorical\n",
    "from sklearn.metrics import confusion_matrix, classification_report\n",
    "from sklearn.metrics import plot_confusion_matrix, precision_score, recall_score, f1_score\n",
    "from sklearn.metrics import r2_score\n",
    "from sklearn.ensemble import RandomForestClassifier\n",
    "from sklearn.neighbors import KNeighborsClassifier\n",
    "\n",
    "from sklearn.tree import DecisionTreeClassifier\n",
    "import math\n",
    "from sklearn.neural_network import MLPClassifier\n",
    "from sklearn.metrics import accuracy_score\n",
    "import matplotlib.pyplot as plt\n",
    "import seaborn as sns\n",
    "from sklearn.neighbors import KNeighborsClassifier\n",
    "from sklearn.preprocessing import StandardScaler\n",
    "from sklearn.model_selection import GridSearchCV"
   ]
  },
  {
   "cell_type": "code",
   "execution_count": 3,
   "id": "a667f336",
   "metadata": {
    "execution": {
     "iopub.execute_input": "2022-12-16T06:11:37.758990Z",
     "iopub.status.busy": "2022-12-16T06:11:37.757979Z",
     "iopub.status.idle": "2022-12-16T06:11:37.783879Z",
     "shell.execute_reply": "2022-12-16T06:11:37.782962Z"
    },
    "papermill": {
     "duration": 0.044877,
     "end_time": "2022-12-16T06:11:37.786285",
     "exception": false,
     "start_time": "2022-12-16T06:11:37.741408",
     "status": "completed"
    },
    "tags": []
   },
   "outputs": [],
   "source": [
    "data = pd.read_csv('/kaggle/input/migraine-classification/data.csv')\n",
    "df = pd.read_csv('/kaggle/input/migraine-classification/data.csv')"
   ]
  },
  {
   "cell_type": "code",
   "execution_count": 4,
   "id": "fb2a57d8",
   "metadata": {
    "execution": {
     "iopub.execute_input": "2022-12-16T06:11:37.819408Z",
     "iopub.status.busy": "2022-12-16T06:11:37.818790Z",
     "iopub.status.idle": "2022-12-16T06:11:37.827299Z",
     "shell.execute_reply": "2022-12-16T06:11:37.826193Z"
    },
    "papermill": {
     "duration": 0.027527,
     "end_time": "2022-12-16T06:11:37.829450",
     "exception": false,
     "start_time": "2022-12-16T06:11:37.801923",
     "status": "completed"
    },
    "tags": []
   },
   "outputs": [
    {
     "data": {
      "text/plain": [
       "(400, 24)"
      ]
     },
     "execution_count": 4,
     "metadata": {},
     "output_type": "execute_result"
    }
   ],
   "source": [
    "data.shape"
   ]
  },
  {
   "cell_type": "code",
   "execution_count": 5,
   "id": "5bfcc7c6",
   "metadata": {
    "execution": {
     "iopub.execute_input": "2022-12-16T06:11:37.862169Z",
     "iopub.status.busy": "2022-12-16T06:11:37.861491Z",
     "iopub.status.idle": "2022-12-16T06:11:37.867568Z",
     "shell.execute_reply": "2022-12-16T06:11:37.866398Z"
    },
    "papermill": {
     "duration": 0.025453,
     "end_time": "2022-12-16T06:11:37.870174",
     "exception": false,
     "start_time": "2022-12-16T06:11:37.844721",
     "status": "completed"
    },
    "tags": []
   },
   "outputs": [
    {
     "name": "stdout",
     "output_type": "stream",
     "text": [
      "Number of training examples: 400\n",
      "Number of features: 24\n"
     ]
    }
   ],
   "source": [
    "print('Number of training examples: %s' %str (data.shape [0]))\n",
    "print('Number of features: %s' %str (data.shape [1]))\n"
   ]
  },
  {
   "cell_type": "code",
   "execution_count": 6,
   "id": "85653683",
   "metadata": {
    "execution": {
     "iopub.execute_input": "2022-12-16T06:11:37.902603Z",
     "iopub.status.busy": "2022-12-16T06:11:37.902210Z",
     "iopub.status.idle": "2022-12-16T06:11:37.909576Z",
     "shell.execute_reply": "2022-12-16T06:11:37.908406Z"
    },
    "papermill": {
     "duration": 0.026056,
     "end_time": "2022-12-16T06:11:37.911674",
     "exception": false,
     "start_time": "2022-12-16T06:11:37.885618",
     "status": "completed"
    },
    "tags": []
   },
   "outputs": [
    {
     "data": {
      "text/plain": [
       "Index(['Age', 'Duration', 'Frequency', 'Location', 'Character', 'Intensity',\n",
       "       'Nausea', 'Vomit', 'Phonophobia', 'Photophobia', 'Visual', 'Sensory',\n",
       "       'Dysphasia', 'Dysarthria', 'Vertigo', 'Tinnitus', 'Hypoacusis',\n",
       "       'Diplopia', 'Defect', 'Ataxia', 'Conscience', 'Paresthesia', 'DPF',\n",
       "       'Type'],\n",
       "      dtype='object')"
      ]
     },
     "execution_count": 6,
     "metadata": {},
     "output_type": "execute_result"
    }
   ],
   "source": [
    "data.columns"
   ]
  },
  {
   "cell_type": "code",
   "execution_count": 7,
   "id": "5155b5d9",
   "metadata": {
    "execution": {
     "iopub.execute_input": "2022-12-16T06:11:37.944073Z",
     "iopub.status.busy": "2022-12-16T06:11:37.943336Z",
     "iopub.status.idle": "2022-12-16T06:11:37.958246Z",
     "shell.execute_reply": "2022-12-16T06:11:37.957286Z"
    },
    "papermill": {
     "duration": 0.033564,
     "end_time": "2022-12-16T06:11:37.960288",
     "exception": false,
     "start_time": "2022-12-16T06:11:37.926724",
     "status": "completed"
    },
    "tags": []
   },
   "outputs": [
    {
     "data": {
      "text/plain": [
       "Typical aura with migraine       247\n",
       "Migraine without aura             60\n",
       "Familial hemiplegic migraine      24\n",
       "Typical aura without migraine     20\n",
       "Basilar-type aura                 18\n",
       "Other                             17\n",
       "Sporadic hemiplegic migraine      14\n",
       "Name: Type, dtype: int64"
      ]
     },
     "execution_count": 7,
     "metadata": {},
     "output_type": "execute_result"
    }
   ],
   "source": [
    "data['Type'].value_counts()"
   ]
  },
  {
   "cell_type": "code",
   "execution_count": 8,
   "id": "6f76cf5f",
   "metadata": {
    "execution": {
     "iopub.execute_input": "2022-12-16T06:11:37.992991Z",
     "iopub.status.busy": "2022-12-16T06:11:37.992126Z",
     "iopub.status.idle": "2022-12-16T06:11:37.999903Z",
     "shell.execute_reply": "2022-12-16T06:11:37.998767Z"
    },
    "papermill": {
     "duration": 0.026536,
     "end_time": "2022-12-16T06:11:38.002349",
     "exception": false,
     "start_time": "2022-12-16T06:11:37.975813",
     "status": "completed"
    },
    "tags": []
   },
   "outputs": [
    {
     "data": {
      "text/plain": [
       "(15, 77)"
      ]
     },
     "execution_count": 8,
     "metadata": {},
     "output_type": "execute_result"
    }
   ],
   "source": [
    "data.Age.min() , data.Age.max()"
   ]
  },
  {
   "cell_type": "code",
   "execution_count": 9,
   "id": "fb205626",
   "metadata": {
    "execution": {
     "iopub.execute_input": "2022-12-16T06:11:38.035768Z",
     "iopub.status.busy": "2022-12-16T06:11:38.035338Z",
     "iopub.status.idle": "2022-12-16T06:11:38.039734Z",
     "shell.execute_reply": "2022-12-16T06:11:38.038366Z"
    },
    "papermill": {
     "duration": 0.023853,
     "end_time": "2022-12-16T06:11:38.041937",
     "exception": false,
     "start_time": "2022-12-16T06:11:38.018084",
     "status": "completed"
    },
    "tags": []
   },
   "outputs": [],
   "source": [
    "# data['Age'].value_counts()"
   ]
  },
  {
   "cell_type": "code",
   "execution_count": 10,
   "id": "adb6f293",
   "metadata": {
    "execution": {
     "iopub.execute_input": "2022-12-16T06:11:38.075852Z",
     "iopub.status.busy": "2022-12-16T06:11:38.075082Z",
     "iopub.status.idle": "2022-12-16T06:11:38.347628Z",
     "shell.execute_reply": "2022-12-16T06:11:38.346846Z"
    },
    "papermill": {
     "duration": 0.292059,
     "end_time": "2022-12-16T06:11:38.349856",
     "exception": false,
     "start_time": "2022-12-16T06:11:38.057797",
     "status": "completed"
    },
    "tags": []
   },
   "outputs": [
    {
     "data": {
      "text/plain": [
       "<AxesSubplot:title={'center':'Range of Patient Age'}>"
      ]
     },
     "execution_count": 10,
     "metadata": {},
     "output_type": "execute_result"
    },
    {
     "data": {
      "image/png": "[encoded data removed]",
      "text/plain": [
       "<Figure size 432x288 with 1 Axes>"
      ]
     },
     "metadata": {
      "needs_background": "light"
     },
     "output_type": "display_data"
    }
   ],
   "source": [
    "plt.title('Range of Patient Age')\n",
    "data['Age'].hist()"
   ]
  },
  {
   "cell_type": "code",
   "execution_count": 11,
   "id": "8309cba5",
   "metadata": {
    "execution": {
     "iopub.execute_input": "2022-12-16T06:11:38.385181Z",
     "iopub.status.busy": "2022-12-16T06:11:38.384019Z",
     "iopub.status.idle": "2022-12-16T06:11:38.392777Z",
     "shell.execute_reply": "2022-12-16T06:11:38.391758Z"
    },
    "papermill": {
     "duration": 0.028757,
     "end_time": "2022-12-16T06:11:38.395051",
     "exception": false,
     "start_time": "2022-12-16T06:11:38.366294",
     "status": "completed"
    },
    "tags": []
   },
   "outputs": [
    {
     "data": {
      "text/plain": [
       "1    369\n",
       "0     20\n",
       "2     11\n",
       "Name: Character, dtype: int64"
      ]
     },
     "execution_count": 11,
     "metadata": {},
     "output_type": "execute_result"
    }
   ],
   "source": [
    "data.Character.value_counts()"
   ]
  },
  {
   "cell_type": "code",
   "execution_count": 12,
   "id": "c7e9070c",
   "metadata": {
    "execution": {
     "iopub.execute_input": "2022-12-16T06:11:38.429367Z",
     "iopub.status.busy": "2022-12-16T06:11:38.428949Z",
     "iopub.status.idle": "2022-12-16T06:11:38.627913Z",
     "shell.execute_reply": "2022-12-16T06:11:38.626990Z"
    },
    "papermill": {
     "duration": 0.219364,
     "end_time": "2022-12-16T06:11:38.630325",
     "exception": false,
     "start_time": "2022-12-16T06:11:38.410961",
     "status": "completed"
    },
    "tags": []
   },
   "outputs": [
    {
     "data": {
      "text/plain": [
       "<AxesSubplot:xlabel='Character', ylabel='count'>"
      ]
     },
     "execution_count": 12,
     "metadata": {},
     "output_type": "execute_result"
    },
    {
     "data": {
      "image/png": "[encoded data removed]",
      "text/plain": [
       "<Figure size 432x288 with 1 Axes>"
      ]
     },
     "metadata": {
      "needs_background": "light"
     },
     "output_type": "display_data"
    }
   ],
   "source": [
    "sns.countplot(x=data['Character'])"
   ]
  },
  {
   "cell_type": "code",
   "execution_count": 13,
   "id": "af67e29f",
   "metadata": {
    "execution": {
     "iopub.execute_input": "2022-12-16T06:11:38.666129Z",
     "iopub.status.busy": "2022-12-16T06:11:38.665185Z",
     "iopub.status.idle": "2022-12-16T06:11:38.855872Z",
     "shell.execute_reply": "2022-12-16T06:11:38.854641Z"
    },
    "papermill": {
     "duration": 0.21106,
     "end_time": "2022-12-16T06:11:38.858349",
     "exception": false,
     "start_time": "2022-12-16T06:11:38.647289",
     "status": "completed"
    },
    "tags": []
   },
   "outputs": [
    {
     "data": {
      "text/plain": [
       "<AxesSubplot:xlabel='Defect', ylabel='count'>"
      ]
     },
     "execution_count": 13,
     "metadata": {},
     "output_type": "execute_result"
    },
    {
     "data": {
      "image/png": "[encoded data removed]",
      "text/plain": [
       "<Figure size 432x288 with 1 Axes>"
      ]
     },
     "metadata": {
      "needs_background": "light"
     },
     "output_type": "display_data"
    }
   ],
   "source": [
    "sns.countplot(x=data.Defect)"
   ]
  },
  {
   "cell_type": "code",
   "execution_count": 14,
   "id": "80cd9875",
   "metadata": {
    "execution": {
     "iopub.execute_input": "2022-12-16T06:11:38.893950Z",
     "iopub.status.busy": "2022-12-16T06:11:38.893572Z",
     "iopub.status.idle": "2022-12-16T06:11:38.901640Z",
     "shell.execute_reply": "2022-12-16T06:11:38.900550Z"
    },
    "papermill": {
     "duration": 0.028728,
     "end_time": "2022-12-16T06:11:38.903888",
     "exception": false,
     "start_time": "2022-12-16T06:11:38.875160",
     "status": "completed"
    },
    "tags": []
   },
   "outputs": [
    {
     "data": {
      "text/plain": [
       "Typical aura with migraine       247\n",
       "Migraine without aura             60\n",
       "Familial hemiplegic migraine      24\n",
       "Typical aura without migraine     20\n",
       "Basilar-type aura                 18\n",
       "Other                             17\n",
       "Sporadic hemiplegic migraine      14\n",
       "Name: Type, dtype: int64"
      ]
     },
     "execution_count": 14,
     "metadata": {},
     "output_type": "execute_result"
    }
   ],
   "source": [
    "data.Type.value_counts()"
   ]
  },
  {
   "cell_type": "code",
   "execution_count": 15,
   "id": "d585ab99",
   "metadata": {
    "execution": {
     "iopub.execute_input": "2022-12-16T06:11:38.939953Z",
     "iopub.status.busy": "2022-12-16T06:11:38.939579Z",
     "iopub.status.idle": "2022-12-16T06:11:39.236250Z",
     "shell.execute_reply": "2022-12-16T06:11:39.235251Z"
    },
    "papermill": {
     "duration": 0.317321,
     "end_time": "2022-12-16T06:11:39.238532",
     "exception": false,
     "start_time": "2022-12-16T06:11:38.921211",
     "status": "completed"
    },
    "tags": []
   },
   "outputs": [
    {
     "data": {
      "text/plain": [
       "<AxesSubplot:xlabel='Type', ylabel='count'>"
      ]
     },
     "execution_count": 15,
     "metadata": {},
     "output_type": "execute_result"
    },
    {
     "data": {
      "image/png": "[encoded data removed]",
      "text/plain": [
       "<Figure size 1080x720 with 1 Axes>"
      ]
     },
     "metadata": {},
     "output_type": "display_data"
    }
   ],
   "source": [
    "sns.set(rc={'figure.figsize':(15, 10)})\n",
    "sns.countplot(x=data.Type)"
   ]
  },
  {
   "cell_type": "code",
   "execution_count": 16,
   "id": "5b3d37c6",
   "metadata": {
    "execution": {
     "iopub.execute_input": "2022-12-16T06:11:39.275424Z",
     "iopub.status.busy": "2022-12-16T06:11:39.274860Z",
     "iopub.status.idle": "2022-12-16T06:11:39.480460Z",
     "shell.execute_reply": "2022-12-16T06:11:39.478945Z"
    },
    "papermill": {
     "duration": 0.228778,
     "end_time": "2022-12-16T06:11:39.484848",
     "exception": false,
     "start_time": "2022-12-16T06:11:39.256070",
     "status": "completed"
    },
    "tags": []
   },
   "outputs": [
    {
     "data": {
      "text/plain": [
       "<matplotlib.patches.Circle at 0x7f40436bf7d0>"
      ]
     },
     "execution_count": 16,
     "metadata": {},
     "output_type": "execute_result"
    },
    {
     "data": {
      "image/png": "[encoded data removed]",
      "text/plain": [
       "<Figure size 720x576 with 1 Axes>"
      ]
     },
     "metadata": {},
     "output_type": "display_data"
    }
   ],
   "source": [
    "plt.figure(figsize=(10, 8))\n",
    "circle = plt.Circle((0, 0), 0.7, color='white')\n",
    "plt.pie(data.Type.value_counts(), labels=['Typical Aura With Migraine', 'Migraine Without Aura', 'Familial Hemiplegic Nigraine',\n",
    "                                                'Typical Aura Without Migraine', 'Basilar Typed Aura', \n",
    "                                         'Other', 'Sporadic Hemiplegic Migraine'], colors=['blue', 'magenta', 'cyan', \n",
    "                                                                                   'red', 'grey', 'black', 'yellow'])\n",
    "p = plt.gcf()\n",
    "p.gca().add_artist(circle)"
   ]
  },
  {
   "cell_type": "code",
   "execution_count": 17,
   "id": "df3c91c9",
   "metadata": {
    "execution": {
     "iopub.execute_input": "2022-12-16T06:11:39.535450Z",
     "iopub.status.busy": "2022-12-16T06:11:39.535090Z",
     "iopub.status.idle": "2022-12-16T06:11:40.052926Z",
     "shell.execute_reply": "2022-12-16T06:11:40.052001Z"
    },
    "papermill": {
     "duration": 0.539867,
     "end_time": "2022-12-16T06:11:40.055259",
     "exception": false,
     "start_time": "2022-12-16T06:11:39.515392",
     "status": "completed"
    },
    "tags": []
   },
   "outputs": [
    {
     "data": {
      "text/plain": [
       "<seaborn.axisgrid.FacetGrid at 0x7f4043a30ed0>"
      ]
     },
     "execution_count": 17,
     "metadata": {},
     "output_type": "execute_result"
    },
    {
     "data": {
      "image/png": "[encoded data removed]",
      "text/plain": [
       "<Figure size 1296x432 with 1 Axes>"
      ]
     },
     "metadata": {},
     "output_type": "display_data"
    }
   ],
   "source": [
    "\n",
    "sns.catplot(y='Type', x='Age', data=data.sort_values(\"Type\", ascending=False),\n",
    "           kind='boxen', height=6, aspect=3)"
   ]
  },
  {
   "cell_type": "code",
   "execution_count": 18,
   "id": "e1fb8348",
   "metadata": {
    "execution": {
     "iopub.execute_input": "2022-12-16T06:11:40.094795Z",
     "iopub.status.busy": "2022-12-16T06:11:40.094359Z",
     "iopub.status.idle": "2022-12-16T06:11:40.101832Z",
     "shell.execute_reply": "2022-12-16T06:11:40.100810Z"
    },
    "papermill": {
     "duration": 0.029851,
     "end_time": "2022-12-16T06:11:40.103970",
     "exception": false,
     "start_time": "2022-12-16T06:11:40.074119",
     "status": "completed"
    },
    "tags": []
   },
   "outputs": [
    {
     "data": {
      "text/plain": [
       "array([0, 0, 0, 0, 0, 0, 0, 0, 0, 0, 0, 0, 0, 0, 0, 0, 0, 0, 0, 0, 0, 0,\n",
       "       0, 0])"
      ]
     },
     "execution_count": 18,
     "metadata": {},
     "output_type": "execute_result"
    }
   ],
   "source": [
    "data.isnull().sum().to_numpy()"
   ]
  },
  {
   "cell_type": "code",
   "execution_count": 19,
   "id": "35f57900",
   "metadata": {
    "execution": {
     "iopub.execute_input": "2022-12-16T06:11:40.144306Z",
     "iopub.status.busy": "2022-12-16T06:11:40.143907Z",
     "iopub.status.idle": "2022-12-16T06:11:40.147984Z",
     "shell.execute_reply": "2022-12-16T06:11:40.146935Z"
    },
    "papermill": {
     "duration": 0.026998,
     "end_time": "2022-12-16T06:11:40.150099",
     "exception": false,
     "start_time": "2022-12-16T06:11:40.123101",
     "status": "completed"
    },
    "tags": []
   },
   "outputs": [],
   "source": [
    "#dataframes"
   ]
  },
  {
   "cell_type": "code",
   "execution_count": 20,
   "id": "b6f855ab",
   "metadata": {
    "execution": {
     "iopub.execute_input": "2022-12-16T06:11:40.189734Z",
     "iopub.status.busy": "2022-12-16T06:11:40.189034Z",
     "iopub.status.idle": "2022-12-16T06:11:40.198965Z",
     "shell.execute_reply": "2022-12-16T06:11:40.198158Z"
    },
    "papermill": {
     "duration": 0.032486,
     "end_time": "2022-12-16T06:11:40.201213",
     "exception": false,
     "start_time": "2022-12-16T06:11:40.168727",
     "status": "completed"
    },
    "tags": []
   },
   "outputs": [],
   "source": [
    "data_1 = data[data['Type'] == 'Typical aura with migraine']\n",
    "data_2 = data[data['Type'] == 'Migraine without aura']\n",
    "data_3 = data[data['Type'] == 'Familial hemiplegic migraine']\n",
    "data_4 = data[data['Type'] == 'Typical aura without migraine']\n",
    "data_5 = data[data['Type'] == 'Basilar-type aura']\n",
    "data_6 = data[data['Type'] == 'Other']\n",
    "data_7 = data[data['Type'] == 'Sporadic hemiplegic migraine']"
   ]
  },
  {
   "cell_type": "code",
   "execution_count": 21,
   "id": "57528dd9",
   "metadata": {
    "execution": {
     "iopub.execute_input": "2022-12-16T06:11:40.240611Z",
     "iopub.status.busy": "2022-12-16T06:11:40.239959Z",
     "iopub.status.idle": "2022-12-16T06:11:40.246330Z",
     "shell.execute_reply": "2022-12-16T06:11:40.245469Z"
    },
    "papermill": {
     "duration": 0.028779,
     "end_time": "2022-12-16T06:11:40.248405",
     "exception": false,
     "start_time": "2022-12-16T06:11:40.219626",
     "status": "completed"
    },
    "tags": []
   },
   "outputs": [
    {
     "data": {
      "text/plain": [
       "(400, 24)"
      ]
     },
     "execution_count": 21,
     "metadata": {},
     "output_type": "execute_result"
    }
   ],
   "source": [
    "data.shape"
   ]
  },
  {
   "cell_type": "code",
   "execution_count": 22,
   "id": "379522aa",
   "metadata": {
    "execution": {
     "iopub.execute_input": "2022-12-16T06:11:40.288751Z",
     "iopub.status.busy": "2022-12-16T06:11:40.287599Z",
     "iopub.status.idle": "2022-12-16T06:11:40.293910Z",
     "shell.execute_reply": "2022-12-16T06:11:40.292952Z"
    },
    "papermill": {
     "duration": 0.028506,
     "end_time": "2022-12-16T06:11:40.295952",
     "exception": false,
     "start_time": "2022-12-16T06:11:40.267446",
     "status": "completed"
    },
    "tags": []
   },
   "outputs": [
    {
     "data": {
      "text/plain": [
       "57.142857142857146"
      ]
     },
     "execution_count": 22,
     "metadata": {},
     "output_type": "execute_result"
    }
   ],
   "source": [
    "400/7"
   ]
  },
  {
   "cell_type": "code",
   "execution_count": 23,
   "id": "c4a10cfe",
   "metadata": {
    "execution": {
     "iopub.execute_input": "2022-12-16T06:11:40.335317Z",
     "iopub.status.busy": "2022-12-16T06:11:40.334928Z",
     "iopub.status.idle": "2022-12-16T06:11:40.347816Z",
     "shell.execute_reply": "2022-12-16T06:11:40.346894Z"
    },
    "papermill": {
     "duration": 0.035165,
     "end_time": "2022-12-16T06:11:40.350016",
     "exception": false,
     "start_time": "2022-12-16T06:11:40.314851",
     "status": "completed"
    },
    "tags": []
   },
   "outputs": [],
   "source": [
    "from sklearn.utils import resample\n",
    "data_1_resample = resample(data_1, n_samples=200, \n",
    "                           random_state=123, replace=True)\n",
    "data_2_resample = resample(data_2, n_samples=200, \n",
    "                           random_state=123, replace=True)\n",
    "data_3_resample = resample(data_3, n_samples=200, \n",
    "                           random_state=123, replace=True)\n",
    "data_4_resample = resample(data_4, n_samples=200, \n",
    "                           random_state=123, replace=True)\n",
    "data_5_resample = resample(data_5, n_samples=200, \n",
    "                           random_state=123, replace=True)\n",
    "data_6_resample = resample(data_6, n_samples=200, \n",
    "                           random_state=123, replace=True)\n",
    "data_7_resample = resample(data_7, n_samples=200, \n",
    "                           random_state=123, replace=True)"
   ]
  },
  {
   "cell_type": "code",
   "execution_count": 24,
   "id": "acee0bf5",
   "metadata": {
    "execution": {
     "iopub.execute_input": "2022-12-16T06:11:40.390386Z",
     "iopub.status.busy": "2022-12-16T06:11:40.389421Z",
     "iopub.status.idle": "2022-12-16T06:11:40.396284Z",
     "shell.execute_reply": "2022-12-16T06:11:40.395566Z"
    },
    "papermill": {
     "duration": 0.029104,
     "end_time": "2022-12-16T06:11:40.398177",
     "exception": false,
     "start_time": "2022-12-16T06:11:40.369073",
     "status": "completed"
    },
    "tags": []
   },
   "outputs": [],
   "source": [
    "train_dataset = pd.concat([data_1, data_2_resample, data_3_resample, data_4_resample, \n",
    "                          data_5_resample, data_6_resample, data_7_resample])"
   ]
  },
  {
   "cell_type": "code",
   "execution_count": 25,
   "id": "5bb89dcb",
   "metadata": {
    "execution": {
     "iopub.execute_input": "2022-12-16T06:11:40.438744Z",
     "iopub.status.busy": "2022-12-16T06:11:40.438044Z",
     "iopub.status.idle": "2022-12-16T06:11:40.459532Z",
     "shell.execute_reply": "2022-12-16T06:11:40.458267Z"
    },
    "papermill": {
     "duration": 0.044834,
     "end_time": "2022-12-16T06:11:40.461914",
     "exception": false,
     "start_time": "2022-12-16T06:11:40.417080",
     "status": "completed"
    },
    "tags": []
   },
   "outputs": [
    {
     "data": {
      "text/html": [
       "<div>\n",
       "<style scoped>\n",
       "    .dataframe tbody tr th:only-of-type {\n",
       "        vertical-align: middle;\n",
       "    }\n",
       "\n",
       "    .dataframe tbody tr th {\n",
       "        vertical-align: top;\n",
       "    }\n",
       "\n",
       "    .dataframe thead th {\n",
       "        text-align: right;\n",
       "    }\n",
       "</style>\n",
       "<table border=\"1\" class=\"dataframe\">\n",
       "  <thead>\n",
       "    <tr style=\"text-align: right;\">\n",
       "      <th></th>\n",
       "      <th>Age</th>\n",
       "      <th>Duration</th>\n",
       "      <th>Frequency</th>\n",
       "      <th>Location</th>\n",
       "      <th>Character</th>\n",
       "      <th>Intensity</th>\n",
       "      <th>Nausea</th>\n",
       "      <th>Vomit</th>\n",
       "      <th>Phonophobia</th>\n",
       "      <th>Photophobia</th>\n",
       "      <th>...</th>\n",
       "      <th>Vertigo</th>\n",
       "      <th>Tinnitus</th>\n",
       "      <th>Hypoacusis</th>\n",
       "      <th>Diplopia</th>\n",
       "      <th>Defect</th>\n",
       "      <th>Ataxia</th>\n",
       "      <th>Conscience</th>\n",
       "      <th>Paresthesia</th>\n",
       "      <th>DPF</th>\n",
       "      <th>Type</th>\n",
       "    </tr>\n",
       "  </thead>\n",
       "  <tbody>\n",
       "    <tr>\n",
       "      <th>0</th>\n",
       "      <td>30</td>\n",
       "      <td>1</td>\n",
       "      <td>5</td>\n",
       "      <td>1</td>\n",
       "      <td>1</td>\n",
       "      <td>2</td>\n",
       "      <td>1</td>\n",
       "      <td>0</td>\n",
       "      <td>1</td>\n",
       "      <td>1</td>\n",
       "      <td>...</td>\n",
       "      <td>0</td>\n",
       "      <td>0</td>\n",
       "      <td>0</td>\n",
       "      <td>0</td>\n",
       "      <td>0</td>\n",
       "      <td>0</td>\n",
       "      <td>0</td>\n",
       "      <td>0</td>\n",
       "      <td>0</td>\n",
       "      <td>Typical aura with migraine</td>\n",
       "    </tr>\n",
       "    <tr>\n",
       "      <th>1</th>\n",
       "      <td>50</td>\n",
       "      <td>3</td>\n",
       "      <td>5</td>\n",
       "      <td>1</td>\n",
       "      <td>1</td>\n",
       "      <td>3</td>\n",
       "      <td>1</td>\n",
       "      <td>1</td>\n",
       "      <td>1</td>\n",
       "      <td>1</td>\n",
       "      <td>...</td>\n",
       "      <td>1</td>\n",
       "      <td>0</td>\n",
       "      <td>0</td>\n",
       "      <td>0</td>\n",
       "      <td>0</td>\n",
       "      <td>0</td>\n",
       "      <td>0</td>\n",
       "      <td>0</td>\n",
       "      <td>0</td>\n",
       "      <td>Typical aura with migraine</td>\n",
       "    </tr>\n",
       "    <tr>\n",
       "      <th>2</th>\n",
       "      <td>53</td>\n",
       "      <td>2</td>\n",
       "      <td>1</td>\n",
       "      <td>1</td>\n",
       "      <td>1</td>\n",
       "      <td>2</td>\n",
       "      <td>1</td>\n",
       "      <td>1</td>\n",
       "      <td>1</td>\n",
       "      <td>1</td>\n",
       "      <td>...</td>\n",
       "      <td>0</td>\n",
       "      <td>0</td>\n",
       "      <td>0</td>\n",
       "      <td>0</td>\n",
       "      <td>0</td>\n",
       "      <td>0</td>\n",
       "      <td>0</td>\n",
       "      <td>0</td>\n",
       "      <td>0</td>\n",
       "      <td>Typical aura with migraine</td>\n",
       "    </tr>\n",
       "  </tbody>\n",
       "</table>\n",
       "<p>3 rows × 24 columns</p>\n",
       "</div>"
      ],
      "text/plain": [
       "   Age  Duration  Frequency  Location  Character  Intensity  Nausea  Vomit  \\\n",
       "0   30         1          5         1          1          2       1      0   \n",
       "1   50         3          5         1          1          3       1      1   \n",
       "2   53         2          1         1          1          2       1      1   \n",
       "\n",
       "   Phonophobia  Photophobia  ...  Vertigo  Tinnitus  Hypoacusis  Diplopia  \\\n",
       "0            1            1  ...        0         0           0         0   \n",
       "1            1            1  ...        1         0           0         0   \n",
       "2            1            1  ...        0         0           0         0   \n",
       "\n",
       "   Defect  Ataxia  Conscience  Paresthesia  DPF                        Type  \n",
       "0       0       0           0            0    0  Typical aura with migraine  \n",
       "1       0       0           0            0    0  Typical aura with migraine  \n",
       "2       0       0           0            0    0  Typical aura with migraine  \n",
       "\n",
       "[3 rows x 24 columns]"
      ]
     },
     "execution_count": 25,
     "metadata": {},
     "output_type": "execute_result"
    }
   ],
   "source": [
    "train_dataset.head(3)"
   ]
  },
  {
   "cell_type": "code",
   "execution_count": 26,
   "id": "a38b4ec1",
   "metadata": {
    "execution": {
     "iopub.execute_input": "2022-12-16T06:11:40.503435Z",
     "iopub.status.busy": "2022-12-16T06:11:40.502785Z",
     "iopub.status.idle": "2022-12-16T06:11:40.509432Z",
     "shell.execute_reply": "2022-12-16T06:11:40.508575Z"
    },
    "papermill": {
     "duration": 0.029965,
     "end_time": "2022-12-16T06:11:40.511567",
     "exception": false,
     "start_time": "2022-12-16T06:11:40.481602",
     "status": "completed"
    },
    "tags": []
   },
   "outputs": [
    {
     "data": {
      "text/plain": [
       "(1447, 24)"
      ]
     },
     "execution_count": 26,
     "metadata": {},
     "output_type": "execute_result"
    }
   ],
   "source": [
    "train_dataset.shape"
   ]
  },
  {
   "cell_type": "code",
   "execution_count": 27,
   "id": "b5832f45",
   "metadata": {
    "execution": {
     "iopub.execute_input": "2022-12-16T06:11:40.553348Z",
     "iopub.status.busy": "2022-12-16T06:11:40.552703Z",
     "iopub.status.idle": "2022-12-16T06:11:40.753278Z",
     "shell.execute_reply": "2022-12-16T06:11:40.751732Z"
    },
    "papermill": {
     "duration": 0.226191,
     "end_time": "2022-12-16T06:11:40.757571",
     "exception": false,
     "start_time": "2022-12-16T06:11:40.531380",
     "status": "completed"
    },
    "tags": []
   },
   "outputs": [
    {
     "data": {
      "text/plain": [
       "<matplotlib.patches.Circle at 0x7f4043837390>"
      ]
     },
     "execution_count": 27,
     "metadata": {},
     "output_type": "execute_result"
    },
    {
     "data": {
      "image/png": "[encoded data removed]",
      "text/plain": [
       "<Figure size 720x576 with 1 Axes>"
      ]
     },
     "metadata": {},
     "output_type": "display_data"
    }
   ],
   "source": [
    "plt.figure(figsize=(10, 8))\n",
    "circle = plt.Circle((0, 0), 0.7, color='white')\n",
    "plt.pie(train_dataset.Type.value_counts(), labels=['Typical Aura With Migraine', 'Migraine Without Aura', 'Familial Hemiplegic Nigraine',\n",
    "                                                'Typical Aura Without Migraine', 'Basilar Typed Aura', \n",
    "                                         'Other', 'Sporadic Hemiplegic Migraine'], colors=['blue', 'magenta', 'cyan', \n",
    "                                                                                   'red', 'grey', 'black', 'yellow'])\n",
    "p = plt.gcf()\n",
    "p.gca().add_artist(circle)"
   ]
  },
  {
   "cell_type": "code",
   "execution_count": 28,
   "id": "a41094c6",
   "metadata": {
    "execution": {
     "iopub.execute_input": "2022-12-16T06:11:40.807023Z",
     "iopub.status.busy": "2022-12-16T06:11:40.806057Z",
     "iopub.status.idle": "2022-12-16T06:11:41.331949Z",
     "shell.execute_reply": "2022-12-16T06:11:41.330882Z"
    },
    "papermill": {
     "duration": 0.550256,
     "end_time": "2022-12-16T06:11:41.334295",
     "exception": false,
     "start_time": "2022-12-16T06:11:40.784039",
     "status": "completed"
    },
    "tags": []
   },
   "outputs": [
    {
     "data": {
      "text/plain": [
       "<seaborn.axisgrid.FacetGrid at 0x7f40438f8210>"
      ]
     },
     "execution_count": 28,
     "metadata": {},
     "output_type": "execute_result"
    },
    {
     "data": {
      "image/png": "[encoded data removed]",
      "text/plain": [
       "<Figure size 1296x432 with 1 Axes>"
      ]
     },
     "metadata": {},
     "output_type": "display_data"
    }
   ],
   "source": [
    "sns.catplot(y='Type', x='Age', data=train_dataset.sort_values(\"Type\", ascending=False),\n",
    "           kind='boxen', height=6, aspect=3)"
   ]
  },
  {
   "cell_type": "code",
   "execution_count": 29,
   "id": "018fd947",
   "metadata": {
    "execution": {
     "iopub.execute_input": "2022-12-16T06:11:41.378293Z",
     "iopub.status.busy": "2022-12-16T06:11:41.377915Z",
     "iopub.status.idle": "2022-12-16T06:11:41.383584Z",
     "shell.execute_reply": "2022-12-16T06:11:41.382655Z"
    },
    "papermill": {
     "duration": 0.030465,
     "end_time": "2022-12-16T06:11:41.385880",
     "exception": false,
     "start_time": "2022-12-16T06:11:41.355415",
     "status": "completed"
    },
    "tags": []
   },
   "outputs": [],
   "source": [
    "X = train_dataset.drop('Type', axis=1)\n",
    "Y = train_dataset['Type']"
   ]
  },
  {
   "cell_type": "code",
   "execution_count": 30,
   "id": "9577cfa8",
   "metadata": {
    "execution": {
     "iopub.execute_input": "2022-12-16T06:11:41.429648Z",
     "iopub.status.busy": "2022-12-16T06:11:41.429185Z",
     "iopub.status.idle": "2022-12-16T06:11:41.435983Z",
     "shell.execute_reply": "2022-12-16T06:11:41.434810Z"
    },
    "papermill": {
     "duration": 0.031732,
     "end_time": "2022-12-16T06:11:41.438225",
     "exception": false,
     "start_time": "2022-12-16T06:11:41.406493",
     "status": "completed"
    },
    "tags": []
   },
   "outputs": [
    {
     "data": {
      "text/plain": [
       "((1447, 23), (1447,))"
      ]
     },
     "execution_count": 30,
     "metadata": {},
     "output_type": "execute_result"
    }
   ],
   "source": [
    "X.shape , Y.shape"
   ]
  },
  {
   "cell_type": "code",
   "execution_count": 31,
   "id": "b7fb0ec5",
   "metadata": {
    "execution": {
     "iopub.execute_input": "2022-12-16T06:11:41.489482Z",
     "iopub.status.busy": "2022-12-16T06:11:41.488778Z",
     "iopub.status.idle": "2022-12-16T06:11:41.508477Z",
     "shell.execute_reply": "2022-12-16T06:11:41.507459Z"
    },
    "papermill": {
     "duration": 0.051764,
     "end_time": "2022-12-16T06:11:41.511691",
     "exception": false,
     "start_time": "2022-12-16T06:11:41.459927",
     "status": "completed"
    },
    "tags": []
   },
   "outputs": [
    {
     "data": {
      "text/html": [
       "<div>\n",
       "<style scoped>\n",
       "    .dataframe tbody tr th:only-of-type {\n",
       "        vertical-align: middle;\n",
       "    }\n",
       "\n",
       "    .dataframe tbody tr th {\n",
       "        vertical-align: top;\n",
       "    }\n",
       "\n",
       "    .dataframe thead th {\n",
       "        text-align: right;\n",
       "    }\n",
       "</style>\n",
       "<table border=\"1\" class=\"dataframe\">\n",
       "  <thead>\n",
       "    <tr style=\"text-align: right;\">\n",
       "      <th></th>\n",
       "      <th>Age</th>\n",
       "      <th>Duration</th>\n",
       "      <th>Frequency</th>\n",
       "      <th>Location</th>\n",
       "      <th>Character</th>\n",
       "      <th>Intensity</th>\n",
       "      <th>Nausea</th>\n",
       "      <th>Vomit</th>\n",
       "      <th>Phonophobia</th>\n",
       "      <th>Photophobia</th>\n",
       "      <th>...</th>\n",
       "      <th>Dysarthria</th>\n",
       "      <th>Vertigo</th>\n",
       "      <th>Tinnitus</th>\n",
       "      <th>Hypoacusis</th>\n",
       "      <th>Diplopia</th>\n",
       "      <th>Defect</th>\n",
       "      <th>Ataxia</th>\n",
       "      <th>Conscience</th>\n",
       "      <th>Paresthesia</th>\n",
       "      <th>DPF</th>\n",
       "    </tr>\n",
       "  </thead>\n",
       "  <tbody>\n",
       "    <tr>\n",
       "      <th>0</th>\n",
       "      <td>30</td>\n",
       "      <td>1</td>\n",
       "      <td>5</td>\n",
       "      <td>1</td>\n",
       "      <td>1</td>\n",
       "      <td>2</td>\n",
       "      <td>1</td>\n",
       "      <td>0</td>\n",
       "      <td>1</td>\n",
       "      <td>1</td>\n",
       "      <td>...</td>\n",
       "      <td>0</td>\n",
       "      <td>0</td>\n",
       "      <td>0</td>\n",
       "      <td>0</td>\n",
       "      <td>0</td>\n",
       "      <td>0</td>\n",
       "      <td>0</td>\n",
       "      <td>0</td>\n",
       "      <td>0</td>\n",
       "      <td>0</td>\n",
       "    </tr>\n",
       "    <tr>\n",
       "      <th>1</th>\n",
       "      <td>50</td>\n",
       "      <td>3</td>\n",
       "      <td>5</td>\n",
       "      <td>1</td>\n",
       "      <td>1</td>\n",
       "      <td>3</td>\n",
       "      <td>1</td>\n",
       "      <td>1</td>\n",
       "      <td>1</td>\n",
       "      <td>1</td>\n",
       "      <td>...</td>\n",
       "      <td>0</td>\n",
       "      <td>1</td>\n",
       "      <td>0</td>\n",
       "      <td>0</td>\n",
       "      <td>0</td>\n",
       "      <td>0</td>\n",
       "      <td>0</td>\n",
       "      <td>0</td>\n",
       "      <td>0</td>\n",
       "      <td>0</td>\n",
       "    </tr>\n",
       "    <tr>\n",
       "      <th>2</th>\n",
       "      <td>53</td>\n",
       "      <td>2</td>\n",
       "      <td>1</td>\n",
       "      <td>1</td>\n",
       "      <td>1</td>\n",
       "      <td>2</td>\n",
       "      <td>1</td>\n",
       "      <td>1</td>\n",
       "      <td>1</td>\n",
       "      <td>1</td>\n",
       "      <td>...</td>\n",
       "      <td>0</td>\n",
       "      <td>0</td>\n",
       "      <td>0</td>\n",
       "      <td>0</td>\n",
       "      <td>0</td>\n",
       "      <td>0</td>\n",
       "      <td>0</td>\n",
       "      <td>0</td>\n",
       "      <td>0</td>\n",
       "      <td>0</td>\n",
       "    </tr>\n",
       "    <tr>\n",
       "      <th>3</th>\n",
       "      <td>45</td>\n",
       "      <td>3</td>\n",
       "      <td>5</td>\n",
       "      <td>1</td>\n",
       "      <td>1</td>\n",
       "      <td>3</td>\n",
       "      <td>1</td>\n",
       "      <td>0</td>\n",
       "      <td>1</td>\n",
       "      <td>1</td>\n",
       "      <td>...</td>\n",
       "      <td>0</td>\n",
       "      <td>1</td>\n",
       "      <td>0</td>\n",
       "      <td>0</td>\n",
       "      <td>0</td>\n",
       "      <td>0</td>\n",
       "      <td>0</td>\n",
       "      <td>0</td>\n",
       "      <td>0</td>\n",
       "      <td>0</td>\n",
       "    </tr>\n",
       "    <tr>\n",
       "      <th>4</th>\n",
       "      <td>53</td>\n",
       "      <td>1</td>\n",
       "      <td>1</td>\n",
       "      <td>1</td>\n",
       "      <td>1</td>\n",
       "      <td>2</td>\n",
       "      <td>1</td>\n",
       "      <td>0</td>\n",
       "      <td>1</td>\n",
       "      <td>1</td>\n",
       "      <td>...</td>\n",
       "      <td>0</td>\n",
       "      <td>0</td>\n",
       "      <td>0</td>\n",
       "      <td>0</td>\n",
       "      <td>0</td>\n",
       "      <td>0</td>\n",
       "      <td>0</td>\n",
       "      <td>0</td>\n",
       "      <td>0</td>\n",
       "      <td>1</td>\n",
       "    </tr>\n",
       "  </tbody>\n",
       "</table>\n",
       "<p>5 rows × 23 columns</p>\n",
       "</div>"
      ],
      "text/plain": [
       "   Age  Duration  Frequency  Location  Character  Intensity  Nausea  Vomit  \\\n",
       "0   30         1          5         1          1          2       1      0   \n",
       "1   50         3          5         1          1          3       1      1   \n",
       "2   53         2          1         1          1          2       1      1   \n",
       "3   45         3          5         1          1          3       1      0   \n",
       "4   53         1          1         1          1          2       1      0   \n",
       "\n",
       "   Phonophobia  Photophobia  ...  Dysarthria  Vertigo  Tinnitus  Hypoacusis  \\\n",
       "0            1            1  ...           0        0         0           0   \n",
       "1            1            1  ...           0        1         0           0   \n",
       "2            1            1  ...           0        0         0           0   \n",
       "3            1            1  ...           0        1         0           0   \n",
       "4            1            1  ...           0        0         0           0   \n",
       "\n",
       "   Diplopia  Defect  Ataxia  Conscience  Paresthesia  DPF  \n",
       "0         0       0       0           0            0    0  \n",
       "1         0       0       0           0            0    0  \n",
       "2         0       0       0           0            0    0  \n",
       "3         0       0       0           0            0    0  \n",
       "4         0       0       0           0            0    1  \n",
       "\n",
       "[5 rows x 23 columns]"
      ]
     },
     "execution_count": 31,
     "metadata": {},
     "output_type": "execute_result"
    }
   ],
   "source": [
    "X.head(5)"
   ]
  },
  {
   "cell_type": "code",
   "execution_count": 32,
   "id": "8f99e769",
   "metadata": {
    "execution": {
     "iopub.execute_input": "2022-12-16T06:11:41.556589Z",
     "iopub.status.busy": "2022-12-16T06:11:41.555637Z",
     "iopub.status.idle": "2022-12-16T06:11:41.564425Z",
     "shell.execute_reply": "2022-12-16T06:11:41.563431Z"
    },
    "papermill": {
     "duration": 0.033517,
     "end_time": "2022-12-16T06:11:41.566550",
     "exception": false,
     "start_time": "2022-12-16T06:11:41.533033",
     "status": "completed"
    },
    "tags": []
   },
   "outputs": [
    {
     "data": {
      "text/plain": [
       "0    Typical aura with migraine\n",
       "1    Typical aura with migraine\n",
       "2    Typical aura with migraine\n",
       "3    Typical aura with migraine\n",
       "4    Typical aura with migraine\n",
       "Name: Type, dtype: object"
      ]
     },
     "execution_count": 32,
     "metadata": {},
     "output_type": "execute_result"
    }
   ],
   "source": [
    "Y.head(5)"
   ]
  },
  {
   "cell_type": "code",
   "execution_count": 33,
   "id": "f70eb712",
   "metadata": {
    "execution": {
     "iopub.execute_input": "2022-12-16T06:11:41.616793Z",
     "iopub.status.busy": "2022-12-16T06:11:41.615860Z",
     "iopub.status.idle": "2022-12-16T06:11:41.629093Z",
     "shell.execute_reply": "2022-12-16T06:11:41.627990Z"
    },
    "papermill": {
     "duration": 0.042766,
     "end_time": "2022-12-16T06:11:41.631189",
     "exception": false,
     "start_time": "2022-12-16T06:11:41.588423",
     "status": "completed"
    },
    "tags": []
   },
   "outputs": [
    {
     "name": "stdout",
     "output_type": "stream",
     "text": [
      "(1157, 23)\n",
      "(290, 23)\n",
      "(1157,)\n",
      "(290,)\n"
     ]
    },
    {
     "data": {
      "text/plain": [
       "(290,)"
      ]
     },
     "execution_count": 33,
     "metadata": {},
     "output_type": "execute_result"
    }
   ],
   "source": [
    "\n",
    "X_train, X_test, Y_train, Y_test = train_test_split(X, Y, \n",
    "                                                  test_size=0.2, \n",
    "                                                  random_state=123)\n",
    "\n",
    "print(X_train.shape)\n",
    "print(X_test.shape)\n",
    "print(Y_train.shape)\n",
    "print(Y_test.shape)\n",
    "(1157, 23)\n",
    "(290, 23)\n",
    "(1157,)\n",
    "(290,)"
   ]
  },
  {
   "cell_type": "code",
   "execution_count": 34,
   "id": "0a3890a2",
   "metadata": {
    "execution": {
     "iopub.execute_input": "2022-12-16T06:11:41.677695Z",
     "iopub.status.busy": "2022-12-16T06:11:41.676790Z",
     "iopub.status.idle": "2022-12-16T06:11:41.684997Z",
     "shell.execute_reply": "2022-12-16T06:11:41.683967Z"
    },
    "papermill": {
     "duration": 0.033971,
     "end_time": "2022-12-16T06:11:41.687004",
     "exception": false,
     "start_time": "2022-12-16T06:11:41.653033",
     "status": "completed"
    },
    "tags": []
   },
   "outputs": [
    {
     "data": {
      "text/plain": [
       "((1447, 23), (1447, 23))"
      ]
     },
     "execution_count": 34,
     "metadata": {},
     "output_type": "execute_result"
    }
   ],
   "source": [
    "X_arr = np.array(X)\n",
    "X_arr.shape, X.shape"
   ]
  },
  {
   "cell_type": "code",
   "execution_count": 35,
   "id": "1d8ebc3e",
   "metadata": {
    "execution": {
     "iopub.execute_input": "2022-12-16T06:11:41.741101Z",
     "iopub.status.busy": "2022-12-16T06:11:41.740640Z",
     "iopub.status.idle": "2022-12-16T06:11:41.747315Z",
     "shell.execute_reply": "2022-12-16T06:11:41.746541Z"
    },
    "papermill": {
     "duration": 0.039189,
     "end_time": "2022-12-16T06:11:41.749665",
     "exception": false,
     "start_time": "2022-12-16T06:11:41.710476",
     "status": "completed"
    },
    "tags": []
   },
   "outputs": [
    {
     "data": {
      "text/plain": [
       "array([[30,  1,  5, ...,  0,  0,  0],\n",
       "       [50,  3,  5, ...,  0,  0,  0],\n",
       "       [53,  2,  1, ...,  0,  0,  0],\n",
       "       ...,\n",
       "       [21,  1,  1, ...,  0,  0,  0],\n",
       "       [19,  1,  2, ...,  0,  0,  0],\n",
       "       [24,  1,  1, ...,  0,  0,  0]])"
      ]
     },
     "execution_count": 35,
     "metadata": {},
     "output_type": "execute_result"
    }
   ],
   "source": [
    "X_arr"
   ]
  },
  {
   "cell_type": "code",
   "execution_count": 36,
   "id": "503886fe",
   "metadata": {
    "execution": {
     "iopub.execute_input": "2022-12-16T06:11:41.816581Z",
     "iopub.status.busy": "2022-12-16T06:11:41.815484Z",
     "iopub.status.idle": "2022-12-16T06:11:41.821777Z",
     "shell.execute_reply": "2022-12-16T06:11:41.820538Z"
    },
    "papermill": {
     "duration": 0.042536,
     "end_time": "2022-12-16T06:11:41.824619",
     "exception": false,
     "start_time": "2022-12-16T06:11:41.782083",
     "status": "completed"
    },
    "tags": []
   },
   "outputs": [],
   "source": [
    "\n",
    "from sklearn.preprocessing import LabelEncoder"
   ]
  },
  {
   "cell_type": "code",
   "execution_count": 37,
   "id": "ebd8f889",
   "metadata": {
    "execution": {
     "iopub.execute_input": "2022-12-16T06:11:41.873808Z",
     "iopub.status.busy": "2022-12-16T06:11:41.873018Z",
     "iopub.status.idle": "2022-12-16T06:11:41.878536Z",
     "shell.execute_reply": "2022-12-16T06:11:41.877841Z"
    },
    "papermill": {
     "duration": 0.031312,
     "end_time": "2022-12-16T06:11:41.880687",
     "exception": false,
     "start_time": "2022-12-16T06:11:41.849375",
     "status": "completed"
    },
    "tags": []
   },
   "outputs": [],
   "source": [
    "encoder = LabelEncoder()\n",
    "encoder.fit(Y)\n",
    "encoded_Y = encoder.transform(Y)"
   ]
  },
  {
   "cell_type": "code",
   "execution_count": 38,
   "id": "0ca728de",
   "metadata": {
    "execution": {
     "iopub.execute_input": "2022-12-16T06:11:41.926228Z",
     "iopub.status.busy": "2022-12-16T06:11:41.925460Z",
     "iopub.status.idle": "2022-12-16T06:11:41.930271Z",
     "shell.execute_reply": "2022-12-16T06:11:41.929556Z"
    },
    "papermill": {
     "duration": 0.029933,
     "end_time": "2022-12-16T06:11:41.932320",
     "exception": false,
     "start_time": "2022-12-16T06:11:41.902387",
     "status": "completed"
    },
    "tags": []
   },
   "outputs": [],
   "source": [
    "labelled_Y = to_categorical(encoded_Y)"
   ]
  },
  {
   "cell_type": "code",
   "execution_count": 39,
   "id": "2a526dc2",
   "metadata": {
    "execution": {
     "iopub.execute_input": "2022-12-16T06:11:41.978556Z",
     "iopub.status.busy": "2022-12-16T06:11:41.977718Z",
     "iopub.status.idle": "2022-12-16T06:11:41.984947Z",
     "shell.execute_reply": "2022-12-16T06:11:41.983892Z"
    },
    "papermill": {
     "duration": 0.032805,
     "end_time": "2022-12-16T06:11:41.987020",
     "exception": false,
     "start_time": "2022-12-16T06:11:41.954215",
     "status": "completed"
    },
    "tags": []
   },
   "outputs": [
    {
     "data": {
      "text/plain": [
       "(1447, 7)"
      ]
     },
     "execution_count": 39,
     "metadata": {},
     "output_type": "execute_result"
    }
   ],
   "source": [
    "labelled_Y.shape"
   ]
  },
  {
   "cell_type": "code",
   "execution_count": 40,
   "id": "36d175d9",
   "metadata": {
    "execution": {
     "iopub.execute_input": "2022-12-16T06:11:42.032741Z",
     "iopub.status.busy": "2022-12-16T06:11:42.031994Z",
     "iopub.status.idle": "2022-12-16T06:11:42.042721Z",
     "shell.execute_reply": "2022-12-16T06:11:42.041018Z"
    },
    "papermill": {
     "duration": 0.036407,
     "end_time": "2022-12-16T06:11:42.045174",
     "exception": false,
     "start_time": "2022-12-16T06:11:42.008767",
     "status": "completed"
    },
    "tags": []
   },
   "outputs": [
    {
     "name": "stdout",
     "output_type": "stream",
     "text": [
      "(1157, 23)\n",
      "(290, 23)\n",
      "(1157, 7)\n",
      "(290, 7)\n"
     ]
    }
   ],
   "source": [
    "X_train, X_test, Y_train, Y_test = train_test_split(X, \n",
    "                                                  labelled_Y, \n",
    "                                                  test_size=0.2, \n",
    "                                                  random_state=123)\n",
    "\n",
    "print(X_train.shape)\n",
    "print(X_test.shape)\n",
    "print(Y_train.shape)\n",
    "print(Y_test.shape)"
   ]
  },
  {
   "cell_type": "code",
   "execution_count": 41,
   "id": "b97feae0",
   "metadata": {
    "execution": {
     "iopub.execute_input": "2022-12-16T06:11:42.090906Z",
     "iopub.status.busy": "2022-12-16T06:11:42.089809Z",
     "iopub.status.idle": "2022-12-16T06:11:42.096809Z",
     "shell.execute_reply": "2022-12-16T06:11:42.096071Z"
    },
    "papermill": {
     "duration": 0.031816,
     "end_time": "2022-12-16T06:11:42.098862",
     "exception": false,
     "start_time": "2022-12-16T06:11:42.067046",
     "status": "completed"
    },
    "tags": []
   },
   "outputs": [],
   "source": [
    "def naural_natwork():\n",
    "    model = Sequential()\n",
    "    model.add(Dense(512, activation='relu', input_shape=(X_arr.shape[1],)))\n",
    "    model.add(Dense(256, activation='relu'))\n",
    "    model.add(Dense(128, activation='relu'))\n",
    "    model.add(Dense(7, activation='softmax'))\n",
    "    return model"
   ]
  },
  {
   "cell_type": "code",
   "execution_count": 42,
   "id": "876ae37f",
   "metadata": {
    "execution": {
     "iopub.execute_input": "2022-12-16T06:11:42.144830Z",
     "iopub.status.busy": "2022-12-16T06:11:42.143772Z",
     "iopub.status.idle": "2022-12-16T06:11:58.258077Z",
     "shell.execute_reply": "2022-12-16T06:11:58.256899Z"
    },
    "papermill": {
     "duration": 16.139681,
     "end_time": "2022-12-16T06:11:58.260609",
     "exception": false,
     "start_time": "2022-12-16T06:11:42.120928",
     "status": "completed"
    },
    "tags": []
   },
   "outputs": [
    {
     "name": "stderr",
     "output_type": "stream",
     "text": [
      "2022-12-16 06:11:42.180613: I tensorflow/core/common_runtime/process_util.cc:146] Creating new thread pool with default inter op setting: 2. Tune using inter_op_parallelism_threads for best performance.\n",
      "2022-12-16 06:11:42.346199: I tensorflow/compiler/mlir/mlir_graph_optimization_pass.cc:185] None of the MLIR Optimization Passes are enabled (registered 2)\n"
     ]
    },
    {
     "name": "stdout",
     "output_type": "stream",
     "text": [
      "Epoch 1/100\n",
      "37/37 [==============================] - 1s 10ms/step - loss: 1.7464 - accuracy: 0.3449 - val_loss: 1.2927 - val_accuracy: 0.5034\n",
      "Epoch 2/100\n",
      "37/37 [==============================] - 0s 4ms/step - loss: 1.1512 - accuracy: 0.5946 - val_loss: 0.9076 - val_accuracy: 0.6828\n",
      "Epoch 3/100\n",
      "37/37 [==============================] - 0s 4ms/step - loss: 0.7243 - accuracy: 0.7589 - val_loss: 0.6165 - val_accuracy: 0.8207\n",
      "Epoch 4/100\n",
      "37/37 [==============================] - 0s 4ms/step - loss: 0.4494 - accuracy: 0.8643 - val_loss: 0.5259 - val_accuracy: 0.8207\n",
      "Epoch 5/100\n",
      "37/37 [==============================] - 0s 4ms/step - loss: 0.3997 - accuracy: 0.8548 - val_loss: 0.4385 - val_accuracy: 0.8310\n",
      "Epoch 6/100\n",
      "37/37 [==============================] - 0s 4ms/step - loss: 0.3057 - accuracy: 0.8946 - val_loss: 0.3238 - val_accuracy: 0.8862\n",
      "Epoch 7/100\n",
      "37/37 [==============================] - 0s 4ms/step - loss: 0.2472 - accuracy: 0.9075 - val_loss: 0.3062 - val_accuracy: 0.8828\n",
      "Epoch 8/100\n",
      "37/37 [==============================] - 0s 4ms/step - loss: 0.2138 - accuracy: 0.9300 - val_loss: 0.2507 - val_accuracy: 0.9000\n",
      "Epoch 9/100\n",
      "37/37 [==============================] - 0s 6ms/step - loss: 0.1796 - accuracy: 0.9360 - val_loss: 0.2123 - val_accuracy: 0.9207\n",
      "Epoch 10/100\n",
      "37/37 [==============================] - 0s 4ms/step - loss: 0.1762 - accuracy: 0.9360 - val_loss: 0.2546 - val_accuracy: 0.8828\n",
      "Epoch 11/100\n",
      "37/37 [==============================] - 0s 4ms/step - loss: 0.2210 - accuracy: 0.9049 - val_loss: 0.2795 - val_accuracy: 0.8828\n",
      "Epoch 12/100\n",
      "37/37 [==============================] - 0s 4ms/step - loss: 0.1643 - accuracy: 0.9352 - val_loss: 0.1885 - val_accuracy: 0.9000\n",
      "Epoch 13/100\n",
      "37/37 [==============================] - 0s 4ms/step - loss: 0.1542 - accuracy: 0.9386 - val_loss: 0.2128 - val_accuracy: 0.9207\n",
      "Epoch 14/100\n",
      "37/37 [==============================] - 0s 4ms/step - loss: 0.1579 - accuracy: 0.9369 - val_loss: 0.2006 - val_accuracy: 0.9138\n",
      "Epoch 15/100\n",
      "37/37 [==============================] - 0s 4ms/step - loss: 0.1871 - accuracy: 0.9300 - val_loss: 0.1900 - val_accuracy: 0.9207\n",
      "Epoch 16/100\n",
      "37/37 [==============================] - 0s 4ms/step - loss: 0.1943 - accuracy: 0.9222 - val_loss: 0.2100 - val_accuracy: 0.9207\n",
      "Epoch 17/100\n",
      "37/37 [==============================] - 0s 4ms/step - loss: 0.1517 - accuracy: 0.9343 - val_loss: 0.1478 - val_accuracy: 0.9379\n",
      "Epoch 18/100\n",
      "37/37 [==============================] - 0s 5ms/step - loss: 0.1496 - accuracy: 0.9404 - val_loss: 0.1772 - val_accuracy: 0.9241\n",
      "Epoch 19/100\n",
      "37/37 [==============================] - 0s 4ms/step - loss: 0.1139 - accuracy: 0.9542 - val_loss: 0.1900 - val_accuracy: 0.9138\n",
      "Epoch 20/100\n",
      "37/37 [==============================] - 0s 4ms/step - loss: 0.1165 - accuracy: 0.9542 - val_loss: 0.1489 - val_accuracy: 0.9448\n",
      "Epoch 21/100\n",
      "37/37 [==============================] - 0s 4ms/step - loss: 0.1181 - accuracy: 0.9602 - val_loss: 0.1138 - val_accuracy: 0.9517\n",
      "Epoch 22/100\n",
      "37/37 [==============================] - 0s 4ms/step - loss: 0.1545 - accuracy: 0.9378 - val_loss: 0.1925 - val_accuracy: 0.9207\n",
      "Epoch 23/100\n",
      "37/37 [==============================] - 0s 4ms/step - loss: 0.1341 - accuracy: 0.9533 - val_loss: 0.1351 - val_accuracy: 0.9414\n",
      "Epoch 24/100\n",
      "37/37 [==============================] - 0s 4ms/step - loss: 0.0970 - accuracy: 0.9637 - val_loss: 0.1023 - val_accuracy: 0.9586\n",
      "Epoch 25/100\n",
      "37/37 [==============================] - 0s 4ms/step - loss: 0.0933 - accuracy: 0.9637 - val_loss: 0.1992 - val_accuracy: 0.9207\n",
      "Epoch 26/100\n",
      "37/37 [==============================] - 0s 4ms/step - loss: 0.0908 - accuracy: 0.9672 - val_loss: 0.0971 - val_accuracy: 0.9690\n",
      "Epoch 27/100\n",
      "37/37 [==============================] - 0s 4ms/step - loss: 0.0842 - accuracy: 0.9637 - val_loss: 0.0864 - val_accuracy: 0.9621\n",
      "Epoch 28/100\n",
      "37/37 [==============================] - 0s 4ms/step - loss: 0.0713 - accuracy: 0.9697 - val_loss: 0.0923 - val_accuracy: 0.9690\n",
      "Epoch 29/100\n",
      "37/37 [==============================] - 0s 4ms/step - loss: 0.1031 - accuracy: 0.9602 - val_loss: 0.1139 - val_accuracy: 0.9586\n",
      "Epoch 30/100\n",
      "37/37 [==============================] - 0s 4ms/step - loss: 0.0900 - accuracy: 0.9654 - val_loss: 0.1111 - val_accuracy: 0.9517\n",
      "Epoch 31/100\n",
      "37/37 [==============================] - 0s 4ms/step - loss: 0.0848 - accuracy: 0.9680 - val_loss: 0.0906 - val_accuracy: 0.9690\n",
      "Epoch 32/100\n",
      "37/37 [==============================] - 0s 4ms/step - loss: 0.0927 - accuracy: 0.9637 - val_loss: 0.0988 - val_accuracy: 0.9690\n",
      "Epoch 33/100\n",
      "37/37 [==============================] - 0s 4ms/step - loss: 0.0858 - accuracy: 0.9637 - val_loss: 0.7315 - val_accuracy: 0.8345\n",
      "Epoch 34/100\n",
      "37/37 [==============================] - 0s 4ms/step - loss: 0.1733 - accuracy: 0.9326 - val_loss: 0.0820 - val_accuracy: 0.9690\n",
      "Epoch 35/100\n",
      "37/37 [==============================] - 0s 4ms/step - loss: 0.0858 - accuracy: 0.9706 - val_loss: 0.1211 - val_accuracy: 0.9552\n",
      "Epoch 36/100\n",
      "37/37 [==============================] - 0s 4ms/step - loss: 0.0623 - accuracy: 0.9784 - val_loss: 0.0573 - val_accuracy: 0.9897\n",
      "Epoch 37/100\n",
      "37/37 [==============================] - 0s 4ms/step - loss: 0.0458 - accuracy: 0.9827 - val_loss: 0.0928 - val_accuracy: 0.9690\n",
      "Epoch 38/100\n",
      "37/37 [==============================] - 0s 4ms/step - loss: 0.0476 - accuracy: 0.9836 - val_loss: 0.0747 - val_accuracy: 0.9759\n",
      "Epoch 39/100\n",
      "37/37 [==============================] - 0s 4ms/step - loss: 0.0507 - accuracy: 0.9801 - val_loss: 0.0966 - val_accuracy: 0.9759\n",
      "Epoch 40/100\n",
      "37/37 [==============================] - 0s 4ms/step - loss: 0.0454 - accuracy: 0.9827 - val_loss: 0.0574 - val_accuracy: 0.9828\n",
      "Epoch 41/100\n",
      "37/37 [==============================] - 0s 4ms/step - loss: 0.0406 - accuracy: 0.9844 - val_loss: 0.0601 - val_accuracy: 0.9828\n",
      "Epoch 42/100\n",
      "37/37 [==============================] - 0s 4ms/step - loss: 0.0526 - accuracy: 0.9853 - val_loss: 0.1044 - val_accuracy: 0.9655\n",
      "Epoch 43/100\n",
      "37/37 [==============================] - 0s 4ms/step - loss: 0.0571 - accuracy: 0.9784 - val_loss: 0.0506 - val_accuracy: 0.9793\n",
      "Epoch 44/100\n",
      "37/37 [==============================] - 0s 4ms/step - loss: 0.0424 - accuracy: 0.9818 - val_loss: 0.1075 - val_accuracy: 0.9690\n",
      "Epoch 45/100\n",
      "37/37 [==============================] - 0s 4ms/step - loss: 0.0588 - accuracy: 0.9836 - val_loss: 0.0570 - val_accuracy: 0.9862\n",
      "Epoch 46/100\n",
      "37/37 [==============================] - 0s 4ms/step - loss: 0.0375 - accuracy: 0.9914 - val_loss: 0.0758 - val_accuracy: 0.9793\n",
      "Epoch 47/100\n",
      "37/37 [==============================] - 0s 4ms/step - loss: 0.0513 - accuracy: 0.9836 - val_loss: 0.0730 - val_accuracy: 0.9724\n",
      "Epoch 48/100\n",
      "37/37 [==============================] - 0s 4ms/step - loss: 0.0406 - accuracy: 0.9862 - val_loss: 0.0611 - val_accuracy: 0.9655\n",
      "Epoch 49/100\n",
      "37/37 [==============================] - 0s 4ms/step - loss: 0.0487 - accuracy: 0.9827 - val_loss: 0.0519 - val_accuracy: 0.9828\n",
      "Epoch 50/100\n",
      "37/37 [==============================] - 0s 4ms/step - loss: 0.0570 - accuracy: 0.9775 - val_loss: 0.0981 - val_accuracy: 0.9690\n",
      "Epoch 51/100\n",
      "37/37 [==============================] - 0s 4ms/step - loss: 0.0497 - accuracy: 0.9836 - val_loss: 0.0441 - val_accuracy: 0.9862\n",
      "Epoch 52/100\n",
      "37/37 [==============================] - 0s 4ms/step - loss: 0.0349 - accuracy: 0.9879 - val_loss: 0.0328 - val_accuracy: 0.9931\n",
      "Epoch 53/100\n",
      "37/37 [==============================] - 0s 4ms/step - loss: 0.0245 - accuracy: 0.9905 - val_loss: 0.0420 - val_accuracy: 0.9897\n",
      "Epoch 54/100\n",
      "37/37 [==============================] - 0s 4ms/step - loss: 0.0350 - accuracy: 0.9862 - val_loss: 0.0376 - val_accuracy: 0.9897\n",
      "Epoch 55/100\n",
      "37/37 [==============================] - 0s 4ms/step - loss: 0.0320 - accuracy: 0.9879 - val_loss: 0.0333 - val_accuracy: 0.9931\n",
      "Epoch 56/100\n",
      "37/37 [==============================] - 0s 4ms/step - loss: 0.0215 - accuracy: 0.9931 - val_loss: 0.0375 - val_accuracy: 0.9931\n",
      "Epoch 57/100\n",
      "37/37 [==============================] - 0s 4ms/step - loss: 0.0875 - accuracy: 0.9654 - val_loss: 0.0411 - val_accuracy: 0.9793\n",
      "Epoch 58/100\n",
      "37/37 [==============================] - 0s 4ms/step - loss: 0.0434 - accuracy: 0.9818 - val_loss: 0.0555 - val_accuracy: 0.9793\n",
      "Epoch 59/100\n",
      "37/37 [==============================] - 0s 4ms/step - loss: 0.0214 - accuracy: 0.9922 - val_loss: 0.0412 - val_accuracy: 0.9862\n",
      "Epoch 60/100\n",
      "37/37 [==============================] - 0s 4ms/step - loss: 0.0249 - accuracy: 0.9922 - val_loss: 0.0618 - val_accuracy: 0.9862\n",
      "Epoch 61/100\n",
      "37/37 [==============================] - 0s 4ms/step - loss: 0.0185 - accuracy: 0.9939 - val_loss: 0.0560 - val_accuracy: 0.9862\n",
      "Epoch 62/100\n",
      "37/37 [==============================] - 0s 4ms/step - loss: 0.0322 - accuracy: 0.9905 - val_loss: 0.0525 - val_accuracy: 0.9862\n",
      "Epoch 63/100\n",
      "37/37 [==============================] - 0s 4ms/step - loss: 0.0283 - accuracy: 0.9922 - val_loss: 0.0708 - val_accuracy: 0.9759\n",
      "Epoch 64/100\n",
      "37/37 [==============================] - 0s 4ms/step - loss: 0.0520 - accuracy: 0.9801 - val_loss: 0.1652 - val_accuracy: 0.9414\n",
      "Epoch 65/100\n",
      "37/37 [==============================] - 0s 4ms/step - loss: 0.0737 - accuracy: 0.9723 - val_loss: 0.1795 - val_accuracy: 0.9517\n",
      "Epoch 66/100\n",
      "37/37 [==============================] - 0s 4ms/step - loss: 0.0506 - accuracy: 0.9844 - val_loss: 0.0704 - val_accuracy: 0.9862\n",
      "Epoch 67/100\n",
      "37/37 [==============================] - 0s 4ms/step - loss: 0.0268 - accuracy: 0.9914 - val_loss: 0.0449 - val_accuracy: 0.9897\n",
      "Epoch 68/100\n",
      "37/37 [==============================] - 0s 4ms/step - loss: 0.0200 - accuracy: 0.9905 - val_loss: 0.0372 - val_accuracy: 0.9897\n",
      "Epoch 69/100\n",
      "37/37 [==============================] - 0s 4ms/step - loss: 0.0262 - accuracy: 0.9914 - val_loss: 0.0391 - val_accuracy: 0.9793\n",
      "Epoch 70/100\n",
      "37/37 [==============================] - 0s 4ms/step - loss: 0.0194 - accuracy: 0.9931 - val_loss: 0.0560 - val_accuracy: 0.9862\n",
      "Epoch 71/100\n",
      "37/37 [==============================] - 0s 4ms/step - loss: 0.0272 - accuracy: 0.9905 - val_loss: 0.0446 - val_accuracy: 0.9862\n",
      "Epoch 72/100\n",
      "37/37 [==============================] - 0s 4ms/step - loss: 0.0305 - accuracy: 0.9905 - val_loss: 0.0766 - val_accuracy: 0.9828\n",
      "Epoch 73/100\n",
      "37/37 [==============================] - 0s 4ms/step - loss: 0.0328 - accuracy: 0.9879 - val_loss: 0.0401 - val_accuracy: 0.9897\n",
      "Epoch 74/100\n",
      "37/37 [==============================] - 0s 4ms/step - loss: 0.0198 - accuracy: 0.9922 - val_loss: 0.0339 - val_accuracy: 0.9862\n",
      "Epoch 75/100\n",
      "37/37 [==============================] - 0s 4ms/step - loss: 0.0150 - accuracy: 0.9957 - val_loss: 0.0653 - val_accuracy: 0.9862\n",
      "Epoch 76/100\n",
      "37/37 [==============================] - 0s 4ms/step - loss: 0.0192 - accuracy: 0.9939 - val_loss: 0.0572 - val_accuracy: 0.9793\n",
      "Epoch 77/100\n",
      "37/37 [==============================] - 0s 4ms/step - loss: 0.0238 - accuracy: 0.9922 - val_loss: 0.0547 - val_accuracy: 0.9897\n",
      "Epoch 78/100\n",
      "37/37 [==============================] - 0s 4ms/step - loss: 0.0181 - accuracy: 0.9957 - val_loss: 0.0400 - val_accuracy: 0.9897\n",
      "Epoch 79/100\n",
      "37/37 [==============================] - 0s 4ms/step - loss: 0.0133 - accuracy: 0.9965 - val_loss: 0.0666 - val_accuracy: 0.9897\n",
      "Epoch 80/100\n",
      "37/37 [==============================] - 0s 4ms/step - loss: 0.0187 - accuracy: 0.9939 - val_loss: 0.0511 - val_accuracy: 0.9897\n",
      "Epoch 81/100\n",
      "37/37 [==============================] - 0s 4ms/step - loss: 0.0518 - accuracy: 0.9801 - val_loss: 0.0548 - val_accuracy: 0.9828\n",
      "Epoch 82/100\n",
      "37/37 [==============================] - 0s 6ms/step - loss: 0.0417 - accuracy: 0.9870 - val_loss: 0.0730 - val_accuracy: 0.9690\n",
      "Epoch 83/100\n",
      "37/37 [==============================] - 0s 4ms/step - loss: 0.0412 - accuracy: 0.9862 - val_loss: 0.1561 - val_accuracy: 0.9552\n",
      "Epoch 84/100\n",
      "37/37 [==============================] - 0s 4ms/step - loss: 0.0678 - accuracy: 0.9793 - val_loss: 0.0511 - val_accuracy: 0.9828\n",
      "Epoch 85/100\n",
      "37/37 [==============================] - 0s 4ms/step - loss: 0.0303 - accuracy: 0.9870 - val_loss: 0.0755 - val_accuracy: 0.9828\n",
      "Epoch 86/100\n",
      "37/37 [==============================] - 0s 4ms/step - loss: 0.0214 - accuracy: 0.9948 - val_loss: 0.0412 - val_accuracy: 0.9897\n",
      "Epoch 87/100\n",
      "37/37 [==============================] - 0s 4ms/step - loss: 0.0202 - accuracy: 0.9922 - val_loss: 0.0322 - val_accuracy: 0.9966\n",
      "Epoch 88/100\n",
      "37/37 [==============================] - 0s 4ms/step - loss: 0.0238 - accuracy: 0.9896 - val_loss: 0.0567 - val_accuracy: 0.9862\n",
      "Epoch 89/100\n",
      "37/37 [==============================] - 0s 4ms/step - loss: 0.0184 - accuracy: 0.9931 - val_loss: 0.0469 - val_accuracy: 0.9897\n",
      "Epoch 90/100\n",
      "37/37 [==============================] - 0s 4ms/step - loss: 0.0197 - accuracy: 0.9896 - val_loss: 0.0428 - val_accuracy: 0.9897\n",
      "Epoch 91/100\n",
      "37/37 [==============================] - 0s 4ms/step - loss: 0.0164 - accuracy: 0.9948 - val_loss: 0.0423 - val_accuracy: 0.9897\n",
      "Epoch 92/100\n",
      "37/37 [==============================] - 0s 4ms/step - loss: 0.0164 - accuracy: 0.9939 - val_loss: 0.0703 - val_accuracy: 0.9759\n",
      "Epoch 93/100\n",
      "37/37 [==============================] - 0s 4ms/step - loss: 0.0191 - accuracy: 0.9931 - val_loss: 0.0511 - val_accuracy: 0.9793\n",
      "Epoch 94/100\n",
      "37/37 [==============================] - 0s 4ms/step - loss: 0.0144 - accuracy: 0.9948 - val_loss: 0.0436 - val_accuracy: 0.9897\n",
      "Epoch 95/100\n",
      "37/37 [==============================] - 0s 4ms/step - loss: 0.0184 - accuracy: 0.9922 - val_loss: 0.0839 - val_accuracy: 0.9862\n",
      "Epoch 96/100\n",
      "37/37 [==============================] - 0s 4ms/step - loss: 0.0168 - accuracy: 0.9931 - val_loss: 0.0550 - val_accuracy: 0.9897\n",
      "Epoch 97/100\n",
      "37/37 [==============================] - 0s 4ms/step - loss: 0.0144 - accuracy: 0.9957 - val_loss: 0.0534 - val_accuracy: 0.9897\n",
      "Epoch 98/100\n",
      "37/37 [==============================] - 0s 4ms/step - loss: 0.0148 - accuracy: 0.9957 - val_loss: 0.0291 - val_accuracy: 0.9966\n",
      "Epoch 99/100\n",
      "37/37 [==============================] - 0s 4ms/step - loss: 0.0195 - accuracy: 0.9931 - val_loss: 0.0291 - val_accuracy: 0.9966\n",
      "Epoch 100/100\n",
      "37/37 [==============================] - 0s 4ms/step - loss: 0.0634 - accuracy: 0.9732 - val_loss: 0.1534 - val_accuracy: 0.9483\n"
     ]
    },
    {
     "data": {
      "text/plain": [
       "<keras.callbacks.History at 0x7f404361a650>"
      ]
     },
     "execution_count": 42,
     "metadata": {},
     "output_type": "execute_result"
    }
   ],
   "source": [
    "model= naural_natwork()\n",
    "\n",
    "model.compile(optimizer='adam', \n",
    "              loss='categorical_crossentropy', \n",
    "              metrics=['accuracy'])\n",
    "\n",
    "\n",
    "callback = EarlyStopping(monitor='val_accuracy', \n",
    "                                   mode='max', # don't minimize the accuracy!\n",
    "                                   patience=10,\n",
    "                                   restore_best_weights=True)\n",
    "\n",
    "\n",
    "\n",
    "model.fit(X_train, Y_train, \n",
    "          epochs=100, \n",
    "          validation_data=(X_test, Y_test), verbose=1)"
   ]
  },
  {
   "cell_type": "code",
   "execution_count": 43,
   "id": "44a4fe7e",
   "metadata": {
    "execution": {
     "iopub.execute_input": "2022-12-16T06:11:58.345480Z",
     "iopub.status.busy": "2022-12-16T06:11:58.345072Z",
     "iopub.status.idle": "2022-12-16T06:11:58.351057Z",
     "shell.execute_reply": "2022-12-16T06:11:58.350292Z"
    },
    "papermill": {
     "duration": 0.051074,
     "end_time": "2022-12-16T06:11:58.353452",
     "exception": false,
     "start_time": "2022-12-16T06:11:58.302378",
     "status": "completed"
    },
    "tags": []
   },
   "outputs": [
    {
     "name": "stdout",
     "output_type": "stream",
     "text": [
      "Model: \"sequential\"\n",
      "_________________________________________________________________\n",
      "Layer (type)                 Output Shape              Param #   \n",
      "=================================================================\n",
      "dense (Dense)                (None, 512)               12288     \n",
      "_________________________________________________________________\n",
      "dense_1 (Dense)              (None, 256)               131328    \n",
      "_________________________________________________________________\n",
      "dense_2 (Dense)              (None, 128)               32896     \n",
      "_________________________________________________________________\n",
      "dense_3 (Dense)              (None, 7)                 903       \n",
      "=================================================================\n",
      "Total params: 177,415\n",
      "Trainable params: 177,415\n",
      "Non-trainable params: 0\n",
      "_________________________________________________________________\n"
     ]
    }
   ],
   "source": [
    "model.summary()"
   ]
  },
  {
   "cell_type": "code",
   "execution_count": 44,
   "id": "539c6025",
   "metadata": {
    "execution": {
     "iopub.execute_input": "2022-12-16T06:11:58.436316Z",
     "iopub.status.busy": "2022-12-16T06:11:58.435889Z",
     "iopub.status.idle": "2022-12-16T06:11:58.440969Z",
     "shell.execute_reply": "2022-12-16T06:11:58.440042Z"
    },
    "papermill": {
     "duration": 0.048813,
     "end_time": "2022-12-16T06:11:58.443025",
     "exception": false,
     "start_time": "2022-12-16T06:11:58.394212",
     "status": "completed"
    },
    "tags": []
   },
   "outputs": [],
   "source": [
    "hist= model.history.history"
   ]
  },
  {
   "cell_type": "code",
   "execution_count": 45,
   "id": "1caff97b",
   "metadata": {
    "execution": {
     "iopub.execute_input": "2022-12-16T06:11:58.529543Z",
     "iopub.status.busy": "2022-12-16T06:11:58.528415Z",
     "iopub.status.idle": "2022-12-16T06:11:58.534310Z",
     "shell.execute_reply": "2022-12-16T06:11:58.533575Z"
    },
    "papermill": {
     "duration": 0.051427,
     "end_time": "2022-12-16T06:11:58.536354",
     "exception": false,
     "start_time": "2022-12-16T06:11:58.484927",
     "status": "completed"
    },
    "tags": []
   },
   "outputs": [
    {
     "data": {
      "text/plain": [
       "dict_keys(['loss', 'accuracy', 'val_loss', 'val_accuracy'])"
      ]
     },
     "execution_count": 45,
     "metadata": {},
     "output_type": "execute_result"
    }
   ],
   "source": [
    "hist.keys()"
   ]
  },
  {
   "cell_type": "code",
   "execution_count": 46,
   "id": "b09d0379",
   "metadata": {
    "execution": {
     "iopub.execute_input": "2022-12-16T06:11:58.620483Z",
     "iopub.status.busy": "2022-12-16T06:11:58.619272Z",
     "iopub.status.idle": "2022-12-16T06:11:58.624147Z",
     "shell.execute_reply": "2022-12-16T06:11:58.623468Z"
    },
    "papermill": {
     "duration": 0.048377,
     "end_time": "2022-12-16T06:11:58.625920",
     "exception": false,
     "start_time": "2022-12-16T06:11:58.577543",
     "status": "completed"
    },
    "tags": []
   },
   "outputs": [],
   "source": [
    "acc, val_acc = hist['accuracy'], hist['val_accuracy']\n",
    "loss = hist['loss']\n",
    "val_loss = hist['val_loss']"
   ]
  },
  {
   "cell_type": "code",
   "execution_count": 47,
   "id": "edf7b557",
   "metadata": {
    "execution": {
     "iopub.execute_input": "2022-12-16T06:11:58.710123Z",
     "iopub.status.busy": "2022-12-16T06:11:58.709172Z",
     "iopub.status.idle": "2022-12-16T06:11:59.117701Z",
     "shell.execute_reply": "2022-12-16T06:11:59.116912Z"
    },
    "papermill": {
     "duration": 0.452813,
     "end_time": "2022-12-16T06:11:59.119923",
     "exception": false,
     "start_time": "2022-12-16T06:11:58.667110",
     "status": "completed"
    },
    "tags": []
   },
   "outputs": [
    {
     "name": "stdout",
     "output_type": "stream",
     "text": [
      "\n"
     ]
    },
    {
     "data": {
      "image/png": "[encoded data removed]",
      "text/plain": [
       "<Figure size 576x576 with 2 Axes>"
      ]
     },
     "metadata": {},
     "output_type": "display_data"
    }
   ],
   "source": [
    "plt.figure(figsize=(8, 8))\n",
    "plt.subplot(2, 1, 1)\n",
    "plt.plot(acc, label='Training Accuracy')\n",
    "plt.plot(val_acc, label='Validation Accuracy')\n",
    "plt.ylim([0, 1])\n",
    "plt.legend(loc='lower right')\n",
    "plt.title('Training and Validation Accuracy (Deep Neural Network V1)')\n",
    "\n",
    "print('')\n",
    "\n",
    "plt.subplot(2, 1, 2)\n",
    "plt.plot(loss, label='Training Loss')\n",
    "plt.plot(val_loss, label='Validation Loss')\n",
    "plt.ylim([0, 1.0])\n",
    "\n",
    "plt.legend(loc='upper right')\n",
    "plt.title('Training and Validation Loss(Deep Neural Network V2)')\n",
    "plt.xlabel('epoch')\n",
    "plt.show()"
   ]
  },
  {
   "cell_type": "code",
   "execution_count": 48,
   "id": "b989fd4b",
   "metadata": {
    "execution": {
     "iopub.execute_input": "2022-12-16T06:11:59.208029Z",
     "iopub.status.busy": "2022-12-16T06:11:59.206778Z",
     "iopub.status.idle": "2022-12-16T06:11:59.213866Z",
     "shell.execute_reply": "2022-12-16T06:11:59.212791Z"
    },
    "papermill": {
     "duration": 0.053183,
     "end_time": "2022-12-16T06:11:59.216052",
     "exception": false,
     "start_time": "2022-12-16T06:11:59.162869",
     "status": "completed"
    },
    "tags": []
   },
   "outputs": [],
   "source": [
    "def neural_network_2():\n",
    "    model = Sequential()\n",
    "    model.add(Dense(256, activation='relu', input_shape=(X_arr.shape[1],)))\n",
    "    model.add(Dense(128, activation='relu'))\n",
    "    model.add(Dense(64, activation='relu'))\n",
    "    model.add(Dense(7, activation='softmax'))\n",
    "    return model"
   ]
  },
  {
   "cell_type": "code",
   "execution_count": 49,
   "id": "bafb3193",
   "metadata": {
    "execution": {
     "iopub.execute_input": "2022-12-16T06:11:59.302472Z",
     "iopub.status.busy": "2022-12-16T06:11:59.302061Z",
     "iopub.status.idle": "2022-12-16T06:11:59.342267Z",
     "shell.execute_reply": "2022-12-16T06:11:59.341258Z"
    },
    "papermill": {
     "duration": 0.086601,
     "end_time": "2022-12-16T06:11:59.344828",
     "exception": false,
     "start_time": "2022-12-16T06:11:59.258227",
     "status": "completed"
    },
    "tags": []
   },
   "outputs": [
    {
     "name": "stdout",
     "output_type": "stream",
     "text": [
      "Model: \"sequential_1\"\n",
      "_________________________________________________________________\n",
      "Layer (type)                 Output Shape              Param #   \n",
      "=================================================================\n",
      "dense_4 (Dense)              (None, 256)               6144      \n",
      "_________________________________________________________________\n",
      "dense_5 (Dense)              (None, 128)               32896     \n",
      "_________________________________________________________________\n",
      "dense_6 (Dense)              (None, 64)                8256      \n",
      "_________________________________________________________________\n",
      "dense_7 (Dense)              (None, 7)                 455       \n",
      "=================================================================\n",
      "Total params: 47,751\n",
      "Trainable params: 47,751\n",
      "Non-trainable params: 0\n",
      "_________________________________________________________________\n"
     ]
    }
   ],
   "source": [
    "model_2 = neural_network_2()\n",
    "model_2.summary()"
   ]
  },
  {
   "cell_type": "code",
   "execution_count": 50,
   "id": "61b61ff7",
   "metadata": {
    "execution": {
     "iopub.execute_input": "2022-12-16T06:11:59.431483Z",
     "iopub.status.busy": "2022-12-16T06:11:59.431044Z",
     "iopub.status.idle": "2022-12-16T06:12:13.900394Z",
     "shell.execute_reply": "2022-12-16T06:12:13.899309Z"
    },
    "papermill": {
     "duration": 14.515236,
     "end_time": "2022-12-16T06:12:13.902633",
     "exception": false,
     "start_time": "2022-12-16T06:11:59.387397",
     "status": "completed"
    },
    "tags": []
   },
   "outputs": [
    {
     "name": "stdout",
     "output_type": "stream",
     "text": [
      "Epoch 1/100\n",
      "37/37 [==============================] - 1s 8ms/step - loss: 1.8211 - accuracy: 0.3181 - val_loss: 1.4381 - val_accuracy: 0.5207\n",
      "Epoch 2/100\n",
      "37/37 [==============================] - 0s 3ms/step - loss: 1.2991 - accuracy: 0.5557 - val_loss: 1.0942 - val_accuracy: 0.6345\n",
      "Epoch 3/100\n",
      "37/37 [==============================] - 0s 3ms/step - loss: 0.9721 - accuracy: 0.6560 - val_loss: 0.8438 - val_accuracy: 0.7345\n",
      "Epoch 4/100\n",
      "37/37 [==============================] - 0s 3ms/step - loss: 0.7391 - accuracy: 0.7615 - val_loss: 0.6386 - val_accuracy: 0.7897\n",
      "Epoch 5/100\n",
      "37/37 [==============================] - 0s 3ms/step - loss: 0.5771 - accuracy: 0.8280 - val_loss: 0.5419 - val_accuracy: 0.8172\n",
      "Epoch 6/100\n",
      "37/37 [==============================] - 0s 3ms/step - loss: 0.4849 - accuracy: 0.8418 - val_loss: 0.5035 - val_accuracy: 0.8448\n",
      "Epoch 7/100\n",
      "37/37 [==============================] - 0s 3ms/step - loss: 0.3673 - accuracy: 0.8868 - val_loss: 0.4442 - val_accuracy: 0.8552\n",
      "Epoch 8/100\n",
      "37/37 [==============================] - 0s 3ms/step - loss: 0.3262 - accuracy: 0.8963 - val_loss: 0.3981 - val_accuracy: 0.8621\n",
      "Epoch 9/100\n",
      "37/37 [==============================] - 0s 3ms/step - loss: 0.2967 - accuracy: 0.8997 - val_loss: 0.3280 - val_accuracy: 0.8931\n",
      "Epoch 10/100\n",
      "37/37 [==============================] - 0s 4ms/step - loss: 0.2334 - accuracy: 0.9222 - val_loss: 0.2676 - val_accuracy: 0.9000\n",
      "Epoch 11/100\n",
      "37/37 [==============================] - 0s 4ms/step - loss: 0.2199 - accuracy: 0.9213 - val_loss: 0.2520 - val_accuracy: 0.9103\n",
      "Epoch 12/100\n",
      "37/37 [==============================] - 0s 3ms/step - loss: 0.2111 - accuracy: 0.9274 - val_loss: 0.2333 - val_accuracy: 0.9172\n",
      "Epoch 13/100\n",
      "37/37 [==============================] - 0s 3ms/step - loss: 0.1919 - accuracy: 0.9283 - val_loss: 0.2343 - val_accuracy: 0.9172\n",
      "Epoch 14/100\n",
      "37/37 [==============================] - 0s 3ms/step - loss: 0.1701 - accuracy: 0.9421 - val_loss: 0.2548 - val_accuracy: 0.9034\n",
      "Epoch 15/100\n",
      "37/37 [==============================] - 0s 3ms/step - loss: 0.1690 - accuracy: 0.9430 - val_loss: 0.2244 - val_accuracy: 0.9103\n",
      "Epoch 16/100\n",
      "37/37 [==============================] - 0s 3ms/step - loss: 0.1650 - accuracy: 0.9386 - val_loss: 0.1973 - val_accuracy: 0.9172\n",
      "Epoch 17/100\n",
      "37/37 [==============================] - 0s 4ms/step - loss: 0.1838 - accuracy: 0.9309 - val_loss: 0.2113 - val_accuracy: 0.9241\n",
      "Epoch 18/100\n",
      "37/37 [==============================] - 0s 4ms/step - loss: 0.1433 - accuracy: 0.9481 - val_loss: 0.1768 - val_accuracy: 0.9207\n",
      "Epoch 19/100\n",
      "37/37 [==============================] - 0s 3ms/step - loss: 0.1647 - accuracy: 0.9386 - val_loss: 0.1546 - val_accuracy: 0.9552\n",
      "Epoch 20/100\n",
      "37/37 [==============================] - 0s 3ms/step - loss: 0.1521 - accuracy: 0.9421 - val_loss: 0.1966 - val_accuracy: 0.9034\n",
      "Epoch 21/100\n",
      "37/37 [==============================] - 0s 3ms/step - loss: 0.1809 - accuracy: 0.9274 - val_loss: 0.1747 - val_accuracy: 0.9207\n",
      "Epoch 22/100\n",
      "37/37 [==============================] - 0s 3ms/step - loss: 0.1937 - accuracy: 0.9162 - val_loss: 0.2133 - val_accuracy: 0.9207\n",
      "Epoch 23/100\n",
      "37/37 [==============================] - 0s 4ms/step - loss: 0.1524 - accuracy: 0.9404 - val_loss: 0.1791 - val_accuracy: 0.9379\n",
      "Epoch 24/100\n",
      "37/37 [==============================] - 0s 3ms/step - loss: 0.1246 - accuracy: 0.9507 - val_loss: 0.2129 - val_accuracy: 0.9276\n",
      "Epoch 25/100\n",
      "37/37 [==============================] - 0s 3ms/step - loss: 0.1194 - accuracy: 0.9507 - val_loss: 0.1623 - val_accuracy: 0.9483\n",
      "Epoch 26/100\n",
      "37/37 [==============================] - 0s 4ms/step - loss: 0.1678 - accuracy: 0.9283 - val_loss: 0.1610 - val_accuracy: 0.9207\n",
      "Epoch 27/100\n",
      "37/37 [==============================] - 0s 3ms/step - loss: 0.1170 - accuracy: 0.9568 - val_loss: 0.1302 - val_accuracy: 0.9517\n",
      "Epoch 28/100\n",
      "37/37 [==============================] - 0s 3ms/step - loss: 0.1041 - accuracy: 0.9628 - val_loss: 0.1239 - val_accuracy: 0.9517\n",
      "Epoch 29/100\n",
      "37/37 [==============================] - 0s 4ms/step - loss: 0.1116 - accuracy: 0.9602 - val_loss: 0.1410 - val_accuracy: 0.9517\n",
      "Epoch 30/100\n",
      "37/37 [==============================] - 0s 3ms/step - loss: 0.1400 - accuracy: 0.9499 - val_loss: 0.1153 - val_accuracy: 0.9552\n",
      "Epoch 31/100\n",
      "37/37 [==============================] - 0s 4ms/step - loss: 0.1003 - accuracy: 0.9663 - val_loss: 0.1269 - val_accuracy: 0.9483\n",
      "Epoch 32/100\n",
      "37/37 [==============================] - 0s 4ms/step - loss: 0.1003 - accuracy: 0.9628 - val_loss: 0.1407 - val_accuracy: 0.9276\n",
      "Epoch 33/100\n",
      "37/37 [==============================] - 0s 3ms/step - loss: 0.1008 - accuracy: 0.9672 - val_loss: 0.1643 - val_accuracy: 0.9448\n",
      "Epoch 34/100\n",
      "37/37 [==============================] - 0s 3ms/step - loss: 0.1085 - accuracy: 0.9663 - val_loss: 0.1718 - val_accuracy: 0.9207\n",
      "Epoch 35/100\n",
      "37/37 [==============================] - 0s 3ms/step - loss: 0.1060 - accuracy: 0.9568 - val_loss: 0.1160 - val_accuracy: 0.9517\n",
      "Epoch 36/100\n",
      "37/37 [==============================] - 0s 3ms/step - loss: 0.0991 - accuracy: 0.9663 - val_loss: 0.1373 - val_accuracy: 0.9552\n",
      "Epoch 37/100\n",
      "37/37 [==============================] - 0s 4ms/step - loss: 0.0985 - accuracy: 0.9654 - val_loss: 0.1067 - val_accuracy: 0.9586\n",
      "Epoch 38/100\n",
      "37/37 [==============================] - 0s 4ms/step - loss: 0.0949 - accuracy: 0.9706 - val_loss: 0.1887 - val_accuracy: 0.9517\n",
      "Epoch 39/100\n",
      "37/37 [==============================] - 0s 4ms/step - loss: 0.1275 - accuracy: 0.9525 - val_loss: 0.1083 - val_accuracy: 0.9552\n",
      "Epoch 40/100\n",
      "37/37 [==============================] - 0s 3ms/step - loss: 0.1054 - accuracy: 0.9611 - val_loss: 0.1251 - val_accuracy: 0.9276\n",
      "Epoch 41/100\n",
      "37/37 [==============================] - 0s 4ms/step - loss: 0.1006 - accuracy: 0.9585 - val_loss: 0.1114 - val_accuracy: 0.9586\n",
      "Epoch 42/100\n",
      "37/37 [==============================] - 0s 3ms/step - loss: 0.1240 - accuracy: 0.9490 - val_loss: 0.0890 - val_accuracy: 0.9793\n",
      "Epoch 43/100\n",
      "37/37 [==============================] - 0s 3ms/step - loss: 0.0904 - accuracy: 0.9697 - val_loss: 0.1325 - val_accuracy: 0.9414\n",
      "Epoch 44/100\n",
      "37/37 [==============================] - 0s 3ms/step - loss: 0.1006 - accuracy: 0.9576 - val_loss: 0.1112 - val_accuracy: 0.9517\n",
      "Epoch 45/100\n",
      "37/37 [==============================] - 0s 3ms/step - loss: 0.0722 - accuracy: 0.9732 - val_loss: 0.0856 - val_accuracy: 0.9759\n",
      "Epoch 46/100\n",
      "37/37 [==============================] - 0s 3ms/step - loss: 0.0901 - accuracy: 0.9646 - val_loss: 0.0952 - val_accuracy: 0.9655\n",
      "Epoch 47/100\n",
      "37/37 [==============================] - 0s 3ms/step - loss: 0.0986 - accuracy: 0.9576 - val_loss: 0.0902 - val_accuracy: 0.9690\n",
      "Epoch 48/100\n",
      "37/37 [==============================] - 0s 3ms/step - loss: 0.0711 - accuracy: 0.9741 - val_loss: 0.0752 - val_accuracy: 0.9793\n",
      "Epoch 49/100\n",
      "37/37 [==============================] - 0s 5ms/step - loss: 0.0648 - accuracy: 0.9767 - val_loss: 0.0782 - val_accuracy: 0.9793\n",
      "Epoch 50/100\n",
      "37/37 [==============================] - 0s 3ms/step - loss: 0.0602 - accuracy: 0.9775 - val_loss: 0.0859 - val_accuracy: 0.9655\n",
      "Epoch 51/100\n",
      "37/37 [==============================] - 0s 3ms/step - loss: 0.0551 - accuracy: 0.9801 - val_loss: 0.0836 - val_accuracy: 0.9586\n",
      "Epoch 52/100\n",
      "37/37 [==============================] - 0s 3ms/step - loss: 0.0617 - accuracy: 0.9758 - val_loss: 0.0977 - val_accuracy: 0.9621\n",
      "Epoch 53/100\n",
      "37/37 [==============================] - 0s 3ms/step - loss: 0.0678 - accuracy: 0.9741 - val_loss: 0.0825 - val_accuracy: 0.9655\n",
      "Epoch 54/100\n",
      "37/37 [==============================] - 0s 3ms/step - loss: 0.0572 - accuracy: 0.9775 - val_loss: 0.0855 - val_accuracy: 0.9655\n",
      "Epoch 55/100\n",
      "37/37 [==============================] - 0s 3ms/step - loss: 0.0477 - accuracy: 0.9836 - val_loss: 0.0753 - val_accuracy: 0.9793\n",
      "Epoch 56/100\n",
      "37/37 [==============================] - 0s 3ms/step - loss: 0.0575 - accuracy: 0.9810 - val_loss: 0.0670 - val_accuracy: 0.9828\n",
      "Epoch 57/100\n",
      "37/37 [==============================] - 0s 4ms/step - loss: 0.0477 - accuracy: 0.9810 - val_loss: 0.0792 - val_accuracy: 0.9724\n",
      "Epoch 58/100\n",
      "37/37 [==============================] - 0s 4ms/step - loss: 0.0608 - accuracy: 0.9784 - val_loss: 0.0706 - val_accuracy: 0.9759\n",
      "Epoch 59/100\n",
      "37/37 [==============================] - 0s 4ms/step - loss: 0.0461 - accuracy: 0.9844 - val_loss: 0.0924 - val_accuracy: 0.9724\n",
      "Epoch 60/100\n",
      "37/37 [==============================] - 0s 3ms/step - loss: 0.0478 - accuracy: 0.9862 - val_loss: 0.0786 - val_accuracy: 0.9793\n",
      "Epoch 61/100\n",
      "37/37 [==============================] - 0s 3ms/step - loss: 0.0350 - accuracy: 0.9896 - val_loss: 0.0674 - val_accuracy: 0.9862\n",
      "Epoch 62/100\n",
      "37/37 [==============================] - 0s 4ms/step - loss: 0.0475 - accuracy: 0.9870 - val_loss: 0.1457 - val_accuracy: 0.9690\n",
      "Epoch 63/100\n",
      "37/37 [==============================] - 0s 4ms/step - loss: 0.1199 - accuracy: 0.9568 - val_loss: 0.0883 - val_accuracy: 0.9724\n",
      "Epoch 64/100\n",
      "37/37 [==============================] - 0s 3ms/step - loss: 0.0673 - accuracy: 0.9793 - val_loss: 0.0674 - val_accuracy: 0.9724\n",
      "Epoch 65/100\n",
      "37/37 [==============================] - 0s 3ms/step - loss: 0.0533 - accuracy: 0.9818 - val_loss: 0.0765 - val_accuracy: 0.9724\n",
      "Epoch 66/100\n",
      "37/37 [==============================] - 0s 3ms/step - loss: 0.0390 - accuracy: 0.9896 - val_loss: 0.0792 - val_accuracy: 0.9793\n",
      "Epoch 67/100\n",
      "37/37 [==============================] - 0s 3ms/step - loss: 0.0378 - accuracy: 0.9879 - val_loss: 0.0892 - val_accuracy: 0.9724\n",
      "Epoch 68/100\n",
      "37/37 [==============================] - 0s 3ms/step - loss: 0.0586 - accuracy: 0.9793 - val_loss: 0.0741 - val_accuracy: 0.9828\n",
      "Epoch 69/100\n",
      "37/37 [==============================] - 0s 3ms/step - loss: 0.0348 - accuracy: 0.9862 - val_loss: 0.0851 - val_accuracy: 0.9655\n",
      "Epoch 70/100\n",
      "37/37 [==============================] - 0s 3ms/step - loss: 0.0372 - accuracy: 0.9870 - val_loss: 0.1225 - val_accuracy: 0.9655\n",
      "Epoch 71/100\n",
      "37/37 [==============================] - 0s 3ms/step - loss: 0.0364 - accuracy: 0.9896 - val_loss: 0.0534 - val_accuracy: 0.9862\n",
      "Epoch 72/100\n",
      "37/37 [==============================] - 0s 3ms/step - loss: 0.0316 - accuracy: 0.9853 - val_loss: 0.0692 - val_accuracy: 0.9862\n",
      "Epoch 73/100\n",
      "37/37 [==============================] - 0s 3ms/step - loss: 0.0274 - accuracy: 0.9922 - val_loss: 0.0582 - val_accuracy: 0.9862\n",
      "Epoch 74/100\n",
      "37/37 [==============================] - 0s 4ms/step - loss: 0.0341 - accuracy: 0.9914 - val_loss: 0.0668 - val_accuracy: 0.9897\n",
      "Epoch 75/100\n",
      "37/37 [==============================] - 0s 3ms/step - loss: 0.0364 - accuracy: 0.9888 - val_loss: 0.0630 - val_accuracy: 0.9828\n",
      "Epoch 76/100\n",
      "37/37 [==============================] - 0s 3ms/step - loss: 0.0300 - accuracy: 0.9888 - val_loss: 0.0779 - val_accuracy: 0.9759\n",
      "Epoch 77/100\n",
      "37/37 [==============================] - 0s 4ms/step - loss: 0.0328 - accuracy: 0.9905 - val_loss: 0.0963 - val_accuracy: 0.9690\n",
      "Epoch 78/100\n",
      "37/37 [==============================] - 0s 4ms/step - loss: 0.0456 - accuracy: 0.9853 - val_loss: 0.0538 - val_accuracy: 0.9759\n",
      "Epoch 79/100\n",
      "37/37 [==============================] - 0s 3ms/step - loss: 0.0300 - accuracy: 0.9905 - val_loss: 0.0633 - val_accuracy: 0.9828\n",
      "Epoch 80/100\n",
      "37/37 [==============================] - 0s 3ms/step - loss: 0.0355 - accuracy: 0.9853 - val_loss: 0.1059 - val_accuracy: 0.9655\n",
      "Epoch 81/100\n",
      "37/37 [==============================] - 0s 4ms/step - loss: 0.0319 - accuracy: 0.9888 - val_loss: 0.0499 - val_accuracy: 0.9897\n",
      "Epoch 82/100\n",
      "37/37 [==============================] - 0s 4ms/step - loss: 0.0382 - accuracy: 0.9827 - val_loss: 0.0959 - val_accuracy: 0.9759\n",
      "Epoch 83/100\n",
      "37/37 [==============================] - 0s 3ms/step - loss: 0.0605 - accuracy: 0.9810 - val_loss: 0.0706 - val_accuracy: 0.9759\n",
      "Epoch 84/100\n",
      "37/37 [==============================] - 0s 4ms/step - loss: 0.0392 - accuracy: 0.9853 - val_loss: 0.0426 - val_accuracy: 0.9897\n",
      "Epoch 85/100\n",
      "37/37 [==============================] - 0s 3ms/step - loss: 0.0315 - accuracy: 0.9888 - val_loss: 0.1233 - val_accuracy: 0.9793\n",
      "Epoch 86/100\n",
      "37/37 [==============================] - 0s 4ms/step - loss: 0.0488 - accuracy: 0.9818 - val_loss: 0.0499 - val_accuracy: 0.9897\n",
      "Epoch 87/100\n",
      "37/37 [==============================] - 0s 3ms/step - loss: 0.1131 - accuracy: 0.9663 - val_loss: 0.0923 - val_accuracy: 0.9690\n",
      "Epoch 88/100\n",
      "37/37 [==============================] - 0s 4ms/step - loss: 0.0381 - accuracy: 0.9879 - val_loss: 0.0549 - val_accuracy: 0.9862\n",
      "Epoch 89/100\n",
      "37/37 [==============================] - 0s 3ms/step - loss: 0.0246 - accuracy: 0.9905 - val_loss: 0.0464 - val_accuracy: 0.9897\n",
      "Epoch 90/100\n",
      "37/37 [==============================] - 0s 4ms/step - loss: 0.0332 - accuracy: 0.9870 - val_loss: 0.0725 - val_accuracy: 0.9862\n",
      "Epoch 91/100\n",
      "37/37 [==============================] - 0s 3ms/step - loss: 0.0236 - accuracy: 0.9922 - val_loss: 0.0580 - val_accuracy: 0.9897\n",
      "Epoch 92/100\n",
      "37/37 [==============================] - 0s 3ms/step - loss: 0.0325 - accuracy: 0.9862 - val_loss: 0.0801 - val_accuracy: 0.9690\n",
      "Epoch 93/100\n",
      "37/37 [==============================] - 0s 4ms/step - loss: 0.0300 - accuracy: 0.9888 - val_loss: 0.0501 - val_accuracy: 0.9828\n",
      "Epoch 94/100\n",
      "37/37 [==============================] - 0s 4ms/step - loss: 0.0238 - accuracy: 0.9914 - val_loss: 0.0549 - val_accuracy: 0.9897\n",
      "Epoch 95/100\n",
      "37/37 [==============================] - 0s 4ms/step - loss: 0.0277 - accuracy: 0.9896 - val_loss: 0.0459 - val_accuracy: 0.9793\n",
      "Epoch 96/100\n",
      "37/37 [==============================] - 0s 7ms/step - loss: 0.0335 - accuracy: 0.9853 - val_loss: 0.0526 - val_accuracy: 0.9862\n",
      "Epoch 97/100\n",
      "37/37 [==============================] - 0s 10ms/step - loss: 0.0214 - accuracy: 0.9931 - val_loss: 0.0744 - val_accuracy: 0.9793\n",
      "Epoch 98/100\n",
      "37/37 [==============================] - 0s 8ms/step - loss: 0.0216 - accuracy: 0.9914 - val_loss: 0.0600 - val_accuracy: 0.9897\n",
      "Epoch 99/100\n",
      "37/37 [==============================] - 0s 4ms/step - loss: 0.0261 - accuracy: 0.9914 - val_loss: 0.0496 - val_accuracy: 0.9931\n",
      "Epoch 100/100\n",
      "37/37 [==============================] - 0s 3ms/step - loss: 0.0426 - accuracy: 0.9836 - val_loss: 0.0738 - val_accuracy: 0.9828\n"
     ]
    },
    {
     "data": {
      "text/plain": [
       "<keras.callbacks.History at 0x7f402b73c610>"
      ]
     },
     "execution_count": 50,
     "metadata": {},
     "output_type": "execute_result"
    }
   ],
   "source": [
    "model_2.compile(optimizer='adam',\n",
    "                loss='categorical_crossentropy', \n",
    "              metrics=['accuracy'])\n",
    "\n",
    "# setting a callback for controlling model's performance\n",
    "callback = EarlyStopping(monitor='val_accuracy', \n",
    "                                   mode='max',\n",
    "                                   patience=10,\n",
    "                                   restore_best_weights=True)\n",
    "\n",
    "\n",
    "# fitting the model to training data\n",
    "model_2.fit(X_train, Y_train, \n",
    "          epochs=100, \n",
    "          validation_data=(X_test, Y_test), \n",
    "          verbose=1)"
   ]
  },
  {
   "cell_type": "code",
   "execution_count": 51,
   "id": "6bbcfb10",
   "metadata": {
    "execution": {
     "iopub.execute_input": "2022-12-16T06:12:14.026998Z",
     "iopub.status.busy": "2022-12-16T06:12:14.026601Z",
     "iopub.status.idle": "2022-12-16T06:12:14.031560Z",
     "shell.execute_reply": "2022-12-16T06:12:14.030282Z"
    },
    "papermill": {
     "duration": 0.069948,
     "end_time": "2022-12-16T06:12:14.033606",
     "exception": false,
     "start_time": "2022-12-16T06:12:13.963658",
     "status": "completed"
    },
    "tags": []
   },
   "outputs": [],
   "source": [
    "hist_2 = model_2.history.history"
   ]
  },
  {
   "cell_type": "code",
   "execution_count": 52,
   "id": "ada295e2",
   "metadata": {
    "execution": {
     "iopub.execute_input": "2022-12-16T06:12:14.159220Z",
     "iopub.status.busy": "2022-12-16T06:12:14.158800Z",
     "iopub.status.idle": "2022-12-16T06:12:14.163957Z",
     "shell.execute_reply": "2022-12-16T06:12:14.162917Z"
    },
    "papermill": {
     "duration": 0.070386,
     "end_time": "2022-12-16T06:12:14.166090",
     "exception": false,
     "start_time": "2022-12-16T06:12:14.095704",
     "status": "completed"
    },
    "tags": []
   },
   "outputs": [],
   "source": [
    "acc_2, val_acc_2 = hist_2['accuracy'], hist_2['val_accuracy']\n",
    "loss_2 = hist_2['loss']\n",
    "val_loss_2 = hist_2['val_loss']"
   ]
  },
  {
   "cell_type": "code",
   "execution_count": 53,
   "id": "570c4aee",
   "metadata": {
    "execution": {
     "iopub.execute_input": "2022-12-16T06:12:14.289976Z",
     "iopub.status.busy": "2022-12-16T06:12:14.289583Z",
     "iopub.status.idle": "2022-12-16T06:12:14.924671Z",
     "shell.execute_reply": "2022-12-16T06:12:14.923743Z"
    },
    "papermill": {
     "duration": 0.699458,
     "end_time": "2022-12-16T06:12:14.926618",
     "exception": false,
     "start_time": "2022-12-16T06:12:14.227160",
     "status": "completed"
    },
    "tags": []
   },
   "outputs": [
    {
     "name": "stdout",
     "output_type": "stream",
     "text": [
      "\n"
     ]
    },
    {
     "data": {
      "image/png": "[encoded data removed]",
      "text/plain": [
       "<Figure size 576x576 with 2 Axes>"
      ]
     },
     "metadata": {},
     "output_type": "display_data"
    }
   ],
   "source": [
    "plt.figure(figsize=(8, 8))\n",
    "plt.subplot(2, 1, 1)\n",
    "plt.plot(acc_2, label='Training Accuracy of DNN 2')\n",
    "plt.plot(val_acc_2, label='Validation Accuracy of DNN 2')\n",
    "plt.ylim([0, 1])\n",
    "plt.legend(loc='lower right')\n",
    "plt.title('Training and Validation Accuracy (Deep Neural Network V2)')\n",
    "\n",
    "print('')\n",
    "\n",
    "plt.subplot(2, 1, 2)\n",
    "plt.plot(loss_2, label='Training Loss of DNN 2')\n",
    "plt.plot(val_loss_2, label='Validation Loss of DNN 2')\n",
    "plt.ylim([0, 1.0])\n",
    "\n",
    "plt.legend(loc='upper right')\n",
    "plt.title('Training and Validation Loss (Deep Neural Network V2)')\n",
    "plt.xlabel('epoch')\n",
    "plt.show()"
   ]
  },
  {
   "cell_type": "code",
   "execution_count": 54,
   "id": "23540aa2",
   "metadata": {
    "execution": {
     "iopub.execute_input": "2022-12-16T06:12:15.053443Z",
     "iopub.status.busy": "2022-12-16T06:12:15.053026Z",
     "iopub.status.idle": "2022-12-16T06:12:15.229456Z",
     "shell.execute_reply": "2022-12-16T06:12:15.227796Z"
    },
    "papermill": {
     "duration": 0.24295,
     "end_time": "2022-12-16T06:12:15.231870",
     "exception": false,
     "start_time": "2022-12-16T06:12:14.988920",
     "status": "completed"
    },
    "tags": []
   },
   "outputs": [
    {
     "name": "stdout",
     "output_type": "stream",
     "text": [
      "10/10 [==============================] - 0s 2ms/step - loss: 0.1534 - accuracy: 0.9483\n",
      "10/10 [==============================] - 0s 2ms/step - loss: 0.0738 - accuracy: 0.9828\n",
      "accuracy: 94.83%\n",
      "Accuracy of First Deep Neural Network: 94.83\n",
      "Loss of First Deep Neural Network: 0.1534\n",
      "\n",
      "accuracy: 98.28%\n",
      "Accuracy of Second Deep Neural Network: 98.28\n",
      "Loss of Second Deep Neural Network: 0.0738\n"
     ]
    }
   ],
   "source": [
    "# evaluate the model\n",
    "score = model.evaluate(X_test, Y_test)\n",
    "score_2 = model_2.evaluate(X_test, Y_test)\n",
    "\n",
    "# print accuracies of models \n",
    "print(\"%s: %.2f%%\" % (model.metrics_names[1], score[1] * 100))\n",
    "print('Accuracy of First Deep Neural Network: %.2f' % (score[1]*100))\n",
    "print('Loss of First Deep Neural Network: %.4f' % (score[0]))\n",
    "\n",
    "print('')\n",
    "\n",
    "print(\"%s: %.2f%%\" % (model_2.metrics_names[1], score_2[1] * 100))\n",
    "print('Accuracy of Second Deep Neural Network: %.2f' % (score_2[1]*100))\n",
    "print('Loss of Second Deep Neural Network: %.4f' % (score_2[0]))"
   ]
  },
  {
   "cell_type": "code",
   "execution_count": 55,
   "id": "7be78543",
   "metadata": {
    "execution": {
     "iopub.execute_input": "2022-12-16T06:12:15.360627Z",
     "iopub.status.busy": "2022-12-16T06:12:15.360190Z",
     "iopub.status.idle": "2022-12-16T06:12:15.589588Z",
     "shell.execute_reply": "2022-12-16T06:12:15.588643Z"
    },
    "papermill": {
     "duration": 0.29703,
     "end_time": "2022-12-16T06:12:15.592080",
     "exception": false,
     "start_time": "2022-12-16T06:12:15.295050",
     "status": "completed"
    },
    "tags": []
   },
   "outputs": [],
   "source": [
    "y_hat_nn1 = model.predict(X_test)\n",
    "pred_nn1 = np.argmax(model.predict(X_test), axis=1)\n",
    "Y_test_class_1 = np.argmax(Y_test, axis=1)"
   ]
  },
  {
   "cell_type": "code",
   "execution_count": 56,
   "id": "629b3704",
   "metadata": {
    "execution": {
     "iopub.execute_input": "2022-12-16T06:12:15.718799Z",
     "iopub.status.busy": "2022-12-16T06:12:15.718402Z",
     "iopub.status.idle": "2022-12-16T06:12:15.728652Z",
     "shell.execute_reply": "2022-12-16T06:12:15.727268Z"
    },
    "papermill": {
     "duration": 0.076548,
     "end_time": "2022-12-16T06:12:15.731149",
     "exception": false,
     "start_time": "2022-12-16T06:12:15.654601",
     "status": "completed"
    },
    "tags": []
   },
   "outputs": [
    {
     "name": "stdout",
     "output_type": "stream",
     "text": [
      "Classification Report of Deep Neural Network 1\n",
      "              precision    recall  f1-score   support\n",
      "\n",
      "           0       0.96      1.00      0.98        47\n",
      "           1       0.87      0.87      0.87        31\n",
      "           2       1.00      0.97      0.99        40\n",
      "           3       0.98      1.00      0.99        41\n",
      "           4       0.82      1.00      0.90        36\n",
      "           5       1.00      0.81      0.89        52\n",
      "           6       1.00      1.00      1.00        43\n",
      "\n",
      "    accuracy                           0.95       290\n",
      "   macro avg       0.95      0.95      0.95       290\n",
      "weighted avg       0.95      0.95      0.95       290\n",
      "\n"
     ]
    }
   ],
   "source": [
    "print('Classification Report of Deep Neural Network 1')\n",
    "print(classification_report(Y_test_class_1, pred_nn1))"
   ]
  },
  {
   "cell_type": "code",
   "execution_count": 57,
   "id": "c2a82a13",
   "metadata": {
    "execution": {
     "iopub.execute_input": "2022-12-16T06:12:15.856806Z",
     "iopub.status.busy": "2022-12-16T06:12:15.855646Z",
     "iopub.status.idle": "2022-12-16T06:12:16.049057Z",
     "shell.execute_reply": "2022-12-16T06:12:16.047882Z"
    },
    "papermill": {
     "duration": 0.258104,
     "end_time": "2022-12-16T06:12:16.051706",
     "exception": false,
     "start_time": "2022-12-16T06:12:15.793602",
     "status": "completed"
    },
    "tags": []
   },
   "outputs": [],
   "source": [
    "# classification report of second neural network\n",
    "y_hat_nn2 = model_2.predict(X_test)\n",
    "pred_nn2 = np.argmax(model_2.predict(X_test), axis=1)\n",
    "Y_test_class_2 = np.argmax(Y_test, axis=1)"
   ]
  },
  {
   "cell_type": "code",
   "execution_count": 58,
   "id": "ceabee46",
   "metadata": {
    "execution": {
     "iopub.execute_input": "2022-12-16T06:12:16.180694Z",
     "iopub.status.busy": "2022-12-16T06:12:16.179847Z",
     "iopub.status.idle": "2022-12-16T06:12:16.191112Z",
     "shell.execute_reply": "2022-12-16T06:12:16.189317Z"
    },
    "papermill": {
     "duration": 0.078569,
     "end_time": "2022-12-16T06:12:16.193348",
     "exception": false,
     "start_time": "2022-12-16T06:12:16.114779",
     "status": "completed"
    },
    "tags": []
   },
   "outputs": [
    {
     "name": "stdout",
     "output_type": "stream",
     "text": [
      "Classification Report of Deep Neural Network 2\n",
      "              precision    recall  f1-score   support\n",
      "\n",
      "           0       1.00      1.00      1.00        47\n",
      "           1       0.91      1.00      0.95        31\n",
      "           2       1.00      0.97      0.99        40\n",
      "           3       0.98      1.00      0.99        41\n",
      "           4       0.97      1.00      0.99        36\n",
      "           5       1.00      0.92      0.96        52\n",
      "           6       1.00      1.00      1.00        43\n",
      "\n",
      "    accuracy                           0.98       290\n",
      "   macro avg       0.98      0.99      0.98       290\n",
      "weighted avg       0.98      0.98      0.98       290\n",
      "\n"
     ]
    }
   ],
   "source": [
    "print('Classification Report of Deep Neural Network 2')\n",
    "print(classification_report(Y_test_class_2, pred_nn2))"
   ]
  },
  {
   "cell_type": "code",
   "execution_count": 59,
   "id": "06fba76f",
   "metadata": {
    "execution": {
     "iopub.execute_input": "2022-12-16T06:12:16.321707Z",
     "iopub.status.busy": "2022-12-16T06:12:16.320736Z",
     "iopub.status.idle": "2022-12-16T06:12:16.327932Z",
     "shell.execute_reply": "2022-12-16T06:12:16.326460Z"
    },
    "papermill": {
     "duration": 0.073933,
     "end_time": "2022-12-16T06:12:16.330385",
     "exception": false,
     "start_time": "2022-12-16T06:12:16.256452",
     "status": "completed"
    },
    "tags": []
   },
   "outputs": [
    {
     "name": "stderr",
     "output_type": "stream",
     "text": [
      "/opt/conda/lib/python3.7/site-packages/ipykernel_launcher.py:1: FutureWarning: In a future version of pandas all arguments of DataFrame.drop except for the argument 'labels' will be keyword-only\n",
      "  \"\"\"Entry point for launching an IPython kernel.\n"
     ]
    }
   ],
   "source": [
    "x=df.drop(['Type'],1)\n",
    "y=df['Type'].copy()"
   ]
  },
  {
   "cell_type": "code",
   "execution_count": 60,
   "id": "fa1f6ceb",
   "metadata": {
    "execution": {
     "iopub.execute_input": "2022-12-16T06:12:16.459211Z",
     "iopub.status.busy": "2022-12-16T06:12:16.458660Z",
     "iopub.status.idle": "2022-12-16T06:12:16.466215Z",
     "shell.execute_reply": "2022-12-16T06:12:16.464946Z"
    },
    "papermill": {
     "duration": 0.07559,
     "end_time": "2022-12-16T06:12:16.468376",
     "exception": false,
     "start_time": "2022-12-16T06:12:16.392786",
     "status": "completed"
    },
    "tags": []
   },
   "outputs": [],
   "source": [
    "xtrain, xtest, ytrain, ytest = train_test_split(x,y, test_size = 0.2, random_state = 101)"
   ]
  },
  {
   "cell_type": "code",
   "execution_count": 61,
   "id": "42065fed",
   "metadata": {
    "execution": {
     "iopub.execute_input": "2022-12-16T06:12:16.597345Z",
     "iopub.status.busy": "2022-12-16T06:12:16.596977Z",
     "iopub.status.idle": "2022-12-16T06:12:16.607411Z",
     "shell.execute_reply": "2022-12-16T06:12:16.606535Z"
    },
    "papermill": {
     "duration": 0.076914,
     "end_time": "2022-12-16T06:12:16.609656",
     "exception": false,
     "start_time": "2022-12-16T06:12:16.532742",
     "status": "completed"
    },
    "tags": []
   },
   "outputs": [],
   "source": [
    "scaler=StandardScaler()\n",
    "X_train_scale=scaler.fit_transform(xtrain)\n",
    "X_test_scale = scaler.transform(xtest)"
   ]
  },
  {
   "cell_type": "code",
   "execution_count": 62,
   "id": "eb8fc47c",
   "metadata": {
    "execution": {
     "iopub.execute_input": "2022-12-16T06:12:16.739836Z",
     "iopub.status.busy": "2022-12-16T06:12:16.738959Z",
     "iopub.status.idle": "2022-12-16T06:12:16.869890Z",
     "shell.execute_reply": "2022-12-16T06:12:16.868337Z"
    },
    "papermill": {
     "duration": 0.202812,
     "end_time": "2022-12-16T06:12:16.876446",
     "exception": false,
     "start_time": "2022-12-16T06:12:16.673634",
     "status": "completed"
    },
    "tags": []
   },
   "outputs": [
    {
     "name": "stdout",
     "output_type": "stream",
     "text": [
      "accuracy 0.8375\n"
     ]
    }
   ],
   "source": [
    "kRange = range(1,15,1)\n",
    "scores_list = []\n",
    "for i in kRange:\n",
    "    knn =  KNeighborsClassifier(n_neighbors = i)\n",
    "    knn.fit(X_train_scale,ytrain)\n",
    "    ypredr = knn.predict(X_test_scale)\n",
    "Acc_KNN=accuracy_score(ypredr, ytest)\n",
    "print('accuracy',Acc_KNN)"
   ]
  },
  {
   "cell_type": "code",
   "execution_count": 63,
   "id": "08037ff5",
   "metadata": {
    "execution": {
     "iopub.execute_input": "2022-12-16T06:12:17.071922Z",
     "iopub.status.busy": "2022-12-16T06:12:17.071538Z",
     "iopub.status.idle": "2022-12-16T06:12:17.080109Z",
     "shell.execute_reply": "2022-12-16T06:12:17.079021Z"
    },
    "papermill": {
     "duration": 0.077027,
     "end_time": "2022-12-16T06:12:17.082560",
     "exception": false,
     "start_time": "2022-12-16T06:12:17.005533",
     "status": "completed"
    },
    "tags": []
   },
   "outputs": [
    {
     "name": "stdout",
     "output_type": "stream",
     "text": [
      "accuracy 0.8\n"
     ]
    }
   ],
   "source": [
    "dtr = DecisionTreeClassifier(random_state=32)\n",
    "dtr.fit(X_train_scale, ytrain)\n",
    "ypreddtf = dtr.predict(X_test_scale)\n",
    "Acc_DTC=accuracy_score(ypreddtf, ytest)\n",
    "print('accuracy',Acc_DTC)"
   ]
  },
  {
   "cell_type": "code",
   "execution_count": 64,
   "id": "6bd5420b",
   "metadata": {
    "execution": {
     "iopub.execute_input": "2022-12-16T06:12:17.211745Z",
     "iopub.status.busy": "2022-12-16T06:12:17.210565Z",
     "iopub.status.idle": "2022-12-16T06:12:18.163448Z",
     "shell.execute_reply": "2022-12-16T06:12:18.162272Z"
    },
    "papermill": {
     "duration": 1.020186,
     "end_time": "2022-12-16T06:12:18.166546",
     "exception": false,
     "start_time": "2022-12-16T06:12:17.146360",
     "status": "completed"
    },
    "tags": []
   },
   "outputs": [
    {
     "name": "stdout",
     "output_type": "stream",
     "text": [
      "accuracy 0.95\n"
     ]
    },
    {
     "name": "stderr",
     "output_type": "stream",
     "text": [
      "/opt/conda/lib/python3.7/site-packages/sklearn/neural_network/_multilayer_perceptron.py:696: ConvergenceWarning: Stochastic Optimizer: Maximum iterations (200) reached and the optimization hasn't converged yet.\n",
      "  ConvergenceWarning,\n"
     ]
    }
   ],
   "source": [
    "mlp=MLPClassifier()\n",
    "mlp.fit(X_train_scale, ytrain)\n",
    "ypredmlp = mlp.predict(X_test_scale)\n",
    "Acc_mlp=accuracy_score(ypredmlp,ytest )\n",
    "print('accuracy',Acc_mlp)"
   ]
  },
  {
   "cell_type": "code",
   "execution_count": 65,
   "id": "c6bd55b9",
   "metadata": {
    "execution": {
     "iopub.execute_input": "2022-12-16T06:12:18.366272Z",
     "iopub.status.busy": "2022-12-16T06:12:18.365867Z",
     "iopub.status.idle": "2022-12-16T06:12:18.378819Z",
     "shell.execute_reply": "2022-12-16T06:12:18.377151Z"
    },
    "papermill": {
     "duration": 0.081227,
     "end_time": "2022-12-16T06:12:18.381263",
     "exception": false,
     "start_time": "2022-12-16T06:12:18.300036",
     "status": "completed"
    },
    "tags": []
   },
   "outputs": [
    {
     "name": "stdout",
     "output_type": "stream",
     "text": [
      "accuracy 0.95\n"
     ]
    }
   ],
   "source": [
    "from sklearn import svm\n",
    "clf = svm.SVC(kernel='linear', C = 1.0)\n",
    "clf.fit(X_train_scale, ytrain)\n",
    "ypredclf = clf.predict(X_test_scale)\n",
    "Acc_clf=accuracy_score(ytest,ypredclf)\n",
    "print('accuracy',Acc_clf)"
   ]
  },
  {
   "cell_type": "code",
   "execution_count": 66,
   "id": "0e29c1a2",
   "metadata": {
    "execution": {
     "iopub.execute_input": "2022-12-16T06:12:18.509279Z",
     "iopub.status.busy": "2022-12-16T06:12:18.508889Z",
     "iopub.status.idle": "2022-12-16T06:12:18.677261Z",
     "shell.execute_reply": "2022-12-16T06:12:18.675794Z"
    },
    "papermill": {
     "duration": 0.236731,
     "end_time": "2022-12-16T06:12:18.680276",
     "exception": false,
     "start_time": "2022-12-16T06:12:18.443545",
     "status": "completed"
    },
    "tags": []
   },
   "outputs": [
    {
     "name": "stdout",
     "output_type": "stream",
     "text": [
      "accuracy 0.875\n"
     ]
    }
   ],
   "source": [
    "rfr = RandomForestClassifier(random_state= 32)\n",
    "rfr.fit(X_train_scale, ytrain)\n",
    "ypredrfr = rfr.predict(X_test_scale)\n",
    "Acc_RF=accuracy_score(ypredrfr,ytest)\n",
    "print('accuracy',Acc_RF)"
   ]
  },
  {
   "cell_type": "code",
   "execution_count": 67,
   "id": "f9e9f9fc",
   "metadata": {
    "execution": {
     "iopub.execute_input": "2022-12-16T06:12:18.806917Z",
     "iopub.status.busy": "2022-12-16T06:12:18.806479Z",
     "iopub.status.idle": "2022-12-16T06:12:26.545842Z",
     "shell.execute_reply": "2022-12-16T06:12:26.544021Z"
    },
    "papermill": {
     "duration": 7.806846,
     "end_time": "2022-12-16T06:12:26.549814",
     "exception": false,
     "start_time": "2022-12-16T06:12:18.742968",
     "status": "completed"
    },
    "tags": []
   },
   "outputs": [
    {
     "name": "stdout",
     "output_type": "stream",
     "text": [
      "accuracy 0.85\n"
     ]
    }
   ],
   "source": [
    "param_grid = {\n",
    "        'hidden_layer_sizes': [(7, 7), (128,), (128, 7)],\n",
    "        'tol': [1e-2, 1e-3, 1e-4, 1e-5, 1e-6],\n",
    "        'epsilon': [1e-3, 1e-7, 1e-8, 1e-9, 1e-8]\n",
    "    }\n",
    "estimator = GridSearchCV(\n",
    "        MLPClassifier(learning_rate='adaptive', learning_rate_init=1., early_stopping=True, shuffle=True),\n",
    "        param_grid=param_grid, n_jobs=-1)\n",
    "estimator.fit(X_train_scale, ytrain)\n",
    "grid_predictions = estimator.predict(X_test_scale)\n",
    "Acc_grid_mlp=accuracy_score(grid_predictions,ytest)\n",
    "print('accuracy',Acc_grid_mlp)"
   ]
  },
  {
   "cell_type": "code",
   "execution_count": 68,
   "id": "b7f3f049",
   "metadata": {
    "execution": {
     "iopub.execute_input": "2022-12-16T06:12:26.750435Z",
     "iopub.status.busy": "2022-12-16T06:12:26.749991Z",
     "iopub.status.idle": "2022-12-16T06:12:27.547062Z",
     "shell.execute_reply": "2022-12-16T06:12:27.545656Z"
    },
    "papermill": {
     "duration": 0.867755,
     "end_time": "2022-12-16T06:12:27.549386",
     "exception": false,
     "start_time": "2022-12-16T06:12:26.681631",
     "status": "completed"
    },
    "tags": []
   },
   "outputs": [
    {
     "name": "stdout",
     "output_type": "stream",
     "text": [
      "Fitting 5 folds for each of 16 candidates, totalling 80 fits\n",
      "[CV] END .....................................C=0.1, gamma=1; total time=   0.0s\n",
      "[CV] END .....................................C=0.1, gamma=1; total time=   0.0s\n",
      "[CV] END .....................................C=0.1, gamma=1; total time=   0.0s\n",
      "[CV] END .....................................C=0.1, gamma=1; total time=   0.0s\n",
      "[CV] END .....................................C=0.1, gamma=1; total time=   0.0s\n",
      "[CV] END ...................................C=0.1, gamma=0.1; total time=   0.0s\n",
      "[CV] END ...................................C=0.1, gamma=0.1; total time=   0.0s\n",
      "[CV] END ...................................C=0.1, gamma=0.1; total time=   0.0s\n",
      "[CV] END ...................................C=0.1, gamma=0.1; total time=   0.0s\n",
      "[CV] END ...................................C=0.1, gamma=0.1; total time=   0.0s\n",
      "[CV] END ..................................C=0.1, gamma=0.01; total time=   0.0s\n",
      "[CV] END ..................................C=0.1, gamma=0.01; total time=   0.0s\n",
      "[CV] END ..................................C=0.1, gamma=0.01; total time=   0.0s\n",
      "[CV] END ..................................C=0.1, gamma=0.01; total time=   0.0s\n",
      "[CV] END ..................................C=0.1, gamma=0.01; total time=   0.0s\n",
      "[CV] END .................................C=0.1, gamma=0.001; total time=   0.0s\n",
      "[CV] END .................................C=0.1, gamma=0.001; total time=   0.0s\n",
      "[CV] END .................................C=0.1, gamma=0.001; total time=   0.0s\n",
      "[CV] END .................................C=0.1, gamma=0.001; total time=   0.0s\n",
      "[CV] END .................................C=0.1, gamma=0.001; total time=   0.0s\n",
      "[CV] END .......................................C=1, gamma=1; total time=   0.0s\n",
      "[CV] END .......................................C=1, gamma=1; total time=   0.0s\n",
      "[CV] END .......................................C=1, gamma=1; total time=   0.0s\n",
      "[CV] END .......................................C=1, gamma=1; total time=   0.0s\n",
      "[CV] END .......................................C=1, gamma=1; total time=   0.0s\n",
      "[CV] END .....................................C=1, gamma=0.1; total time=   0.0s\n",
      "[CV] END .....................................C=1, gamma=0.1; total time=   0.0s\n",
      "[CV] END .....................................C=1, gamma=0.1; total time=   0.0s\n",
      "[CV] END .....................................C=1, gamma=0.1; total time=   0.0s\n",
      "[CV] END .....................................C=1, gamma=0.1; total time=   0.0s\n",
      "[CV] END ....................................C=1, gamma=0.01; total time=   0.0s\n",
      "[CV] END ....................................C=1, gamma=0.01; total time=   0.0s\n",
      "[CV] END ....................................C=1, gamma=0.01; total time=   0.0s\n",
      "[CV] END ....................................C=1, gamma=0.01; total time=   0.0s\n",
      "[CV] END ....................................C=1, gamma=0.01; total time=   0.0s\n",
      "[CV] END ...................................C=1, gamma=0.001; total time=   0.0s\n",
      "[CV] END ...................................C=1, gamma=0.001; total time=   0.0s\n",
      "[CV] END ...................................C=1, gamma=0.001; total time=   0.0s\n",
      "[CV] END ...................................C=1, gamma=0.001; total time=   0.0s\n",
      "[CV] END ...................................C=1, gamma=0.001; total time=   0.0s\n",
      "[CV] END ......................................C=10, gamma=1; total time=   0.0s\n",
      "[CV] END ......................................C=10, gamma=1; total time=   0.0s\n",
      "[CV] END ......................................C=10, gamma=1; total time=   0.0s\n",
      "[CV] END ......................................C=10, gamma=1; total time=   0.0s\n",
      "[CV] END ......................................C=10, gamma=1; total time=   0.0s\n",
      "[CV] END ....................................C=10, gamma=0.1; total time=   0.0s\n",
      "[CV] END ....................................C=10, gamma=0.1; total time=   0.0s\n",
      "[CV] END ....................................C=10, gamma=0.1; total time=   0.0s\n",
      "[CV] END ....................................C=10, gamma=0.1; total time=   0.0s\n",
      "[CV] END ....................................C=10, gamma=0.1; total time=   0.0s\n",
      "[CV] END ...................................C=10, gamma=0.01; total time=   0.0s\n",
      "[CV] END ...................................C=10, gamma=0.01; total time=   0.0s\n",
      "[CV] END ...................................C=10, gamma=0.01; total time=   0.0s\n",
      "[CV] END ...................................C=10, gamma=0.01; total time=   0.0s\n",
      "[CV] END ...................................C=10, gamma=0.01; total time=   0.0s\n",
      "[CV] END ..................................C=10, gamma=0.001; total time=   0.0s\n",
      "[CV] END ..................................C=10, gamma=0.001; total time=   0.0s\n",
      "[CV] END ..................................C=10, gamma=0.001; total time=   0.0s\n",
      "[CV] END ..................................C=10, gamma=0.001; total time=   0.0s\n",
      "[CV] END ..................................C=10, gamma=0.001; total time=   0.0s\n",
      "[CV] END .....................................C=100, gamma=1; total time=   0.0s\n",
      "[CV] END .....................................C=100, gamma=1; total time=   0.0s\n",
      "[CV] END .....................................C=100, gamma=1; total time=   0.0s\n",
      "[CV] END .....................................C=100, gamma=1; total time=   0.0s\n",
      "[CV] END .....................................C=100, gamma=1; total time=   0.0s\n",
      "[CV] END ...................................C=100, gamma=0.1; total time=   0.0s\n",
      "[CV] END ...................................C=100, gamma=0.1; total time=   0.0s\n",
      "[CV] END ...................................C=100, gamma=0.1; total time=   0.0s\n",
      "[CV] END ...................................C=100, gamma=0.1; total time=   0.0s\n",
      "[CV] END ...................................C=100, gamma=0.1; total time=   0.0s\n",
      "[CV] END ..................................C=100, gamma=0.01; total time=   0.0s\n",
      "[CV] END ..................................C=100, gamma=0.01; total time=   0.0s\n",
      "[CV] END ..................................C=100, gamma=0.01; total time=   0.0s\n",
      "[CV] END ..................................C=100, gamma=0.01; total time=   0.0s\n",
      "[CV] END ..................................C=100, gamma=0.01; total time=   0.0s\n",
      "[CV] END .................................C=100, gamma=0.001; total time=   0.0s\n",
      "[CV] END .................................C=100, gamma=0.001; total time=   0.0s\n",
      "[CV] END .................................C=100, gamma=0.001; total time=   0.0s\n",
      "[CV] END .................................C=100, gamma=0.001; total time=   0.0s\n",
      "[CV] END .................................C=100, gamma=0.001; total time=   0.0s\n",
      "accuracy 0.9625\n"
     ]
    }
   ],
   "source": [
    "param_grid = {'C': [0.1,1, 10, 100], 'gamma': [1,0.1,0.01,0.001]} \n",
    "grida = GridSearchCV(svm.SVC(),param_grid,refit=True,verbose=2)\n",
    "grida.fit(X_train_scale,ytrain)\n",
    "grid_predictions = grida.predict(X_test_scale)\n",
    "Acc_grid_scv=accuracy_score(grid_predictions,ytest)\n",
    "print('accuracy',Acc_grid_scv)"
   ]
  },
  {
   "cell_type": "code",
   "execution_count": 69,
   "id": "f570cac3",
   "metadata": {
    "execution": {
     "iopub.execute_input": "2022-12-16T06:12:27.685749Z",
     "iopub.status.busy": "2022-12-16T06:12:27.685165Z",
     "iopub.status.idle": "2022-12-16T06:12:27.699927Z",
     "shell.execute_reply": "2022-12-16T06:12:27.699207Z"
    },
    "papermill": {
     "duration": 0.084352,
     "end_time": "2022-12-16T06:12:27.701916",
     "exception": false,
     "start_time": "2022-12-16T06:12:27.617564",
     "status": "completed"
    },
    "tags": []
   },
   "outputs": [
    {
     "data": {
      "text/html": [
       "<div>\n",
       "<style scoped>\n",
       "    .dataframe tbody tr th:only-of-type {\n",
       "        vertical-align: middle;\n",
       "    }\n",
       "\n",
       "    .dataframe tbody tr th {\n",
       "        vertical-align: top;\n",
       "    }\n",
       "\n",
       "    .dataframe thead th {\n",
       "        text-align: right;\n",
       "    }\n",
       "</style>\n",
       "<table border=\"1\" class=\"dataframe\">\n",
       "  <thead>\n",
       "    <tr style=\"text-align: right;\">\n",
       "      <th></th>\n",
       "      <th>Model</th>\n",
       "      <th>Score</th>\n",
       "    </tr>\n",
       "  </thead>\n",
       "  <tbody>\n",
       "    <tr>\n",
       "      <th>5</th>\n",
       "      <td>svc with gridsearch</td>\n",
       "      <td>0.9625</td>\n",
       "    </tr>\n",
       "    <tr>\n",
       "      <th>1</th>\n",
       "      <td>MLPClassifier</td>\n",
       "      <td>0.9500</td>\n",
       "    </tr>\n",
       "    <tr>\n",
       "      <th>4</th>\n",
       "      <td>support vector classifier</td>\n",
       "      <td>0.9500</td>\n",
       "    </tr>\n",
       "    <tr>\n",
       "      <th>0</th>\n",
       "      <td>Random Forest</td>\n",
       "      <td>0.8750</td>\n",
       "    </tr>\n",
       "    <tr>\n",
       "      <th>6</th>\n",
       "      <td>mlp with gridsearch</td>\n",
       "      <td>0.8500</td>\n",
       "    </tr>\n",
       "    <tr>\n",
       "      <th>2</th>\n",
       "      <td>KNeighborsClassifier</td>\n",
       "      <td>0.8375</td>\n",
       "    </tr>\n",
       "    <tr>\n",
       "      <th>3</th>\n",
       "      <td>DecisionTreeClassifier</td>\n",
       "      <td>0.8000</td>\n",
       "    </tr>\n",
       "  </tbody>\n",
       "</table>\n",
       "</div>"
      ],
      "text/plain": [
       "                       Model   Score\n",
       "5        svc with gridsearch  0.9625\n",
       "1              MLPClassifier  0.9500\n",
       "4  support vector classifier  0.9500\n",
       "0              Random Forest  0.8750\n",
       "6        mlp with gridsearch  0.8500\n",
       "2       KNeighborsClassifier  0.8375\n",
       "3     DecisionTreeClassifier  0.8000"
      ]
     },
     "execution_count": 69,
     "metadata": {},
     "output_type": "execute_result"
    }
   ],
   "source": [
    "models = pd.DataFrame({\n",
    "    'Model': ['Random Forest', 'MLPClassifier', \n",
    "              'KNeighborsClassifier', 'DecisionTreeClassifier','support vector classifier','svc with gridsearch','mlp with gridsearch'],\n",
    "    'Score': [Acc_RF, Acc_mlp, \n",
    "              Acc_KNN, Acc_DTC,Acc_clf,Acc_grid_scv,Acc_grid_mlp]})\n",
    "models.sort_values(by='Score', ascending=False)"
   ]
  }
 ],
 "metadata": {
  "kernelspec": {
   "display_name": "Python 3",
   "language": "python",
   "name": "python3"
  },
  "language_info": {
   "codemirror_mode": {
    "name": "ipython",
    "version": 3
   },
   "file_extension": ".py",
   "mimetype": "text/x-python",
   "name": "python",
   "nbconvert_exporter": "python",
   "pygments_lexer": "ipython3",
   "version": "3.7.12"
  },
  "papermill": {
   "default_parameters": {},
   "duration": 68.095334,
   "end_time": "2022-12-16T06:12:30.389688",
   "environment_variables": {},
   "exception": null,
   "input_path": "__notebook__.ipynb",
   "output_path": "__notebook__.ipynb",
   "parameters": {},
   "start_time": "2022-12-16T06:11:22.294354",
   "version": "2.3.4"
  }
 },
 "nbformat": 4,
 "nbformat_minor": 5
}
