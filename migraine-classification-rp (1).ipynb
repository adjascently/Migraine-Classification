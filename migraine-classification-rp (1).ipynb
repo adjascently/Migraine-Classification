{
 "cells": [
  {
   "cell_type": "code",
   "execution_count": 1,
   "id": "23cb83e7",
   "metadata": {
    "_cell_guid": "b1076dfc-b9ad-4769-8c92-a6c4dae69d19",
    "_uuid": "8f2839f25d086af736a60e9eeb907d3b93b6e0e5",
    "execution": {
     "iopub.execute_input": "2022-12-21T12:00:48.062484Z",
     "iopub.status.busy": "2022-12-21T12:00:48.061934Z",
     "iopub.status.idle": "2022-12-21T12:00:48.082961Z",
     "shell.execute_reply": "2022-12-21T12:00:48.081766Z"
    },
    "papermill": {
     "duration": 0.04366,
     "end_time": "2022-12-21T12:00:48.086214",
     "exception": false,
     "start_time": "2022-12-21T12:00:48.042554",
     "status": "completed"
    },
    "tags": []
   },
   "outputs": [
    {
     "name": "stdout",
     "output_type": "stream",
     "text": [
      "/kaggle/input/migraine-classification/data.csv\n"
     ]
    }
   ],
   "source": [
    "# This Python 3 environment comes with many helpful analytics libraries installed\n",
    "# It is defined by the kaggle/python Docker image: https://github.com/kaggle/docker-python\n",
    "# For example, here's several helpful packages to load\n",
    "\n",
    "import numpy as np # linear algebra\n",
    "import pandas as pd # data processing, CSV file I/O (e.g. pd.read_csv)\n",
    "\n",
    "# Input data files are available in the read-only \"../input/\" directory\n",
    "# For example, running this (by clicking run or pressing Shift+Enter) will list all files under the input directory\n",
    "\n",
    "import os\n",
    "for dirname, _, filenames in os.walk('/kaggle/input'):\n",
    "    for filename in filenames:\n",
    "        print(os.path.join(dirname, filename))\n",
    "\n",
    "# You can write up to 20GB to the current directory (/kaggle/working/) that gets preserved as output when you create a version using \"Save & Run All\" \n",
    "# You can also write temporary files to /kaggle/temp/, but they won't be saved outside of the current session"
   ]
  },
  {
   "cell_type": "code",
   "execution_count": 2,
   "id": "fd853381",
   "metadata": {
    "execution": {
     "iopub.execute_input": "2022-12-21T12:00:48.121321Z",
     "iopub.status.busy": "2022-12-21T12:00:48.120895Z",
     "iopub.status.idle": "2022-12-21T12:00:56.309331Z",
     "shell.execute_reply": "2022-12-21T12:00:56.307964Z"
    },
    "papermill": {
     "duration": 8.208684,
     "end_time": "2022-12-21T12:00:56.312257",
     "exception": false,
     "start_time": "2022-12-21T12:00:48.103573",
     "status": "completed"
    },
    "tags": []
   },
   "outputs": [],
   "source": [
    "import seaborn as sns\n",
    "from matplotlib import pyplot as plt\n",
    "from sklearn.model_selection import train_test_split\n",
    "from sklearn.preprocessing import LabelEncoder\n",
    "from sklearn.svm import SVR\n",
    "from sklearn.ensemble import RandomForestClassifier\n",
    "from sklearn.tree import DecisionTreeClassifier\n",
    "from sklearn.neural_network import MLPClassifier\n",
    "from tensorflow.keras.layers import Dense, Conv1D, MaxPooling1D, Activation, Dropout\n",
    "from tensorflow.keras.models import Sequential\n",
    "from tensorflow.keras.callbacks import EarlyStopping\n",
    "from tensorflow.keras.utils import to_categorical\n",
    "from sklearn.metrics import confusion_matrix, classification_report\n",
    "from sklearn.metrics import plot_confusion_matrix, precision_score, recall_score, f1_score\n",
    "from sklearn.metrics import r2_score\n",
    "from sklearn.ensemble import RandomForestClassifier\n",
    "from sklearn.neighbors import KNeighborsClassifier\n",
    "\n",
    "from sklearn.tree import DecisionTreeClassifier\n",
    "import math\n",
    "from sklearn.neural_network import MLPClassifier\n",
    "from sklearn.metrics import accuracy_score\n",
    "import matplotlib.pyplot as plt\n",
    "import seaborn as sns\n",
    "from sklearn.neighbors import KNeighborsClassifier\n",
    "from sklearn.preprocessing import StandardScaler\n",
    "from sklearn.model_selection import GridSearchCV"
   ]
  },
  {
   "cell_type": "code",
   "execution_count": 3,
   "id": "e39282bd",
   "metadata": {
    "execution": {
     "iopub.execute_input": "2022-12-21T12:00:56.347072Z",
     "iopub.status.busy": "2022-12-21T12:00:56.346263Z",
     "iopub.status.idle": "2022-12-21T12:00:56.370836Z",
     "shell.execute_reply": "2022-12-21T12:00:56.369927Z"
    },
    "papermill": {
     "duration": 0.044872,
     "end_time": "2022-12-21T12:00:56.373614",
     "exception": false,
     "start_time": "2022-12-21T12:00:56.328742",
     "status": "completed"
    },
    "tags": []
   },
   "outputs": [],
   "source": [
    "data = pd.read_csv('/kaggle/input/migraine-classification/data.csv')\n",
    "df = pd.read_csv('/kaggle/input/migraine-classification/data.csv')"
   ]
  },
  {
   "cell_type": "code",
   "execution_count": 4,
   "id": "5c794c91",
   "metadata": {
    "execution": {
     "iopub.execute_input": "2022-12-21T12:00:56.411814Z",
     "iopub.status.busy": "2022-12-21T12:00:56.411124Z",
     "iopub.status.idle": "2022-12-21T12:00:56.419844Z",
     "shell.execute_reply": "2022-12-21T12:00:56.418561Z"
    },
    "papermill": {
     "duration": 0.029721,
     "end_time": "2022-12-21T12:00:56.422436",
     "exception": false,
     "start_time": "2022-12-21T12:00:56.392715",
     "status": "completed"
    },
    "tags": []
   },
   "outputs": [
    {
     "data": {
      "text/plain": [
       "(400, 24)"
      ]
     },
     "execution_count": 4,
     "metadata": {},
     "output_type": "execute_result"
    }
   ],
   "source": [
    "data.shape"
   ]
  },
  {
   "cell_type": "code",
   "execution_count": 5,
   "id": "d968c1cb",
   "metadata": {
    "execution": {
     "iopub.execute_input": "2022-12-21T12:00:56.457470Z",
     "iopub.status.busy": "2022-12-21T12:00:56.457036Z",
     "iopub.status.idle": "2022-12-21T12:00:56.463851Z",
     "shell.execute_reply": "2022-12-21T12:00:56.462371Z"
    },
    "papermill": {
     "duration": 0.027177,
     "end_time": "2022-12-21T12:00:56.466596",
     "exception": false,
     "start_time": "2022-12-21T12:00:56.439419",
     "status": "completed"
    },
    "tags": []
   },
   "outputs": [
    {
     "name": "stdout",
     "output_type": "stream",
     "text": [
      "Number of training examples: 400\n",
      "Number of features: 24\n"
     ]
    }
   ],
   "source": [
    "print('Number of training examples: %s' %str (data.shape [0]))\n",
    "print('Number of features: %s' %str (data.shape [1]))\n"
   ]
  },
  {
   "cell_type": "code",
   "execution_count": 6,
   "id": "8356643e",
   "metadata": {
    "execution": {
     "iopub.execute_input": "2022-12-21T12:00:56.501688Z",
     "iopub.status.busy": "2022-12-21T12:00:56.501214Z",
     "iopub.status.idle": "2022-12-21T12:00:56.508070Z",
     "shell.execute_reply": "2022-12-21T12:00:56.507012Z"
    },
    "papermill": {
     "duration": 0.027409,
     "end_time": "2022-12-21T12:00:56.510634",
     "exception": false,
     "start_time": "2022-12-21T12:00:56.483225",
     "status": "completed"
    },
    "tags": []
   },
   "outputs": [
    {
     "data": {
      "text/plain": [
       "Index(['Age', 'Duration', 'Frequency', 'Location', 'Character', 'Intensity',\n",
       "       'Nausea', 'Vomit', 'Phonophobia', 'Photophobia', 'Visual', 'Sensory',\n",
       "       'Dysphasia', 'Dysarthria', 'Vertigo', 'Tinnitus', 'Hypoacusis',\n",
       "       'Diplopia', 'Defect', 'Ataxia', 'Conscience', 'Paresthesia', 'DPF',\n",
       "       'Type'],\n",
       "      dtype='object')"
      ]
     },
     "execution_count": 6,
     "metadata": {},
     "output_type": "execute_result"
    }
   ],
   "source": [
    "data.columns"
   ]
  },
  {
   "cell_type": "code",
   "execution_count": 7,
   "id": "2bd8951e",
   "metadata": {
    "execution": {
     "iopub.execute_input": "2022-12-21T12:00:56.545527Z",
     "iopub.status.busy": "2022-12-21T12:00:56.544984Z",
     "iopub.status.idle": "2022-12-21T12:00:56.561338Z",
     "shell.execute_reply": "2022-12-21T12:00:56.560466Z"
    },
    "papermill": {
     "duration": 0.036252,
     "end_time": "2022-12-21T12:00:56.563611",
     "exception": false,
     "start_time": "2022-12-21T12:00:56.527359",
     "status": "completed"
    },
    "tags": []
   },
   "outputs": [
    {
     "data": {
      "text/plain": [
       "Typical aura with migraine       247\n",
       "Migraine without aura             60\n",
       "Familial hemiplegic migraine      24\n",
       "Typical aura without migraine     20\n",
       "Basilar-type aura                 18\n",
       "Other                             17\n",
       "Sporadic hemiplegic migraine      14\n",
       "Name: Type, dtype: int64"
      ]
     },
     "execution_count": 7,
     "metadata": {},
     "output_type": "execute_result"
    }
   ],
   "source": [
    "data['Type'].value_counts()"
   ]
  },
  {
   "cell_type": "code",
   "execution_count": 8,
   "id": "8c347ba7",
   "metadata": {
    "execution": {
     "iopub.execute_input": "2022-12-21T12:00:56.598247Z",
     "iopub.status.busy": "2022-12-21T12:00:56.597838Z",
     "iopub.status.idle": "2022-12-21T12:00:56.605903Z",
     "shell.execute_reply": "2022-12-21T12:00:56.604786Z"
    },
    "papermill": {
     "duration": 0.028075,
     "end_time": "2022-12-21T12:00:56.608232",
     "exception": false,
     "start_time": "2022-12-21T12:00:56.580157",
     "status": "completed"
    },
    "tags": []
   },
   "outputs": [
    {
     "data": {
      "text/plain": [
       "(15, 77)"
      ]
     },
     "execution_count": 8,
     "metadata": {},
     "output_type": "execute_result"
    }
   ],
   "source": [
    "data.Age.min() , data.Age.max()"
   ]
  },
  {
   "cell_type": "code",
   "execution_count": 9,
   "id": "b9fb025a",
   "metadata": {
    "execution": {
     "iopub.execute_input": "2022-12-21T12:00:56.643041Z",
     "iopub.status.busy": "2022-12-21T12:00:56.642626Z",
     "iopub.status.idle": "2022-12-21T12:00:56.647443Z",
     "shell.execute_reply": "2022-12-21T12:00:56.646357Z"
    },
    "papermill": {
     "duration": 0.025136,
     "end_time": "2022-12-21T12:00:56.649813",
     "exception": false,
     "start_time": "2022-12-21T12:00:56.624677",
     "status": "completed"
    },
    "tags": []
   },
   "outputs": [],
   "source": [
    "# data['Age'].value_counts()"
   ]
  },
  {
   "cell_type": "code",
   "execution_count": 10,
   "id": "b0e13ba7",
   "metadata": {
    "execution": {
     "iopub.execute_input": "2022-12-21T12:00:56.684893Z",
     "iopub.status.busy": "2022-12-21T12:00:56.684456Z",
     "iopub.status.idle": "2022-12-21T12:00:56.973816Z",
     "shell.execute_reply": "2022-12-21T12:00:56.972545Z"
    },
    "papermill": {
     "duration": 0.309831,
     "end_time": "2022-12-21T12:00:56.976322",
     "exception": false,
     "start_time": "2022-12-21T12:00:56.666491",
     "status": "completed"
    },
    "tags": []
   },
   "outputs": [
    {
     "data": {
      "text/plain": [
       "<AxesSubplot:title={'center':'Range of Patient Age'}>"
      ]
     },
     "execution_count": 10,
     "metadata": {},
     "output_type": "execute_result"
    },
    {
     "data": {
      "image/png": "[encoded data removed]",
      "text/plain": [
       "<Figure size 432x288 with 1 Axes>"
      ]
     },
     "metadata": {
      "needs_background": "light"
     },
     "output_type": "display_data"
    }
   ],
   "source": [
    "plt.title('Range of Patient Age')\n",
    "data['Age'].hist()"
   ]
  },
  {
   "cell_type": "code",
   "execution_count": 11,
   "id": "36caf9af",
   "metadata": {
    "execution": {
     "iopub.execute_input": "2022-12-21T12:00:57.012404Z",
     "iopub.status.busy": "2022-12-21T12:00:57.011999Z",
     "iopub.status.idle": "2022-12-21T12:00:57.020882Z",
     "shell.execute_reply": "2022-12-21T12:00:57.019881Z"
    },
    "papermill": {
     "duration": 0.029899,
     "end_time": "2022-12-21T12:00:57.023347",
     "exception": false,
     "start_time": "2022-12-21T12:00:56.993448",
     "status": "completed"
    },
    "tags": []
   },
   "outputs": [
    {
     "data": {
      "text/plain": [
       "1    369\n",
       "0     20\n",
       "2     11\n",
       "Name: Character, dtype: int64"
      ]
     },
     "execution_count": 11,
     "metadata": {},
     "output_type": "execute_result"
    }
   ],
   "source": [
    "data.Character.value_counts()"
   ]
  },
  {
   "cell_type": "code",
   "execution_count": 12,
   "id": "a1e29481",
   "metadata": {
    "execution": {
     "iopub.execute_input": "2022-12-21T12:00:57.060300Z",
     "iopub.status.busy": "2022-12-21T12:00:57.059275Z",
     "iopub.status.idle": "2022-12-21T12:00:57.261171Z",
     "shell.execute_reply": "2022-12-21T12:00:57.260040Z"
    },
    "papermill": {
     "duration": 0.222874,
     "end_time": "2022-12-21T12:00:57.263612",
     "exception": false,
     "start_time": "2022-12-21T12:00:57.040738",
     "status": "completed"
    },
    "tags": []
   },
   "outputs": [
    {
     "data": {
      "text/plain": [
       "<AxesSubplot:xlabel='Character', ylabel='count'>"
      ]
     },
     "execution_count": 12,
     "metadata": {},
     "output_type": "execute_result"
    },
    {
     "data": {
      "image/png": "[encoded data removed]",
      "text/plain": [
       "<Figure size 432x288 with 1 Axes>"
      ]
     },
     "metadata": {
      "needs_background": "light"
     },
     "output_type": "display_data"
    }
   ],
   "source": [
    "sns.countplot(x=data['Character'])"
   ]
  },
  {
   "cell_type": "code",
   "execution_count": 13,
   "id": "e665c118",
   "metadata": {
    "execution": {
     "iopub.execute_input": "2022-12-21T12:00:57.300253Z",
     "iopub.status.busy": "2022-12-21T12:00:57.299842Z",
     "iopub.status.idle": "2022-12-21T12:00:57.497496Z",
     "shell.execute_reply": "2022-12-21T12:00:57.496576Z"
    },
    "papermill": {
     "duration": 0.218699,
     "end_time": "2022-12-21T12:00:57.499726",
     "exception": false,
     "start_time": "2022-12-21T12:00:57.281027",
     "status": "completed"
    },
    "tags": []
   },
   "outputs": [
    {
     "data": {
      "text/plain": [
       "<AxesSubplot:xlabel='Defect', ylabel='count'>"
      ]
     },
     "execution_count": 13,
     "metadata": {},
     "output_type": "execute_result"
    },
    {
     "data": {
      "image/png": "[encoded data removed]",
      "text/plain": [
       "<Figure size 432x288 with 1 Axes>"
      ]
     },
     "metadata": {
      "needs_background": "light"
     },
     "output_type": "display_data"
    }
   ],
   "source": [
    "sns.countplot(x=data.Defect)"
   ]
  },
  {
   "cell_type": "code",
   "execution_count": 14,
   "id": "a1441878",
   "metadata": {
    "execution": {
     "iopub.execute_input": "2022-12-21T12:00:57.536721Z",
     "iopub.status.busy": "2022-12-21T12:00:57.536025Z",
     "iopub.status.idle": "2022-12-21T12:00:57.545059Z",
     "shell.execute_reply": "2022-12-21T12:00:57.543560Z"
    },
    "papermill": {
     "duration": 0.030619,
     "end_time": "2022-12-21T12:00:57.547702",
     "exception": false,
     "start_time": "2022-12-21T12:00:57.517083",
     "status": "completed"
    },
    "tags": []
   },
   "outputs": [
    {
     "data": {
      "text/plain": [
       "Typical aura with migraine       247\n",
       "Migraine without aura             60\n",
       "Familial hemiplegic migraine      24\n",
       "Typical aura without migraine     20\n",
       "Basilar-type aura                 18\n",
       "Other                             17\n",
       "Sporadic hemiplegic migraine      14\n",
       "Name: Type, dtype: int64"
      ]
     },
     "execution_count": 14,
     "metadata": {},
     "output_type": "execute_result"
    }
   ],
   "source": [
    "data.Type.value_counts()"
   ]
  },
  {
   "cell_type": "code",
   "execution_count": 15,
   "id": "501702f2",
   "metadata": {
    "execution": {
     "iopub.execute_input": "2022-12-21T12:00:57.585311Z",
     "iopub.status.busy": "2022-12-21T12:00:57.584489Z",
     "iopub.status.idle": "2022-12-21T12:00:57.896414Z",
     "shell.execute_reply": "2022-12-21T12:00:57.895068Z"
    },
    "papermill": {
     "duration": 0.334911,
     "end_time": "2022-12-21T12:00:57.900213",
     "exception": false,
     "start_time": "2022-12-21T12:00:57.565302",
     "status": "completed"
    },
    "tags": []
   },
   "outputs": [
    {
     "data": {
      "text/plain": [
       "<AxesSubplot:xlabel='Type', ylabel='count'>"
      ]
     },
     "execution_count": 15,
     "metadata": {},
     "output_type": "execute_result"
    },
    {
     "data": {
      "image/png": "[encoded data removed]",
      "text/plain": [
       "<Figure size 1080x720 with 1 Axes>"
      ]
     },
     "metadata": {},
     "output_type": "display_data"
    }
   ],
   "source": [
    "sns.set(rc={'figure.figsize':(15, 10)})\n",
    "sns.countplot(x=data.Type)"
   ]
  },
  {
   "cell_type": "code",
   "execution_count": 16,
   "id": "fbcd44bf",
   "metadata": {
    "execution": {
     "iopub.execute_input": "2022-12-21T12:00:57.940654Z",
     "iopub.status.busy": "2022-12-21T12:00:57.939884Z",
     "iopub.status.idle": "2022-12-21T12:00:58.166890Z",
     "shell.execute_reply": "2022-12-21T12:00:58.164808Z"
    },
    "papermill": {
     "duration": 0.253668,
     "end_time": "2022-12-21T12:00:58.173211",
     "exception": false,
     "start_time": "2022-12-21T12:00:57.919543",
     "status": "completed"
    },
    "tags": []
   },
   "outputs": [
    {
     "data": {
      "text/plain": [
       "<matplotlib.patches.Circle at 0x7f76adc635d0>"
      ]
     },
     "execution_count": 16,
     "metadata": {},
     "output_type": "execute_result"
    },
    {
     "data": {
      "image/png": "[encoded data removed]",
      "text/plain": [
       "<Figure size 720x576 with 1 Axes>"
      ]
     },
     "metadata": {},
     "output_type": "display_data"
    }
   ],
   "source": [
    "plt.figure(figsize=(10, 8))\n",
    "circle = plt.Circle((0, 0), 0.7, color='white')\n",
    "plt.pie(data.Type.value_counts(), labels=['Typical Aura With Migraine', 'Migraine Without Aura', 'Familial Hemiplegic Nigraine',\n",
    "                                                'Typical Aura Without Migraine', 'Basilar Typed Aura', \n",
    "                                         'Other', 'Sporadic Hemiplegic Migraine'], colors=['blue', 'magenta', 'cyan', \n",
    "                                                                                   'red', 'grey', 'black', 'yellow'])\n",
    "p = plt.gcf()\n",
    "p.gca().add_artist(circle)"
   ]
  },
  {
   "cell_type": "code",
   "execution_count": 17,
   "id": "3c07b58c",
   "metadata": {
    "execution": {
     "iopub.execute_input": "2022-12-21T12:00:58.215901Z",
     "iopub.status.busy": "2022-12-21T12:00:58.215463Z",
     "iopub.status.idle": "2022-12-21T12:00:58.782279Z",
     "shell.execute_reply": "2022-12-21T12:00:58.780608Z"
    },
    "papermill": {
     "duration": 0.589953,
     "end_time": "2022-12-21T12:00:58.785386",
     "exception": false,
     "start_time": "2022-12-21T12:00:58.195433",
     "status": "completed"
    },
    "tags": []
   },
   "outputs": [
    {
     "data": {
      "text/plain": [
       "<seaborn.axisgrid.FacetGrid at 0x7f76adfd2910>"
      ]
     },
     "execution_count": 17,
     "metadata": {},
     "output_type": "execute_result"
    },
    {
     "data": {
      "image/png": "[encoded data removed]",
      "text/plain": [
       "<Figure size 1296x432 with 1 Axes>"
      ]
     },
     "metadata": {},
     "output_type": "display_data"
    }
   ],
   "source": [
    "\n",
    "sns.catplot(y='Type', x='Age', data=data.sort_values(\"Type\", ascending=False),\n",
    "           kind='boxen', height=6, aspect=3)"
   ]
  },
  {
   "cell_type": "code",
   "execution_count": 18,
   "id": "d20478da",
   "metadata": {
    "execution": {
     "iopub.execute_input": "2022-12-21T12:00:58.829388Z",
     "iopub.status.busy": "2022-12-21T12:00:58.828486Z",
     "iopub.status.idle": "2022-12-21T12:00:58.838542Z",
     "shell.execute_reply": "2022-12-21T12:00:58.837292Z"
    },
    "papermill": {
     "duration": 0.034437,
     "end_time": "2022-12-21T12:00:58.840735",
     "exception": false,
     "start_time": "2022-12-21T12:00:58.806298",
     "status": "completed"
    },
    "tags": []
   },
   "outputs": [
    {
     "data": {
      "text/plain": [
       "array([0, 0, 0, 0, 0, 0, 0, 0, 0, 0, 0, 0, 0, 0, 0, 0, 0, 0, 0, 0, 0, 0,\n",
       "       0, 0])"
      ]
     },
     "execution_count": 18,
     "metadata": {},
     "output_type": "execute_result"
    }
   ],
   "source": [
    "data.isnull().sum().to_numpy()"
   ]
  },
  {
   "cell_type": "code",
   "execution_count": 19,
   "id": "f7e6bc61",
   "metadata": {
    "execution": {
     "iopub.execute_input": "2022-12-21T12:00:58.884981Z",
     "iopub.status.busy": "2022-12-21T12:00:58.884143Z",
     "iopub.status.idle": "2022-12-21T12:00:58.889457Z",
     "shell.execute_reply": "2022-12-21T12:00:58.888528Z"
    },
    "papermill": {
     "duration": 0.030362,
     "end_time": "2022-12-21T12:00:58.892152",
     "exception": false,
     "start_time": "2022-12-21T12:00:58.861790",
     "status": "completed"
    },
    "tags": []
   },
   "outputs": [],
   "source": [
    "#dataframes"
   ]
  },
  {
   "cell_type": "code",
   "execution_count": 20,
   "id": "8f58dea9",
   "metadata": {
    "execution": {
     "iopub.execute_input": "2022-12-21T12:00:58.936738Z",
     "iopub.status.busy": "2022-12-21T12:00:58.935575Z",
     "iopub.status.idle": "2022-12-21T12:00:58.946771Z",
     "shell.execute_reply": "2022-12-21T12:00:58.945767Z"
    },
    "papermill": {
     "duration": 0.037077,
     "end_time": "2022-12-21T12:00:58.949755",
     "exception": false,
     "start_time": "2022-12-21T12:00:58.912678",
     "status": "completed"
    },
    "tags": []
   },
   "outputs": [],
   "source": [
    "data_1 = data[data['Type'] == 'Typical aura with migraine']\n",
    "data_2 = data[data['Type'] == 'Migraine without aura']\n",
    "data_3 = data[data['Type'] == 'Familial hemiplegic migraine']\n",
    "data_4 = data[data['Type'] == 'Typical aura without migraine']\n",
    "data_5 = data[data['Type'] == 'Basilar-type aura']\n",
    "data_6 = data[data['Type'] == 'Other']\n",
    "data_7 = data[data['Type'] == 'Sporadic hemiplegic migraine']"
   ]
  },
  {
   "cell_type": "code",
   "execution_count": 21,
   "id": "ddca92fb",
   "metadata": {
    "execution": {
     "iopub.execute_input": "2022-12-21T12:00:58.992158Z",
     "iopub.status.busy": "2022-12-21T12:00:58.991634Z",
     "iopub.status.idle": "2022-12-21T12:00:59.000323Z",
     "shell.execute_reply": "2022-12-21T12:00:58.998954Z"
    },
    "papermill": {
     "duration": 0.034216,
     "end_time": "2022-12-21T12:00:59.003951",
     "exception": false,
     "start_time": "2022-12-21T12:00:58.969735",
     "status": "completed"
    },
    "tags": []
   },
   "outputs": [
    {
     "data": {
      "text/plain": [
       "(400, 24)"
      ]
     },
     "execution_count": 21,
     "metadata": {},
     "output_type": "execute_result"
    }
   ],
   "source": [
    "data.shape"
   ]
  },
  {
   "cell_type": "code",
   "execution_count": 22,
   "id": "fe2ed113",
   "metadata": {
    "execution": {
     "iopub.execute_input": "2022-12-21T12:00:59.047626Z",
     "iopub.status.busy": "2022-12-21T12:00:59.047146Z",
     "iopub.status.idle": "2022-12-21T12:00:59.054090Z",
     "shell.execute_reply": "2022-12-21T12:00:59.052985Z"
    },
    "papermill": {
     "duration": 0.03164,
     "end_time": "2022-12-21T12:00:59.056482",
     "exception": false,
     "start_time": "2022-12-21T12:00:59.024842",
     "status": "completed"
    },
    "tags": []
   },
   "outputs": [
    {
     "data": {
      "text/plain": [
       "57.142857142857146"
      ]
     },
     "execution_count": 22,
     "metadata": {},
     "output_type": "execute_result"
    }
   ],
   "source": [
    "400/7"
   ]
  },
  {
   "cell_type": "code",
   "execution_count": 23,
   "id": "a068a8c9",
   "metadata": {
    "execution": {
     "iopub.execute_input": "2022-12-21T12:00:59.102160Z",
     "iopub.status.busy": "2022-12-21T12:00:59.101726Z",
     "iopub.status.idle": "2022-12-21T12:00:59.115749Z",
     "shell.execute_reply": "2022-12-21T12:00:59.114290Z"
    },
    "papermill": {
     "duration": 0.040248,
     "end_time": "2022-12-21T12:00:59.118438",
     "exception": false,
     "start_time": "2022-12-21T12:00:59.078190",
     "status": "completed"
    },
    "tags": []
   },
   "outputs": [],
   "source": [
    "from sklearn.utils import resample\n",
    "data_1_resample = resample(data_1, n_samples=200, \n",
    "                           random_state=123, replace=True)\n",
    "data_2_resample = resample(data_2, n_samples=200, \n",
    "                           random_state=123, replace=True)\n",
    "data_3_resample = resample(data_3, n_samples=200, \n",
    "                           random_state=123, replace=True)\n",
    "data_4_resample = resample(data_4, n_samples=200, \n",
    "                           random_state=123, replace=True)\n",
    "data_5_resample = resample(data_5, n_samples=200, \n",
    "                           random_state=123, replace=True)\n",
    "data_6_resample = resample(data_6, n_samples=200, \n",
    "                           random_state=123, replace=True)\n",
    "data_7_resample = resample(data_7, n_samples=200, \n",
    "                           random_state=123, replace=True)"
   ]
  },
  {
   "cell_type": "code",
   "execution_count": 24,
   "id": "53d193f8",
   "metadata": {
    "execution": {
     "iopub.execute_input": "2022-12-21T12:00:59.165247Z",
     "iopub.status.busy": "2022-12-21T12:00:59.164790Z",
     "iopub.status.idle": "2022-12-21T12:00:59.174848Z",
     "shell.execute_reply": "2022-12-21T12:00:59.173354Z"
    },
    "papermill": {
     "duration": 0.037214,
     "end_time": "2022-12-21T12:00:59.177965",
     "exception": false,
     "start_time": "2022-12-21T12:00:59.140751",
     "status": "completed"
    },
    "tags": []
   },
   "outputs": [],
   "source": [
    "train_dataset = pd.concat([data_1, data_2_resample, data_3_resample, data_4_resample, \n",
    "                          data_5_resample, data_6_resample, data_7_resample])"
   ]
  },
  {
   "cell_type": "code",
   "execution_count": 25,
   "id": "552a1e7e",
   "metadata": {
    "execution": {
     "iopub.execute_input": "2022-12-21T12:00:59.223244Z",
     "iopub.status.busy": "2022-12-21T12:00:59.222688Z",
     "iopub.status.idle": "2022-12-21T12:00:59.250308Z",
     "shell.execute_reply": "2022-12-21T12:00:59.248825Z"
    },
    "papermill": {
     "duration": 0.053872,
     "end_time": "2022-12-21T12:00:59.253325",
     "exception": false,
     "start_time": "2022-12-21T12:00:59.199453",
     "status": "completed"
    },
    "tags": []
   },
   "outputs": [
    {
     "data": {
      "text/html": [
       "<div>\n",
       "<style scoped>\n",
       "    .dataframe tbody tr th:only-of-type {\n",
       "        vertical-align: middle;\n",
       "    }\n",
       "\n",
       "    .dataframe tbody tr th {\n",
       "        vertical-align: top;\n",
       "    }\n",
       "\n",
       "    .dataframe thead th {\n",
       "        text-align: right;\n",
       "    }\n",
       "</style>\n",
       "<table border=\"1\" class=\"dataframe\">\n",
       "  <thead>\n",
       "    <tr style=\"text-align: right;\">\n",
       "      <th></th>\n",
       "      <th>Age</th>\n",
       "      <th>Duration</th>\n",
       "      <th>Frequency</th>\n",
       "      <th>Location</th>\n",
       "      <th>Character</th>\n",
       "      <th>Intensity</th>\n",
       "      <th>Nausea</th>\n",
       "      <th>Vomit</th>\n",
       "      <th>Phonophobia</th>\n",
       "      <th>Photophobia</th>\n",
       "      <th>...</th>\n",
       "      <th>Vertigo</th>\n",
       "      <th>Tinnitus</th>\n",
       "      <th>Hypoacusis</th>\n",
       "      <th>Diplopia</th>\n",
       "      <th>Defect</th>\n",
       "      <th>Ataxia</th>\n",
       "      <th>Conscience</th>\n",
       "      <th>Paresthesia</th>\n",
       "      <th>DPF</th>\n",
       "      <th>Type</th>\n",
       "    </tr>\n",
       "  </thead>\n",
       "  <tbody>\n",
       "    <tr>\n",
       "      <th>0</th>\n",
       "      <td>30</td>\n",
       "      <td>1</td>\n",
       "      <td>5</td>\n",
       "      <td>1</td>\n",
       "      <td>1</td>\n",
       "      <td>2</td>\n",
       "      <td>1</td>\n",
       "      <td>0</td>\n",
       "      <td>1</td>\n",
       "      <td>1</td>\n",
       "      <td>...</td>\n",
       "      <td>0</td>\n",
       "      <td>0</td>\n",
       "      <td>0</td>\n",
       "      <td>0</td>\n",
       "      <td>0</td>\n",
       "      <td>0</td>\n",
       "      <td>0</td>\n",
       "      <td>0</td>\n",
       "      <td>0</td>\n",
       "      <td>Typical aura with migraine</td>\n",
       "    </tr>\n",
       "    <tr>\n",
       "      <th>1</th>\n",
       "      <td>50</td>\n",
       "      <td>3</td>\n",
       "      <td>5</td>\n",
       "      <td>1</td>\n",
       "      <td>1</td>\n",
       "      <td>3</td>\n",
       "      <td>1</td>\n",
       "      <td>1</td>\n",
       "      <td>1</td>\n",
       "      <td>1</td>\n",
       "      <td>...</td>\n",
       "      <td>1</td>\n",
       "      <td>0</td>\n",
       "      <td>0</td>\n",
       "      <td>0</td>\n",
       "      <td>0</td>\n",
       "      <td>0</td>\n",
       "      <td>0</td>\n",
       "      <td>0</td>\n",
       "      <td>0</td>\n",
       "      <td>Typical aura with migraine</td>\n",
       "    </tr>\n",
       "    <tr>\n",
       "      <th>2</th>\n",
       "      <td>53</td>\n",
       "      <td>2</td>\n",
       "      <td>1</td>\n",
       "      <td>1</td>\n",
       "      <td>1</td>\n",
       "      <td>2</td>\n",
       "      <td>1</td>\n",
       "      <td>1</td>\n",
       "      <td>1</td>\n",
       "      <td>1</td>\n",
       "      <td>...</td>\n",
       "      <td>0</td>\n",
       "      <td>0</td>\n",
       "      <td>0</td>\n",
       "      <td>0</td>\n",
       "      <td>0</td>\n",
       "      <td>0</td>\n",
       "      <td>0</td>\n",
       "      <td>0</td>\n",
       "      <td>0</td>\n",
       "      <td>Typical aura with migraine</td>\n",
       "    </tr>\n",
       "  </tbody>\n",
       "</table>\n",
       "<p>3 rows × 24 columns</p>\n",
       "</div>"
      ],
      "text/plain": [
       "   Age  Duration  Frequency  Location  Character  Intensity  Nausea  Vomit  \\\n",
       "0   30         1          5         1          1          2       1      0   \n",
       "1   50         3          5         1          1          3       1      1   \n",
       "2   53         2          1         1          1          2       1      1   \n",
       "\n",
       "   Phonophobia  Photophobia  ...  Vertigo  Tinnitus  Hypoacusis  Diplopia  \\\n",
       "0            1            1  ...        0         0           0         0   \n",
       "1            1            1  ...        1         0           0         0   \n",
       "2            1            1  ...        0         0           0         0   \n",
       "\n",
       "   Defect  Ataxia  Conscience  Paresthesia  DPF                        Type  \n",
       "0       0       0           0            0    0  Typical aura with migraine  \n",
       "1       0       0           0            0    0  Typical aura with migraine  \n",
       "2       0       0           0            0    0  Typical aura with migraine  \n",
       "\n",
       "[3 rows x 24 columns]"
      ]
     },
     "execution_count": 25,
     "metadata": {},
     "output_type": "execute_result"
    }
   ],
   "source": [
    "train_dataset.head(3)"
   ]
  },
  {
   "cell_type": "code",
   "execution_count": 26,
   "id": "91310d85",
   "metadata": {
    "execution": {
     "iopub.execute_input": "2022-12-21T12:00:59.298225Z",
     "iopub.status.busy": "2022-12-21T12:00:59.297228Z",
     "iopub.status.idle": "2022-12-21T12:00:59.305925Z",
     "shell.execute_reply": "2022-12-21T12:00:59.304574Z"
    },
    "papermill": {
     "duration": 0.033393,
     "end_time": "2022-12-21T12:00:59.308274",
     "exception": false,
     "start_time": "2022-12-21T12:00:59.274881",
     "status": "completed"
    },
    "tags": []
   },
   "outputs": [
    {
     "data": {
      "text/plain": [
       "(1447, 24)"
      ]
     },
     "execution_count": 26,
     "metadata": {},
     "output_type": "execute_result"
    }
   ],
   "source": [
    "train_dataset.shape"
   ]
  },
  {
   "cell_type": "code",
   "execution_count": 27,
   "id": "48644fe0",
   "metadata": {
    "execution": {
     "iopub.execute_input": "2022-12-21T12:00:59.354219Z",
     "iopub.status.busy": "2022-12-21T12:00:59.353612Z",
     "iopub.status.idle": "2022-12-21T12:00:59.569152Z",
     "shell.execute_reply": "2022-12-21T12:00:59.567522Z"
    },
    "papermill": {
     "duration": 0.243412,
     "end_time": "2022-12-21T12:00:59.573362",
     "exception": false,
     "start_time": "2022-12-21T12:00:59.329950",
     "status": "completed"
    },
    "tags": []
   },
   "outputs": [
    {
     "data": {
      "text/plain": [
       "<matplotlib.patches.Circle at 0x7f76adc63ed0>"
      ]
     },
     "execution_count": 27,
     "metadata": {},
     "output_type": "execute_result"
    },
    {
     "data": {
      "image/png": "[encoded data removed]",
      "text/plain": [
       "<Figure size 720x576 with 1 Axes>"
      ]
     },
     "metadata": {},
     "output_type": "display_data"
    }
   ],
   "source": [
    "plt.figure(figsize=(10, 8))\n",
    "circle = plt.Circle((0, 0), 0.7, color='white')\n",
    "plt.pie(train_dataset.Type.value_counts(), labels=['Typical Aura With Migraine', 'Migraine Without Aura', 'Familial Hemiplegic Nigraine',\n",
    "                                                'Typical Aura Without Migraine', 'Basilar Typed Aura', \n",
    "                                         'Other', 'Sporadic Hemiplegic Migraine'], colors=['blue', 'magenta', 'cyan', \n",
    "                                                                                   'red', 'grey', 'black', 'yellow'])\n",
    "p = plt.gcf()\n",
    "p.gca().add_artist(circle)"
   ]
  },
  {
   "cell_type": "code",
   "execution_count": 28,
   "id": "f942882c",
   "metadata": {
    "execution": {
     "iopub.execute_input": "2022-12-21T12:00:59.618959Z",
     "iopub.status.busy": "2022-12-21T12:00:59.618551Z",
     "iopub.status.idle": "2022-12-21T12:01:00.172851Z",
     "shell.execute_reply": "2022-12-21T12:01:00.171304Z"
    },
    "papermill": {
     "duration": 0.580341,
     "end_time": "2022-12-21T12:01:00.175797",
     "exception": false,
     "start_time": "2022-12-21T12:00:59.595456",
     "status": "completed"
    },
    "tags": []
   },
   "outputs": [
    {
     "data": {
      "text/plain": [
       "<seaborn.axisgrid.FacetGrid at 0x7f76adeebe10>"
      ]
     },
     "execution_count": 28,
     "metadata": {},
     "output_type": "execute_result"
    },
    {
     "data": {
      "image/png": "[encoded data removed]",
      "text/plain": [
       "<Figure size 1296x432 with 1 Axes>"
      ]
     },
     "metadata": {},
     "output_type": "display_data"
    }
   ],
   "source": [
    "sns.catplot(y='Type', x='Age', data=train_dataset.sort_values(\"Type\", ascending=False),\n",
    "           kind='boxen', height=6, aspect=3)"
   ]
  },
  {
   "cell_type": "code",
   "execution_count": 29,
   "id": "3f556a91",
   "metadata": {
    "execution": {
     "iopub.execute_input": "2022-12-21T12:01:00.225011Z",
     "iopub.status.busy": "2022-12-21T12:01:00.223357Z",
     "iopub.status.idle": "2022-12-21T12:01:00.231709Z",
     "shell.execute_reply": "2022-12-21T12:01:00.230599Z"
    },
    "papermill": {
     "duration": 0.035091,
     "end_time": "2022-12-21T12:01:00.234416",
     "exception": false,
     "start_time": "2022-12-21T12:01:00.199325",
     "status": "completed"
    },
    "tags": []
   },
   "outputs": [],
   "source": [
    "X = train_dataset.drop('Type', axis=1)\n",
    "Y = train_dataset['Type']"
   ]
  },
  {
   "cell_type": "code",
   "execution_count": 30,
   "id": "1cca0742",
   "metadata": {
    "execution": {
     "iopub.execute_input": "2022-12-21T12:01:00.291756Z",
     "iopub.status.busy": "2022-12-21T12:01:00.291272Z",
     "iopub.status.idle": "2022-12-21T12:01:00.299261Z",
     "shell.execute_reply": "2022-12-21T12:01:00.297929Z"
    },
    "papermill": {
     "duration": 0.04371,
     "end_time": "2022-12-21T12:01:00.301774",
     "exception": false,
     "start_time": "2022-12-21T12:01:00.258064",
     "status": "completed"
    },
    "tags": []
   },
   "outputs": [
    {
     "data": {
      "text/plain": [
       "((1447, 23), (1447,))"
      ]
     },
     "execution_count": 30,
     "metadata": {},
     "output_type": "execute_result"
    }
   ],
   "source": [
    "X.shape , Y.shape"
   ]
  },
  {
   "cell_type": "code",
   "execution_count": 31,
   "id": "6131421e",
   "metadata": {
    "execution": {
     "iopub.execute_input": "2022-12-21T12:01:00.350618Z",
     "iopub.status.busy": "2022-12-21T12:01:00.349835Z",
     "iopub.status.idle": "2022-12-21T12:01:00.371319Z",
     "shell.execute_reply": "2022-12-21T12:01:00.370055Z"
    },
    "papermill": {
     "duration": 0.049466,
     "end_time": "2022-12-21T12:01:00.374089",
     "exception": false,
     "start_time": "2022-12-21T12:01:00.324623",
     "status": "completed"
    },
    "tags": []
   },
   "outputs": [
    {
     "data": {
      "text/html": [
       "<div>\n",
       "<style scoped>\n",
       "    .dataframe tbody tr th:only-of-type {\n",
       "        vertical-align: middle;\n",
       "    }\n",
       "\n",
       "    .dataframe tbody tr th {\n",
       "        vertical-align: top;\n",
       "    }\n",
       "\n",
       "    .dataframe thead th {\n",
       "        text-align: right;\n",
       "    }\n",
       "</style>\n",
       "<table border=\"1\" class=\"dataframe\">\n",
       "  <thead>\n",
       "    <tr style=\"text-align: right;\">\n",
       "      <th></th>\n",
       "      <th>Age</th>\n",
       "      <th>Duration</th>\n",
       "      <th>Frequency</th>\n",
       "      <th>Location</th>\n",
       "      <th>Character</th>\n",
       "      <th>Intensity</th>\n",
       "      <th>Nausea</th>\n",
       "      <th>Vomit</th>\n",
       "      <th>Phonophobia</th>\n",
       "      <th>Photophobia</th>\n",
       "      <th>...</th>\n",
       "      <th>Dysarthria</th>\n",
       "      <th>Vertigo</th>\n",
       "      <th>Tinnitus</th>\n",
       "      <th>Hypoacusis</th>\n",
       "      <th>Diplopia</th>\n",
       "      <th>Defect</th>\n",
       "      <th>Ataxia</th>\n",
       "      <th>Conscience</th>\n",
       "      <th>Paresthesia</th>\n",
       "      <th>DPF</th>\n",
       "    </tr>\n",
       "  </thead>\n",
       "  <tbody>\n",
       "    <tr>\n",
       "      <th>0</th>\n",
       "      <td>30</td>\n",
       "      <td>1</td>\n",
       "      <td>5</td>\n",
       "      <td>1</td>\n",
       "      <td>1</td>\n",
       "      <td>2</td>\n",
       "      <td>1</td>\n",
       "      <td>0</td>\n",
       "      <td>1</td>\n",
       "      <td>1</td>\n",
       "      <td>...</td>\n",
       "      <td>0</td>\n",
       "      <td>0</td>\n",
       "      <td>0</td>\n",
       "      <td>0</td>\n",
       "      <td>0</td>\n",
       "      <td>0</td>\n",
       "      <td>0</td>\n",
       "      <td>0</td>\n",
       "      <td>0</td>\n",
       "      <td>0</td>\n",
       "    </tr>\n",
       "    <tr>\n",
       "      <th>1</th>\n",
       "      <td>50</td>\n",
       "      <td>3</td>\n",
       "      <td>5</td>\n",
       "      <td>1</td>\n",
       "      <td>1</td>\n",
       "      <td>3</td>\n",
       "      <td>1</td>\n",
       "      <td>1</td>\n",
       "      <td>1</td>\n",
       "      <td>1</td>\n",
       "      <td>...</td>\n",
       "      <td>0</td>\n",
       "      <td>1</td>\n",
       "      <td>0</td>\n",
       "      <td>0</td>\n",
       "      <td>0</td>\n",
       "      <td>0</td>\n",
       "      <td>0</td>\n",
       "      <td>0</td>\n",
       "      <td>0</td>\n",
       "      <td>0</td>\n",
       "    </tr>\n",
       "    <tr>\n",
       "      <th>2</th>\n",
       "      <td>53</td>\n",
       "      <td>2</td>\n",
       "      <td>1</td>\n",
       "      <td>1</td>\n",
       "      <td>1</td>\n",
       "      <td>2</td>\n",
       "      <td>1</td>\n",
       "      <td>1</td>\n",
       "      <td>1</td>\n",
       "      <td>1</td>\n",
       "      <td>...</td>\n",
       "      <td>0</td>\n",
       "      <td>0</td>\n",
       "      <td>0</td>\n",
       "      <td>0</td>\n",
       "      <td>0</td>\n",
       "      <td>0</td>\n",
       "      <td>0</td>\n",
       "      <td>0</td>\n",
       "      <td>0</td>\n",
       "      <td>0</td>\n",
       "    </tr>\n",
       "    <tr>\n",
       "      <th>3</th>\n",
       "      <td>45</td>\n",
       "      <td>3</td>\n",
       "      <td>5</td>\n",
       "      <td>1</td>\n",
       "      <td>1</td>\n",
       "      <td>3</td>\n",
       "      <td>1</td>\n",
       "      <td>0</td>\n",
       "      <td>1</td>\n",
       "      <td>1</td>\n",
       "      <td>...</td>\n",
       "      <td>0</td>\n",
       "      <td>1</td>\n",
       "      <td>0</td>\n",
       "      <td>0</td>\n",
       "      <td>0</td>\n",
       "      <td>0</td>\n",
       "      <td>0</td>\n",
       "      <td>0</td>\n",
       "      <td>0</td>\n",
       "      <td>0</td>\n",
       "    </tr>\n",
       "    <tr>\n",
       "      <th>4</th>\n",
       "      <td>53</td>\n",
       "      <td>1</td>\n",
       "      <td>1</td>\n",
       "      <td>1</td>\n",
       "      <td>1</td>\n",
       "      <td>2</td>\n",
       "      <td>1</td>\n",
       "      <td>0</td>\n",
       "      <td>1</td>\n",
       "      <td>1</td>\n",
       "      <td>...</td>\n",
       "      <td>0</td>\n",
       "      <td>0</td>\n",
       "      <td>0</td>\n",
       "      <td>0</td>\n",
       "      <td>0</td>\n",
       "      <td>0</td>\n",
       "      <td>0</td>\n",
       "      <td>0</td>\n",
       "      <td>0</td>\n",
       "      <td>1</td>\n",
       "    </tr>\n",
       "  </tbody>\n",
       "</table>\n",
       "<p>5 rows × 23 columns</p>\n",
       "</div>"
      ],
      "text/plain": [
       "   Age  Duration  Frequency  Location  Character  Intensity  Nausea  Vomit  \\\n",
       "0   30         1          5         1          1          2       1      0   \n",
       "1   50         3          5         1          1          3       1      1   \n",
       "2   53         2          1         1          1          2       1      1   \n",
       "3   45         3          5         1          1          3       1      0   \n",
       "4   53         1          1         1          1          2       1      0   \n",
       "\n",
       "   Phonophobia  Photophobia  ...  Dysarthria  Vertigo  Tinnitus  Hypoacusis  \\\n",
       "0            1            1  ...           0        0         0           0   \n",
       "1            1            1  ...           0        1         0           0   \n",
       "2            1            1  ...           0        0         0           0   \n",
       "3            1            1  ...           0        1         0           0   \n",
       "4            1            1  ...           0        0         0           0   \n",
       "\n",
       "   Diplopia  Defect  Ataxia  Conscience  Paresthesia  DPF  \n",
       "0         0       0       0           0            0    0  \n",
       "1         0       0       0           0            0    0  \n",
       "2         0       0       0           0            0    0  \n",
       "3         0       0       0           0            0    0  \n",
       "4         0       0       0           0            0    1  \n",
       "\n",
       "[5 rows x 23 columns]"
      ]
     },
     "execution_count": 31,
     "metadata": {},
     "output_type": "execute_result"
    }
   ],
   "source": [
    "X.head(5)"
   ]
  },
  {
   "cell_type": "code",
   "execution_count": 32,
   "id": "7606cd0b",
   "metadata": {
    "execution": {
     "iopub.execute_input": "2022-12-21T12:01:00.423307Z",
     "iopub.status.busy": "2022-12-21T12:01:00.422573Z",
     "iopub.status.idle": "2022-12-21T12:01:00.431327Z",
     "shell.execute_reply": "2022-12-21T12:01:00.430212Z"
    },
    "papermill": {
     "duration": 0.035539,
     "end_time": "2022-12-21T12:01:00.433656",
     "exception": false,
     "start_time": "2022-12-21T12:01:00.398117",
     "status": "completed"
    },
    "tags": []
   },
   "outputs": [
    {
     "data": {
      "text/plain": [
       "0    Typical aura with migraine\n",
       "1    Typical aura with migraine\n",
       "2    Typical aura with migraine\n",
       "3    Typical aura with migraine\n",
       "4    Typical aura with migraine\n",
       "Name: Type, dtype: object"
      ]
     },
     "execution_count": 32,
     "metadata": {},
     "output_type": "execute_result"
    }
   ],
   "source": [
    "Y.head(5)"
   ]
  },
  {
   "cell_type": "code",
   "execution_count": 33,
   "id": "7ef43b83",
   "metadata": {
    "execution": {
     "iopub.execute_input": "2022-12-21T12:01:00.481913Z",
     "iopub.status.busy": "2022-12-21T12:01:00.481398Z",
     "iopub.status.idle": "2022-12-21T12:01:00.493648Z",
     "shell.execute_reply": "2022-12-21T12:01:00.492529Z"
    },
    "papermill": {
     "duration": 0.039114,
     "end_time": "2022-12-21T12:01:00.496302",
     "exception": false,
     "start_time": "2022-12-21T12:01:00.457188",
     "status": "completed"
    },
    "tags": []
   },
   "outputs": [
    {
     "name": "stdout",
     "output_type": "stream",
     "text": [
      "(1157, 23)\n",
      "(290, 23)\n",
      "(1157,)\n",
      "(290,)\n"
     ]
    },
    {
     "data": {
      "text/plain": [
       "(290,)"
      ]
     },
     "execution_count": 33,
     "metadata": {},
     "output_type": "execute_result"
    }
   ],
   "source": [
    "\n",
    "X_train, X_test, Y_train, Y_test = train_test_split(X, Y, \n",
    "                                                  test_size=0.2, \n",
    "                                                  random_state=123)\n",
    "\n",
    "print(X_train.shape)\n",
    "print(X_test.shape)\n",
    "print(Y_train.shape)\n",
    "print(Y_test.shape)\n",
    "(1157, 23)\n",
    "(290, 23)\n",
    "(1157,)\n",
    "(290,)"
   ]
  },
  {
   "cell_type": "code",
   "execution_count": 34,
   "id": "0843740d",
   "metadata": {
    "execution": {
     "iopub.execute_input": "2022-12-21T12:01:00.545810Z",
     "iopub.status.busy": "2022-12-21T12:01:00.545284Z",
     "iopub.status.idle": "2022-12-21T12:01:00.553328Z",
     "shell.execute_reply": "2022-12-21T12:01:00.551934Z"
    },
    "papermill": {
     "duration": 0.035098,
     "end_time": "2022-12-21T12:01:00.555779",
     "exception": false,
     "start_time": "2022-12-21T12:01:00.520681",
     "status": "completed"
    },
    "tags": []
   },
   "outputs": [
    {
     "data": {
      "text/plain": [
       "((1447, 23), (1447, 23))"
      ]
     },
     "execution_count": 34,
     "metadata": {},
     "output_type": "execute_result"
    }
   ],
   "source": [
    "X_arr = np.array(X)\n",
    "X_arr.shape, X.shape"
   ]
  },
  {
   "cell_type": "code",
   "execution_count": 35,
   "id": "3eb41a62",
   "metadata": {
    "execution": {
     "iopub.execute_input": "2022-12-21T12:01:00.603920Z",
     "iopub.status.busy": "2022-12-21T12:01:00.602972Z",
     "iopub.status.idle": "2022-12-21T12:01:00.611626Z",
     "shell.execute_reply": "2022-12-21T12:01:00.610232Z"
    },
    "papermill": {
     "duration": 0.035123,
     "end_time": "2022-12-21T12:01:00.614160",
     "exception": false,
     "start_time": "2022-12-21T12:01:00.579037",
     "status": "completed"
    },
    "tags": []
   },
   "outputs": [
    {
     "data": {
      "text/plain": [
       "array([[30,  1,  5, ...,  0,  0,  0],\n",
       "       [50,  3,  5, ...,  0,  0,  0],\n",
       "       [53,  2,  1, ...,  0,  0,  0],\n",
       "       ...,\n",
       "       [21,  1,  1, ...,  0,  0,  0],\n",
       "       [19,  1,  2, ...,  0,  0,  0],\n",
       "       [24,  1,  1, ...,  0,  0,  0]])"
      ]
     },
     "execution_count": 35,
     "metadata": {},
     "output_type": "execute_result"
    }
   ],
   "source": [
    "X_arr"
   ]
  },
  {
   "cell_type": "code",
   "execution_count": 36,
   "id": "909f797b",
   "metadata": {
    "execution": {
     "iopub.execute_input": "2022-12-21T12:01:00.661392Z",
     "iopub.status.busy": "2022-12-21T12:01:00.660977Z",
     "iopub.status.idle": "2022-12-21T12:01:00.666994Z",
     "shell.execute_reply": "2022-12-21T12:01:00.665670Z"
    },
    "papermill": {
     "duration": 0.032384,
     "end_time": "2022-12-21T12:01:00.669990",
     "exception": false,
     "start_time": "2022-12-21T12:01:00.637606",
     "status": "completed"
    },
    "tags": []
   },
   "outputs": [],
   "source": [
    "\n",
    "from sklearn.preprocessing import LabelEncoder"
   ]
  },
  {
   "cell_type": "code",
   "execution_count": 37,
   "id": "c5739a01",
   "metadata": {
    "execution": {
     "iopub.execute_input": "2022-12-21T12:01:00.718905Z",
     "iopub.status.busy": "2022-12-21T12:01:00.718465Z",
     "iopub.status.idle": "2022-12-21T12:01:00.725399Z",
     "shell.execute_reply": "2022-12-21T12:01:00.724074Z"
    },
    "papermill": {
     "duration": 0.033889,
     "end_time": "2022-12-21T12:01:00.727829",
     "exception": false,
     "start_time": "2022-12-21T12:01:00.693940",
     "status": "completed"
    },
    "tags": []
   },
   "outputs": [],
   "source": [
    "encoder = LabelEncoder()\n",
    "encoder.fit(Y)\n",
    "encoded_Y = encoder.transform(Y)"
   ]
  },
  {
   "cell_type": "code",
   "execution_count": 38,
   "id": "60305d0b",
   "metadata": {
    "execution": {
     "iopub.execute_input": "2022-12-21T12:01:00.774486Z",
     "iopub.status.busy": "2022-12-21T12:01:00.774017Z",
     "iopub.status.idle": "2022-12-21T12:01:00.779642Z",
     "shell.execute_reply": "2022-12-21T12:01:00.778661Z"
    },
    "papermill": {
     "duration": 0.031479,
     "end_time": "2022-12-21T12:01:00.781697",
     "exception": false,
     "start_time": "2022-12-21T12:01:00.750218",
     "status": "completed"
    },
    "tags": []
   },
   "outputs": [],
   "source": [
    "labelled_Y = to_categorical(encoded_Y)"
   ]
  },
  {
   "cell_type": "code",
   "execution_count": 39,
   "id": "20bcafd4",
   "metadata": {
    "execution": {
     "iopub.execute_input": "2022-12-21T12:01:00.828117Z",
     "iopub.status.busy": "2022-12-21T12:01:00.827669Z",
     "iopub.status.idle": "2022-12-21T12:01:00.834734Z",
     "shell.execute_reply": "2022-12-21T12:01:00.833598Z"
    },
    "papermill": {
     "duration": 0.033354,
     "end_time": "2022-12-21T12:01:00.837201",
     "exception": false,
     "start_time": "2022-12-21T12:01:00.803847",
     "status": "completed"
    },
    "tags": []
   },
   "outputs": [
    {
     "data": {
      "text/plain": [
       "(1447, 7)"
      ]
     },
     "execution_count": 39,
     "metadata": {},
     "output_type": "execute_result"
    }
   ],
   "source": [
    "labelled_Y.shape"
   ]
  },
  {
   "cell_type": "code",
   "execution_count": 40,
   "id": "92072049",
   "metadata": {
    "execution": {
     "iopub.execute_input": "2022-12-21T12:01:00.884577Z",
     "iopub.status.busy": "2022-12-21T12:01:00.884066Z",
     "iopub.status.idle": "2022-12-21T12:01:00.894058Z",
     "shell.execute_reply": "2022-12-21T12:01:00.892578Z"
    },
    "papermill": {
     "duration": 0.037479,
     "end_time": "2022-12-21T12:01:00.897300",
     "exception": false,
     "start_time": "2022-12-21T12:01:00.859821",
     "status": "completed"
    },
    "tags": []
   },
   "outputs": [
    {
     "name": "stdout",
     "output_type": "stream",
     "text": [
      "(1157, 23)\n",
      "(290, 23)\n",
      "(1157, 7)\n",
      "(290, 7)\n"
     ]
    }
   ],
   "source": [
    "X_train, X_test, Y_train, Y_test = train_test_split(X, \n",
    "                                                  labelled_Y, \n",
    "                                                  test_size=0.2, \n",
    "                                                  random_state=123)\n",
    "\n",
    "print(X_train.shape)\n",
    "print(X_test.shape)\n",
    "print(Y_train.shape)\n",
    "print(Y_test.shape)"
   ]
  },
  {
   "cell_type": "code",
   "execution_count": 41,
   "id": "e6bfbca2",
   "metadata": {
    "execution": {
     "iopub.execute_input": "2022-12-21T12:01:00.946173Z",
     "iopub.status.busy": "2022-12-21T12:01:00.945060Z",
     "iopub.status.idle": "2022-12-21T12:01:00.953494Z",
     "shell.execute_reply": "2022-12-21T12:01:00.952302Z"
    },
    "papermill": {
     "duration": 0.034629,
     "end_time": "2022-12-21T12:01:00.955991",
     "exception": false,
     "start_time": "2022-12-21T12:01:00.921362",
     "status": "completed"
    },
    "tags": []
   },
   "outputs": [],
   "source": [
    "def naural_natwork():\n",
    "    model = Sequential()\n",
    "    model.add(Dense(512, activation='relu', input_shape=(X_arr.shape[1],)))\n",
    "    model.add(Dense(256, activation='relu'))\n",
    "    model.add(Dense(128, activation='relu'))\n",
    "    model.add(Dense(7, activation='softmax'))\n",
    "    return model"
   ]
  },
  {
   "cell_type": "code",
   "execution_count": 42,
   "id": "f0002922",
   "metadata": {
    "execution": {
     "iopub.execute_input": "2022-12-21T12:01:01.005038Z",
     "iopub.status.busy": "2022-12-21T12:01:01.004538Z",
     "iopub.status.idle": "2022-12-21T12:01:24.656102Z",
     "shell.execute_reply": "2022-12-21T12:01:24.654598Z"
    },
    "papermill": {
     "duration": 23.680062,
     "end_time": "2022-12-21T12:01:24.658909",
     "exception": false,
     "start_time": "2022-12-21T12:01:00.978847",
     "status": "completed"
    },
    "tags": []
   },
   "outputs": [
    {
     "name": "stderr",
     "output_type": "stream",
     "text": [
      "2022-12-21 12:01:01.048649: I tensorflow/core/common_runtime/process_util.cc:146] Creating new thread pool with default inter op setting: 2. Tune using inter_op_parallelism_threads for best performance.\n",
      "2022-12-21 12:01:01.281883: I tensorflow/compiler/mlir/mlir_graph_optimization_pass.cc:185] None of the MLIR Optimization Passes are enabled (registered 2)\n"
     ]
    },
    {
     "name": "stdout",
     "output_type": "stream",
     "text": [
      "Epoch 1/100\n",
      "37/37 [==============================] - 1s 13ms/step - loss: 1.6910 - accuracy: 0.3621 - val_loss: 1.2070 - val_accuracy: 0.5690\n",
      "Epoch 2/100\n",
      "37/37 [==============================] - 0s 6ms/step - loss: 1.0023 - accuracy: 0.6508 - val_loss: 1.0490 - val_accuracy: 0.6345\n",
      "Epoch 3/100\n",
      "37/37 [==============================] - 0s 6ms/step - loss: 0.7470 - accuracy: 0.7519 - val_loss: 0.6110 - val_accuracy: 0.7724\n",
      "Epoch 4/100\n",
      "37/37 [==============================] - 0s 6ms/step - loss: 0.5225 - accuracy: 0.8133 - val_loss: 0.5204 - val_accuracy: 0.8103\n",
      "Epoch 5/100\n",
      "37/37 [==============================] - 0s 6ms/step - loss: 0.3603 - accuracy: 0.8807 - val_loss: 0.3371 - val_accuracy: 0.9069\n",
      "Epoch 6/100\n",
      "37/37 [==============================] - 0s 6ms/step - loss: 0.2837 - accuracy: 0.9006 - val_loss: 0.3596 - val_accuracy: 0.8621\n",
      "Epoch 7/100\n",
      "37/37 [==============================] - 0s 7ms/step - loss: 0.2852 - accuracy: 0.9023 - val_loss: 0.2850 - val_accuracy: 0.8966\n",
      "Epoch 8/100\n",
      "37/37 [==============================] - 0s 6ms/step - loss: 0.2199 - accuracy: 0.9291 - val_loss: 0.3220 - val_accuracy: 0.8897\n",
      "Epoch 9/100\n",
      "37/37 [==============================] - 0s 6ms/step - loss: 0.1980 - accuracy: 0.9317 - val_loss: 0.2284 - val_accuracy: 0.8966\n",
      "Epoch 10/100\n",
      "37/37 [==============================] - 0s 6ms/step - loss: 0.1895 - accuracy: 0.9334 - val_loss: 0.2615 - val_accuracy: 0.8931\n",
      "Epoch 11/100\n",
      "37/37 [==============================] - 0s 6ms/step - loss: 0.1771 - accuracy: 0.9283 - val_loss: 0.2333 - val_accuracy: 0.9069\n",
      "Epoch 12/100\n",
      "37/37 [==============================] - 0s 6ms/step - loss: 0.1479 - accuracy: 0.9473 - val_loss: 0.2256 - val_accuracy: 0.9345\n",
      "Epoch 13/100\n",
      "37/37 [==============================] - 0s 6ms/step - loss: 0.1486 - accuracy: 0.9430 - val_loss: 0.1641 - val_accuracy: 0.9414\n",
      "Epoch 14/100\n",
      "37/37 [==============================] - 0s 6ms/step - loss: 0.1336 - accuracy: 0.9473 - val_loss: 0.1370 - val_accuracy: 0.9448\n",
      "Epoch 15/100\n",
      "37/37 [==============================] - 0s 6ms/step - loss: 0.1487 - accuracy: 0.9447 - val_loss: 0.1305 - val_accuracy: 0.9483\n",
      "Epoch 16/100\n",
      "37/37 [==============================] - 0s 6ms/step - loss: 0.1675 - accuracy: 0.9369 - val_loss: 0.2099 - val_accuracy: 0.9069\n",
      "Epoch 17/100\n",
      "37/37 [==============================] - 0s 6ms/step - loss: 0.2568 - accuracy: 0.9032 - val_loss: 0.1394 - val_accuracy: 0.9552\n",
      "Epoch 18/100\n",
      "37/37 [==============================] - 0s 6ms/step - loss: 0.1175 - accuracy: 0.9611 - val_loss: 0.1485 - val_accuracy: 0.9448\n",
      "Epoch 19/100\n",
      "37/37 [==============================] - 0s 6ms/step - loss: 0.1092 - accuracy: 0.9637 - val_loss: 0.1342 - val_accuracy: 0.9207\n",
      "Epoch 20/100\n",
      "37/37 [==============================] - 0s 6ms/step - loss: 0.1189 - accuracy: 0.9499 - val_loss: 0.1122 - val_accuracy: 0.9517\n",
      "Epoch 21/100\n",
      "37/37 [==============================] - 0s 6ms/step - loss: 0.1153 - accuracy: 0.9568 - val_loss: 0.1261 - val_accuracy: 0.9483\n",
      "Epoch 22/100\n",
      "37/37 [==============================] - 0s 6ms/step - loss: 0.1379 - accuracy: 0.9481 - val_loss: 0.1478 - val_accuracy: 0.9379\n",
      "Epoch 23/100\n",
      "37/37 [==============================] - 0s 6ms/step - loss: 0.1283 - accuracy: 0.9507 - val_loss: 0.1323 - val_accuracy: 0.9379\n",
      "Epoch 24/100\n",
      "37/37 [==============================] - 0s 6ms/step - loss: 0.1162 - accuracy: 0.9464 - val_loss: 0.1243 - val_accuracy: 0.9448\n",
      "Epoch 25/100\n",
      "37/37 [==============================] - 0s 6ms/step - loss: 0.0887 - accuracy: 0.9715 - val_loss: 0.1303 - val_accuracy: 0.9552\n",
      "Epoch 26/100\n",
      "37/37 [==============================] - 0s 6ms/step - loss: 0.0884 - accuracy: 0.9689 - val_loss: 0.1122 - val_accuracy: 0.9621\n",
      "Epoch 27/100\n",
      "37/37 [==============================] - 0s 6ms/step - loss: 0.0808 - accuracy: 0.9741 - val_loss: 0.1167 - val_accuracy: 0.9483\n",
      "Epoch 28/100\n",
      "37/37 [==============================] - 0s 6ms/step - loss: 0.0923 - accuracy: 0.9628 - val_loss: 0.1217 - val_accuracy: 0.9552\n",
      "Epoch 29/100\n",
      "37/37 [==============================] - 0s 6ms/step - loss: 0.0834 - accuracy: 0.9620 - val_loss: 0.0967 - val_accuracy: 0.9517\n",
      "Epoch 30/100\n",
      "37/37 [==============================] - 0s 6ms/step - loss: 0.0851 - accuracy: 0.9689 - val_loss: 0.1309 - val_accuracy: 0.9621\n",
      "Epoch 31/100\n",
      "37/37 [==============================] - 0s 6ms/step - loss: 0.0797 - accuracy: 0.9706 - val_loss: 0.1040 - val_accuracy: 0.9655\n",
      "Epoch 32/100\n",
      "37/37 [==============================] - 0s 6ms/step - loss: 0.0780 - accuracy: 0.9680 - val_loss: 0.0763 - val_accuracy: 0.9690\n",
      "Epoch 33/100\n",
      "37/37 [==============================] - 0s 5ms/step - loss: 0.0942 - accuracy: 0.9663 - val_loss: 0.1236 - val_accuracy: 0.9517\n",
      "Epoch 34/100\n",
      "37/37 [==============================] - 0s 6ms/step - loss: 0.0698 - accuracy: 0.9767 - val_loss: 0.0748 - val_accuracy: 0.9724\n",
      "Epoch 35/100\n",
      "37/37 [==============================] - 0s 5ms/step - loss: 0.0920 - accuracy: 0.9637 - val_loss: 0.0964 - val_accuracy: 0.9690\n",
      "Epoch 36/100\n",
      "37/37 [==============================] - 0s 6ms/step - loss: 0.0559 - accuracy: 0.9810 - val_loss: 0.0847 - val_accuracy: 0.9724\n",
      "Epoch 37/100\n",
      "37/37 [==============================] - 0s 6ms/step - loss: 0.0824 - accuracy: 0.9689 - val_loss: 0.0823 - val_accuracy: 0.9828\n",
      "Epoch 38/100\n",
      "37/37 [==============================] - 0s 6ms/step - loss: 0.0510 - accuracy: 0.9810 - val_loss: 0.1277 - val_accuracy: 0.9483\n",
      "Epoch 39/100\n",
      "37/37 [==============================] - 0s 6ms/step - loss: 0.0684 - accuracy: 0.9741 - val_loss: 0.0649 - val_accuracy: 0.9862\n",
      "Epoch 40/100\n",
      "37/37 [==============================] - 0s 5ms/step - loss: 0.0535 - accuracy: 0.9827 - val_loss: 0.1142 - val_accuracy: 0.9655\n",
      "Epoch 41/100\n",
      "37/37 [==============================] - 0s 6ms/step - loss: 0.0588 - accuracy: 0.9767 - val_loss: 0.0592 - val_accuracy: 0.9828\n",
      "Epoch 42/100\n",
      "37/37 [==============================] - 0s 6ms/step - loss: 0.0387 - accuracy: 0.9853 - val_loss: 0.0574 - val_accuracy: 0.9828\n",
      "Epoch 43/100\n",
      "37/37 [==============================] - 0s 6ms/step - loss: 0.0466 - accuracy: 0.9801 - val_loss: 0.1023 - val_accuracy: 0.9724\n",
      "Epoch 44/100\n",
      "37/37 [==============================] - 0s 5ms/step - loss: 0.0432 - accuracy: 0.9818 - val_loss: 0.0547 - val_accuracy: 0.9793\n",
      "Epoch 45/100\n",
      "37/37 [==============================] - 0s 6ms/step - loss: 0.0408 - accuracy: 0.9870 - val_loss: 0.0758 - val_accuracy: 0.9793\n",
      "Epoch 46/100\n",
      "37/37 [==============================] - 0s 7ms/step - loss: 0.0330 - accuracy: 0.9888 - val_loss: 0.0680 - val_accuracy: 0.9793\n",
      "Epoch 47/100\n",
      "37/37 [==============================] - 0s 5ms/step - loss: 0.0465 - accuracy: 0.9862 - val_loss: 0.0565 - val_accuracy: 0.9897\n",
      "Epoch 48/100\n",
      "37/37 [==============================] - 0s 5ms/step - loss: 0.0289 - accuracy: 0.9888 - val_loss: 0.0877 - val_accuracy: 0.9759\n",
      "Epoch 49/100\n",
      "37/37 [==============================] - 0s 6ms/step - loss: 0.0653 - accuracy: 0.9749 - val_loss: 0.1524 - val_accuracy: 0.9586\n",
      "Epoch 50/100\n",
      "37/37 [==============================] - 0s 6ms/step - loss: 0.0552 - accuracy: 0.9801 - val_loss: 0.0911 - val_accuracy: 0.9793\n",
      "Epoch 51/100\n",
      "37/37 [==============================] - 0s 6ms/step - loss: 0.0399 - accuracy: 0.9862 - val_loss: 0.0763 - val_accuracy: 0.9759\n",
      "Epoch 52/100\n",
      "37/37 [==============================] - 0s 6ms/step - loss: 0.0507 - accuracy: 0.9836 - val_loss: 0.0631 - val_accuracy: 0.9862\n",
      "Epoch 53/100\n",
      "37/37 [==============================] - 0s 6ms/step - loss: 0.0369 - accuracy: 0.9862 - val_loss: 0.1105 - val_accuracy: 0.9724\n",
      "Epoch 54/100\n",
      "37/37 [==============================] - 0s 6ms/step - loss: 0.0461 - accuracy: 0.9827 - val_loss: 0.0887 - val_accuracy: 0.9759\n",
      "Epoch 55/100\n",
      "37/37 [==============================] - 0s 6ms/step - loss: 0.0302 - accuracy: 0.9905 - val_loss: 0.0719 - val_accuracy: 0.9759\n",
      "Epoch 56/100\n",
      "37/37 [==============================] - 0s 6ms/step - loss: 0.0256 - accuracy: 0.9896 - val_loss: 0.0565 - val_accuracy: 0.9897\n",
      "Epoch 57/100\n",
      "37/37 [==============================] - 0s 5ms/step - loss: 0.0379 - accuracy: 0.9879 - val_loss: 0.0937 - val_accuracy: 0.9759\n",
      "Epoch 58/100\n",
      "37/37 [==============================] - 0s 6ms/step - loss: 0.0293 - accuracy: 0.9862 - val_loss: 0.0685 - val_accuracy: 0.9793\n",
      "Epoch 59/100\n",
      "37/37 [==============================] - 0s 6ms/step - loss: 0.0360 - accuracy: 0.9888 - val_loss: 0.0666 - val_accuracy: 0.9793\n",
      "Epoch 60/100\n",
      "37/37 [==============================] - 0s 6ms/step - loss: 0.0353 - accuracy: 0.9888 - val_loss: 0.0499 - val_accuracy: 0.9931\n",
      "Epoch 61/100\n",
      "37/37 [==============================] - 0s 6ms/step - loss: 0.0241 - accuracy: 0.9939 - val_loss: 0.0646 - val_accuracy: 0.9793\n",
      "Epoch 62/100\n",
      "37/37 [==============================] - 0s 6ms/step - loss: 0.0269 - accuracy: 0.9888 - val_loss: 0.0944 - val_accuracy: 0.9759\n",
      "Epoch 63/100\n",
      "37/37 [==============================] - 0s 6ms/step - loss: 0.0848 - accuracy: 0.9697 - val_loss: 0.1085 - val_accuracy: 0.9586\n",
      "Epoch 64/100\n",
      "37/37 [==============================] - 0s 6ms/step - loss: 0.1296 - accuracy: 0.9481 - val_loss: 0.0967 - val_accuracy: 0.9586\n",
      "Epoch 65/100\n",
      "37/37 [==============================] - 0s 6ms/step - loss: 0.0482 - accuracy: 0.9818 - val_loss: 0.0797 - val_accuracy: 0.9793\n",
      "Epoch 66/100\n",
      "37/37 [==============================] - 0s 5ms/step - loss: 0.0299 - accuracy: 0.9922 - val_loss: 0.0441 - val_accuracy: 0.9897\n",
      "Epoch 67/100\n",
      "37/37 [==============================] - 0s 5ms/step - loss: 0.0244 - accuracy: 0.9914 - val_loss: 0.0844 - val_accuracy: 0.9621\n",
      "Epoch 68/100\n",
      "37/37 [==============================] - 0s 5ms/step - loss: 0.0358 - accuracy: 0.9879 - val_loss: 0.1067 - val_accuracy: 0.9586\n",
      "Epoch 69/100\n",
      "37/37 [==============================] - 0s 6ms/step - loss: 0.0284 - accuracy: 0.9914 - val_loss: 0.1089 - val_accuracy: 0.9759\n",
      "Epoch 70/100\n",
      "37/37 [==============================] - 0s 6ms/step - loss: 0.0317 - accuracy: 0.9896 - val_loss: 0.0476 - val_accuracy: 0.9793\n",
      "Epoch 71/100\n",
      "37/37 [==============================] - 0s 5ms/step - loss: 0.0228 - accuracy: 0.9888 - val_loss: 0.1064 - val_accuracy: 0.9724\n",
      "Epoch 72/100\n",
      "37/37 [==============================] - 0s 6ms/step - loss: 0.0363 - accuracy: 0.9844 - val_loss: 0.0338 - val_accuracy: 0.9966\n",
      "Epoch 73/100\n",
      "37/37 [==============================] - 0s 6ms/step - loss: 0.0529 - accuracy: 0.9818 - val_loss: 0.1012 - val_accuracy: 0.9759\n",
      "Epoch 74/100\n",
      "37/37 [==============================] - 0s 6ms/step - loss: 0.0344 - accuracy: 0.9879 - val_loss: 0.0332 - val_accuracy: 0.9966\n",
      "Epoch 75/100\n",
      "37/37 [==============================] - 0s 6ms/step - loss: 0.0464 - accuracy: 0.9853 - val_loss: 0.1067 - val_accuracy: 0.9552\n",
      "Epoch 76/100\n",
      "37/37 [==============================] - 0s 6ms/step - loss: 0.0299 - accuracy: 0.9870 - val_loss: 0.0720 - val_accuracy: 0.9828\n",
      "Epoch 77/100\n",
      "37/37 [==============================] - 0s 6ms/step - loss: 0.0340 - accuracy: 0.9879 - val_loss: 0.0615 - val_accuracy: 0.9862\n",
      "Epoch 78/100\n",
      "37/37 [==============================] - 0s 6ms/step - loss: 0.0262 - accuracy: 0.9914 - val_loss: 0.0609 - val_accuracy: 0.9897\n",
      "Epoch 79/100\n",
      "37/37 [==============================] - 0s 6ms/step - loss: 0.0235 - accuracy: 0.9914 - val_loss: 0.0590 - val_accuracy: 0.9828\n",
      "Epoch 80/100\n",
      "37/37 [==============================] - 0s 13ms/step - loss: 0.0206 - accuracy: 0.9922 - val_loss: 0.0559 - val_accuracy: 0.9793\n",
      "Epoch 81/100\n",
      "37/37 [==============================] - 0s 13ms/step - loss: 0.0300 - accuracy: 0.9888 - val_loss: 0.0753 - val_accuracy: 0.9793\n",
      "Epoch 82/100\n",
      "37/37 [==============================] - 0s 7ms/step - loss: 0.0235 - accuracy: 0.9931 - val_loss: 0.0673 - val_accuracy: 0.9862\n",
      "Epoch 83/100\n",
      "37/37 [==============================] - 0s 6ms/step - loss: 0.0209 - accuracy: 0.9931 - val_loss: 0.0808 - val_accuracy: 0.9690\n",
      "Epoch 84/100\n",
      "37/37 [==============================] - 0s 6ms/step - loss: 0.0153 - accuracy: 0.9931 - val_loss: 0.0614 - val_accuracy: 0.9828\n",
      "Epoch 85/100\n",
      "37/37 [==============================] - 0s 6ms/step - loss: 0.0372 - accuracy: 0.9862 - val_loss: 0.0344 - val_accuracy: 0.9931\n",
      "Epoch 86/100\n",
      "37/37 [==============================] - 0s 6ms/step - loss: 0.0178 - accuracy: 0.9922 - val_loss: 0.0751 - val_accuracy: 0.9793\n",
      "Epoch 87/100\n",
      "37/37 [==============================] - 0s 6ms/step - loss: 0.0193 - accuracy: 0.9914 - val_loss: 0.1157 - val_accuracy: 0.9724\n",
      "Epoch 88/100\n",
      "37/37 [==============================] - 0s 6ms/step - loss: 0.0163 - accuracy: 0.9905 - val_loss: 0.0665 - val_accuracy: 0.9897\n",
      "Epoch 89/100\n",
      "37/37 [==============================] - 0s 6ms/step - loss: 0.0147 - accuracy: 0.9948 - val_loss: 0.0574 - val_accuracy: 0.9897\n",
      "Epoch 90/100\n",
      "37/37 [==============================] - 0s 6ms/step - loss: 0.0153 - accuracy: 0.9939 - val_loss: 0.0855 - val_accuracy: 0.9828\n",
      "Epoch 91/100\n",
      "37/37 [==============================] - 0s 6ms/step - loss: 0.0154 - accuracy: 0.9939 - val_loss: 0.0568 - val_accuracy: 0.9793\n",
      "Epoch 92/100\n",
      "37/37 [==============================] - 0s 6ms/step - loss: 0.0158 - accuracy: 0.9948 - val_loss: 0.0523 - val_accuracy: 0.9897\n",
      "Epoch 93/100\n",
      "37/37 [==============================] - 0s 6ms/step - loss: 0.0224 - accuracy: 0.9914 - val_loss: 0.0992 - val_accuracy: 0.9828\n",
      "Epoch 94/100\n",
      "37/37 [==============================] - 0s 8ms/step - loss: 0.0206 - accuracy: 0.9939 - val_loss: 0.1345 - val_accuracy: 0.9552\n",
      "Epoch 95/100\n",
      "37/37 [==============================] - 0s 6ms/step - loss: 0.0213 - accuracy: 0.9939 - val_loss: 0.0652 - val_accuracy: 0.9897\n",
      "Epoch 96/100\n",
      "37/37 [==============================] - 0s 5ms/step - loss: 0.0152 - accuracy: 0.9948 - val_loss: 0.0875 - val_accuracy: 0.9724\n",
      "Epoch 97/100\n",
      "37/37 [==============================] - 0s 6ms/step - loss: 0.0251 - accuracy: 0.9922 - val_loss: 0.0569 - val_accuracy: 0.9897\n",
      "Epoch 98/100\n",
      "37/37 [==============================] - 0s 6ms/step - loss: 0.0152 - accuracy: 0.9957 - val_loss: 0.0742 - val_accuracy: 0.9897\n",
      "Epoch 99/100\n",
      "37/37 [==============================] - 0s 6ms/step - loss: 0.0187 - accuracy: 0.9948 - val_loss: 0.0697 - val_accuracy: 0.9828\n",
      "Epoch 100/100\n",
      "37/37 [==============================] - 0s 6ms/step - loss: 0.0430 - accuracy: 0.9862 - val_loss: 0.0792 - val_accuracy: 0.9690\n"
     ]
    },
    {
     "data": {
      "text/plain": [
       "<keras.callbacks.History at 0x7f76adbfd910>"
      ]
     },
     "execution_count": 42,
     "metadata": {},
     "output_type": "execute_result"
    }
   ],
   "source": [
    "model= naural_natwork()\n",
    "\n",
    "model.compile(optimizer='adam', \n",
    "              loss='categorical_crossentropy', \n",
    "              metrics=['accuracy'])\n",
    "\n",
    "\n",
    "callback = EarlyStopping(monitor='val_accuracy', \n",
    "                                   mode='max', # don't minimize the accuracy!\n",
    "                                   patience=10,\n",
    "                                   restore_best_weights=True)\n",
    "\n",
    "\n",
    "\n",
    "model.fit(X_train, Y_train, \n",
    "          epochs=100, \n",
    "          validation_data=(X_test, Y_test), verbose=1)"
   ]
  },
  {
   "cell_type": "code",
   "execution_count": 43,
   "id": "30e738c3",
   "metadata": {
    "execution": {
     "iopub.execute_input": "2022-12-21T12:01:24.769133Z",
     "iopub.status.busy": "2022-12-21T12:01:24.768714Z",
     "iopub.status.idle": "2022-12-21T12:01:24.774299Z",
     "shell.execute_reply": "2022-12-21T12:01:24.773438Z"
    },
    "papermill": {
     "duration": 0.064481,
     "end_time": "2022-12-21T12:01:24.777380",
     "exception": false,
     "start_time": "2022-12-21T12:01:24.712899",
     "status": "completed"
    },
    "tags": []
   },
   "outputs": [
    {
     "name": "stdout",
     "output_type": "stream",
     "text": [
      "Model: \"sequential\"\n",
      "_________________________________________________________________\n",
      "Layer (type)                 Output Shape              Param #   \n",
      "=================================================================\n",
      "dense (Dense)                (None, 512)               12288     \n",
      "_________________________________________________________________\n",
      "dense_1 (Dense)              (None, 256)               131328    \n",
      "_________________________________________________________________\n",
      "dense_2 (Dense)              (None, 128)               32896     \n",
      "_________________________________________________________________\n",
      "dense_3 (Dense)              (None, 7)                 903       \n",
      "=================================================================\n",
      "Total params: 177,415\n",
      "Trainable params: 177,415\n",
      "Non-trainable params: 0\n",
      "_________________________________________________________________\n"
     ]
    }
   ],
   "source": [
    "model.summary()"
   ]
  },
  {
   "cell_type": "code",
   "execution_count": 44,
   "id": "7f722769",
   "metadata": {
    "execution": {
     "iopub.execute_input": "2022-12-21T12:01:24.885090Z",
     "iopub.status.busy": "2022-12-21T12:01:24.884450Z",
     "iopub.status.idle": "2022-12-21T12:01:24.889101Z",
     "shell.execute_reply": "2022-12-21T12:01:24.888133Z"
    },
    "papermill": {
     "duration": 0.06158,
     "end_time": "2022-12-21T12:01:24.891715",
     "exception": false,
     "start_time": "2022-12-21T12:01:24.830135",
     "status": "completed"
    },
    "tags": []
   },
   "outputs": [],
   "source": [
    "hist= model.history.history"
   ]
  },
  {
   "cell_type": "code",
   "execution_count": 45,
   "id": "1095b6cc",
   "metadata": {
    "execution": {
     "iopub.execute_input": "2022-12-21T12:01:24.998620Z",
     "iopub.status.busy": "2022-12-21T12:01:24.998204Z",
     "iopub.status.idle": "2022-12-21T12:01:25.005477Z",
     "shell.execute_reply": "2022-12-21T12:01:25.004241Z"
    },
    "papermill": {
     "duration": 0.062574,
     "end_time": "2022-12-21T12:01:25.007853",
     "exception": false,
     "start_time": "2022-12-21T12:01:24.945279",
     "status": "completed"
    },
    "tags": []
   },
   "outputs": [
    {
     "data": {
      "text/plain": [
       "dict_keys(['loss', 'accuracy', 'val_loss', 'val_accuracy'])"
      ]
     },
     "execution_count": 45,
     "metadata": {},
     "output_type": "execute_result"
    }
   ],
   "source": [
    "hist.keys()"
   ]
  },
  {
   "cell_type": "code",
   "execution_count": 46,
   "id": "7b23ec3a",
   "metadata": {
    "execution": {
     "iopub.execute_input": "2022-12-21T12:01:25.112144Z",
     "iopub.status.busy": "2022-12-21T12:01:25.111487Z",
     "iopub.status.idle": "2022-12-21T12:01:25.116688Z",
     "shell.execute_reply": "2022-12-21T12:01:25.115885Z"
    },
    "papermill": {
     "duration": 0.060271,
     "end_time": "2022-12-21T12:01:25.118894",
     "exception": false,
     "start_time": "2022-12-21T12:01:25.058623",
     "status": "completed"
    },
    "tags": []
   },
   "outputs": [],
   "source": [
    "acc, val_acc = hist['accuracy'], hist['val_accuracy']\n",
    "loss = hist['loss']\n",
    "val_loss = hist['val_loss']"
   ]
  },
  {
   "cell_type": "code",
   "execution_count": 47,
   "id": "c6b51093",
   "metadata": {
    "execution": {
     "iopub.execute_input": "2022-12-21T12:01:25.223245Z",
     "iopub.status.busy": "2022-12-21T12:01:25.222627Z",
     "iopub.status.idle": "2022-12-21T12:01:25.653185Z",
     "shell.execute_reply": "2022-12-21T12:01:25.651688Z"
    },
    "papermill": {
     "duration": 0.485483,
     "end_time": "2022-12-21T12:01:25.655650",
     "exception": false,
     "start_time": "2022-12-21T12:01:25.170167",
     "status": "completed"
    },
    "tags": []
   },
   "outputs": [
    {
     "name": "stdout",
     "output_type": "stream",
     "text": [
      "\n"
     ]
    },
    {
     "data": {
      "image/png": "[encoded data removed]",
      "text/plain": [
       "<Figure size 576x576 with 2 Axes>"
      ]
     },
     "metadata": {},
     "output_type": "display_data"
    }
   ],
   "source": [
    "plt.figure(figsize=(8, 8))\n",
    "plt.subplot(2, 1, 1)\n",
    "plt.plot(acc, label='Training Accuracy')\n",
    "plt.plot(val_acc, label='Validation Accuracy')\n",
    "plt.ylim([0, 1])\n",
    "plt.legend(loc='lower right')\n",
    "plt.title('Training and Validation Accuracy (Deep Neural Network V1)')\n",
    "\n",
    "print('')\n",
    "\n",
    "plt.subplot(2, 1, 2)\n",
    "plt.plot(loss, label='Training Loss')\n",
    "plt.plot(val_loss, label='Validation Loss')\n",
    "plt.ylim([0, 1.0])\n",
    "\n",
    "plt.legend(loc='upper right')\n",
    "plt.title('Training and Validation Loss(Deep Neural Network V2)')\n",
    "plt.xlabel('epoch')\n",
    "plt.show()"
   ]
  },
  {
   "cell_type": "code",
   "execution_count": 48,
   "id": "0df287ff",
   "metadata": {
    "execution": {
     "iopub.execute_input": "2022-12-21T12:01:25.763771Z",
     "iopub.status.busy": "2022-12-21T12:01:25.762996Z",
     "iopub.status.idle": "2022-12-21T12:01:25.769145Z",
     "shell.execute_reply": "2022-12-21T12:01:25.768288Z"
    },
    "papermill": {
     "duration": 0.062585,
     "end_time": "2022-12-21T12:01:25.771330",
     "exception": false,
     "start_time": "2022-12-21T12:01:25.708745",
     "status": "completed"
    },
    "tags": []
   },
   "outputs": [],
   "source": [
    "def neural_network_2():\n",
    "    model = Sequential()\n",
    "    model.add(Dense(256, activation='relu', input_shape=(X_arr.shape[1],)))\n",
    "    model.add(Dense(128, activation='relu'))\n",
    "    model.add(Dense(64, activation='relu'))\n",
    "    model.add(Dense(7, activation='softmax'))\n",
    "    return model"
   ]
  },
  {
   "cell_type": "code",
   "execution_count": 49,
   "id": "6e308780",
   "metadata": {
    "execution": {
     "iopub.execute_input": "2022-12-21T12:01:25.877762Z",
     "iopub.status.busy": "2022-12-21T12:01:25.876961Z",
     "iopub.status.idle": "2022-12-21T12:01:25.921663Z",
     "shell.execute_reply": "2022-12-21T12:01:25.920186Z"
    },
    "papermill": {
     "duration": 0.100934,
     "end_time": "2022-12-21T12:01:25.924305",
     "exception": false,
     "start_time": "2022-12-21T12:01:25.823371",
     "status": "completed"
    },
    "tags": []
   },
   "outputs": [
    {
     "name": "stdout",
     "output_type": "stream",
     "text": [
      "Model: \"sequential_1\"\n",
      "_________________________________________________________________\n",
      "Layer (type)                 Output Shape              Param #   \n",
      "=================================================================\n",
      "dense_4 (Dense)              (None, 256)               6144      \n",
      "_________________________________________________________________\n",
      "dense_5 (Dense)              (None, 128)               32896     \n",
      "_________________________________________________________________\n",
      "dense_6 (Dense)              (None, 64)                8256      \n",
      "_________________________________________________________________\n",
      "dense_7 (Dense)              (None, 7)                 455       \n",
      "=================================================================\n",
      "Total params: 47,751\n",
      "Trainable params: 47,751\n",
      "Non-trainable params: 0\n",
      "_________________________________________________________________\n"
     ]
    }
   ],
   "source": [
    "model_2 = neural_network_2()\n",
    "model_2.summary()"
   ]
  },
  {
   "cell_type": "code",
   "execution_count": 50,
   "id": "1499fb93",
   "metadata": {
    "execution": {
     "iopub.execute_input": "2022-12-21T12:01:26.033602Z",
     "iopub.status.busy": "2022-12-21T12:01:26.033043Z",
     "iopub.status.idle": "2022-12-21T12:01:45.464393Z",
     "shell.execute_reply": "2022-12-21T12:01:45.462905Z"
    },
    "papermill": {
     "duration": 19.490065,
     "end_time": "2022-12-21T12:01:45.467163",
     "exception": false,
     "start_time": "2022-12-21T12:01:25.977098",
     "status": "completed"
    },
    "tags": []
   },
   "outputs": [
    {
     "name": "stdout",
     "output_type": "stream",
     "text": [
      "Epoch 1/100\n",
      "37/37 [==============================] - 1s 10ms/step - loss: 1.7808 - accuracy: 0.3475 - val_loss: 1.4700 - val_accuracy: 0.5207\n",
      "Epoch 2/100\n",
      "37/37 [==============================] - 0s 5ms/step - loss: 1.2294 - accuracy: 0.5834 - val_loss: 1.0183 - val_accuracy: 0.6759\n",
      "Epoch 3/100\n",
      "37/37 [==============================] - 0s 5ms/step - loss: 0.9033 - accuracy: 0.7200 - val_loss: 0.7810 - val_accuracy: 0.7724\n",
      "Epoch 4/100\n",
      "37/37 [==============================] - 0s 5ms/step - loss: 0.6480 - accuracy: 0.8254 - val_loss: 0.5445 - val_accuracy: 0.8586\n",
      "Epoch 5/100\n",
      "37/37 [==============================] - 0s 5ms/step - loss: 0.4762 - accuracy: 0.8617 - val_loss: 0.4721 - val_accuracy: 0.8207\n",
      "Epoch 6/100\n",
      "37/37 [==============================] - 0s 5ms/step - loss: 0.4235 - accuracy: 0.8548 - val_loss: 0.4550 - val_accuracy: 0.8241\n",
      "Epoch 7/100\n",
      "37/37 [==============================] - 0s 5ms/step - loss: 0.3445 - accuracy: 0.8773 - val_loss: 0.3931 - val_accuracy: 0.8586\n",
      "Epoch 8/100\n",
      "37/37 [==============================] - 0s 5ms/step - loss: 0.2786 - accuracy: 0.9084 - val_loss: 0.2760 - val_accuracy: 0.8828\n",
      "Epoch 9/100\n",
      "37/37 [==============================] - 0s 5ms/step - loss: 0.2367 - accuracy: 0.9153 - val_loss: 0.3063 - val_accuracy: 0.8862\n",
      "Epoch 10/100\n",
      "37/37 [==============================] - 0s 5ms/step - loss: 0.2329 - accuracy: 0.9110 - val_loss: 0.2900 - val_accuracy: 0.8862\n",
      "Epoch 11/100\n",
      "37/37 [==============================] - 0s 5ms/step - loss: 0.1999 - accuracy: 0.9334 - val_loss: 0.3096 - val_accuracy: 0.8931\n",
      "Epoch 12/100\n",
      "37/37 [==============================] - 0s 5ms/step - loss: 0.2141 - accuracy: 0.9144 - val_loss: 0.2211 - val_accuracy: 0.8966\n",
      "Epoch 13/100\n",
      "37/37 [==============================] - 0s 5ms/step - loss: 0.2131 - accuracy: 0.9101 - val_loss: 0.2001 - val_accuracy: 0.9310\n",
      "Epoch 14/100\n",
      "37/37 [==============================] - 0s 5ms/step - loss: 0.1887 - accuracy: 0.9239 - val_loss: 0.2623 - val_accuracy: 0.8966\n",
      "Epoch 15/100\n",
      "37/37 [==============================] - 0s 5ms/step - loss: 0.1754 - accuracy: 0.9317 - val_loss: 0.1766 - val_accuracy: 0.9207\n",
      "Epoch 16/100\n",
      "37/37 [==============================] - 0s 5ms/step - loss: 0.1427 - accuracy: 0.9447 - val_loss: 0.1654 - val_accuracy: 0.9448\n",
      "Epoch 17/100\n",
      "37/37 [==============================] - 0s 5ms/step - loss: 0.2194 - accuracy: 0.9196 - val_loss: 0.1632 - val_accuracy: 0.9414\n",
      "Epoch 18/100\n",
      "37/37 [==============================] - 0s 5ms/step - loss: 0.1485 - accuracy: 0.9352 - val_loss: 0.1511 - val_accuracy: 0.9517\n",
      "Epoch 19/100\n",
      "37/37 [==============================] - 0s 5ms/step - loss: 0.1426 - accuracy: 0.9447 - val_loss: 0.1380 - val_accuracy: 0.9448\n",
      "Epoch 20/100\n",
      "37/37 [==============================] - 0s 5ms/step - loss: 0.1236 - accuracy: 0.9542 - val_loss: 0.1504 - val_accuracy: 0.9414\n",
      "Epoch 21/100\n",
      "37/37 [==============================] - 0s 5ms/step - loss: 0.1335 - accuracy: 0.9533 - val_loss: 0.1460 - val_accuracy: 0.9448\n",
      "Epoch 22/100\n",
      "37/37 [==============================] - 0s 5ms/step - loss: 0.1350 - accuracy: 0.9447 - val_loss: 0.1460 - val_accuracy: 0.9448\n",
      "Epoch 23/100\n",
      "37/37 [==============================] - 0s 5ms/step - loss: 0.1397 - accuracy: 0.9447 - val_loss: 0.1252 - val_accuracy: 0.9448\n",
      "Epoch 24/100\n",
      "37/37 [==============================] - 0s 5ms/step - loss: 0.1299 - accuracy: 0.9516 - val_loss: 0.1951 - val_accuracy: 0.9241\n",
      "Epoch 25/100\n",
      "37/37 [==============================] - 0s 5ms/step - loss: 0.1270 - accuracy: 0.9438 - val_loss: 0.1388 - val_accuracy: 0.9483\n",
      "Epoch 26/100\n",
      "37/37 [==============================] - 0s 5ms/step - loss: 0.1088 - accuracy: 0.9559 - val_loss: 0.1307 - val_accuracy: 0.9517\n",
      "Epoch 27/100\n",
      "37/37 [==============================] - 0s 5ms/step - loss: 0.1059 - accuracy: 0.9602 - val_loss: 0.1014 - val_accuracy: 0.9655\n",
      "Epoch 28/100\n",
      "37/37 [==============================] - 0s 5ms/step - loss: 0.0994 - accuracy: 0.9637 - val_loss: 0.1241 - val_accuracy: 0.9345\n",
      "Epoch 29/100\n",
      "37/37 [==============================] - 0s 5ms/step - loss: 0.1100 - accuracy: 0.9585 - val_loss: 0.1145 - val_accuracy: 0.9483\n",
      "Epoch 30/100\n",
      "37/37 [==============================] - 0s 5ms/step - loss: 0.0901 - accuracy: 0.9663 - val_loss: 0.1232 - val_accuracy: 0.9621\n",
      "Epoch 31/100\n",
      "37/37 [==============================] - 0s 5ms/step - loss: 0.0970 - accuracy: 0.9663 - val_loss: 0.1172 - val_accuracy: 0.9448\n",
      "Epoch 32/100\n",
      "37/37 [==============================] - 0s 5ms/step - loss: 0.0926 - accuracy: 0.9637 - val_loss: 0.1271 - val_accuracy: 0.9621\n",
      "Epoch 33/100\n",
      "37/37 [==============================] - 0s 5ms/step - loss: 0.0846 - accuracy: 0.9680 - val_loss: 0.1239 - val_accuracy: 0.9621\n",
      "Epoch 34/100\n",
      "37/37 [==============================] - 0s 5ms/step - loss: 0.0834 - accuracy: 0.9663 - val_loss: 0.1041 - val_accuracy: 0.9655\n",
      "Epoch 35/100\n",
      "37/37 [==============================] - 0s 5ms/step - loss: 0.1003 - accuracy: 0.9620 - val_loss: 0.0952 - val_accuracy: 0.9690\n",
      "Epoch 36/100\n",
      "37/37 [==============================] - 0s 5ms/step - loss: 0.0937 - accuracy: 0.9628 - val_loss: 0.0794 - val_accuracy: 0.9793\n",
      "Epoch 37/100\n",
      "37/37 [==============================] - 0s 5ms/step - loss: 0.0931 - accuracy: 0.9706 - val_loss: 0.1001 - val_accuracy: 0.9621\n",
      "Epoch 38/100\n",
      "37/37 [==============================] - 0s 5ms/step - loss: 0.0935 - accuracy: 0.9663 - val_loss: 0.1110 - val_accuracy: 0.9552\n",
      "Epoch 39/100\n",
      "37/37 [==============================] - 0s 5ms/step - loss: 0.0754 - accuracy: 0.9680 - val_loss: 0.1118 - val_accuracy: 0.9517\n",
      "Epoch 40/100\n",
      "37/37 [==============================] - 0s 5ms/step - loss: 0.0892 - accuracy: 0.9706 - val_loss: 0.1139 - val_accuracy: 0.9621\n",
      "Epoch 41/100\n",
      "37/37 [==============================] - 0s 7ms/step - loss: 0.0833 - accuracy: 0.9680 - val_loss: 0.1210 - val_accuracy: 0.9586\n",
      "Epoch 42/100\n",
      "37/37 [==============================] - 0s 5ms/step - loss: 0.0599 - accuracy: 0.9827 - val_loss: 0.0863 - val_accuracy: 0.9621\n",
      "Epoch 43/100\n",
      "37/37 [==============================] - 0s 5ms/step - loss: 0.0608 - accuracy: 0.9775 - val_loss: 0.1425 - val_accuracy: 0.9517\n",
      "Epoch 44/100\n",
      "37/37 [==============================] - 0s 5ms/step - loss: 0.0806 - accuracy: 0.9689 - val_loss: 0.0894 - val_accuracy: 0.9552\n",
      "Epoch 45/100\n",
      "37/37 [==============================] - 0s 5ms/step - loss: 0.0566 - accuracy: 0.9801 - val_loss: 0.0584 - val_accuracy: 0.9897\n",
      "Epoch 46/100\n",
      "37/37 [==============================] - 0s 5ms/step - loss: 0.0596 - accuracy: 0.9784 - val_loss: 0.0670 - val_accuracy: 0.9724\n",
      "Epoch 47/100\n",
      "37/37 [==============================] - 0s 5ms/step - loss: 0.0551 - accuracy: 0.9801 - val_loss: 0.0663 - val_accuracy: 0.9724\n",
      "Epoch 48/100\n",
      "37/37 [==============================] - 0s 5ms/step - loss: 0.0583 - accuracy: 0.9775 - val_loss: 0.1041 - val_accuracy: 0.9655\n",
      "Epoch 49/100\n",
      "37/37 [==============================] - 0s 5ms/step - loss: 0.0578 - accuracy: 0.9767 - val_loss: 0.0866 - val_accuracy: 0.9690\n",
      "Epoch 50/100\n",
      "37/37 [==============================] - 0s 5ms/step - loss: 0.0539 - accuracy: 0.9827 - val_loss: 0.0723 - val_accuracy: 0.9759\n",
      "Epoch 51/100\n",
      "37/37 [==============================] - 0s 5ms/step - loss: 0.0993 - accuracy: 0.9602 - val_loss: 0.1075 - val_accuracy: 0.9655\n",
      "Epoch 52/100\n",
      "37/37 [==============================] - 0s 5ms/step - loss: 0.0567 - accuracy: 0.9836 - val_loss: 0.0593 - val_accuracy: 0.9828\n",
      "Epoch 53/100\n",
      "37/37 [==============================] - 0s 5ms/step - loss: 0.0670 - accuracy: 0.9723 - val_loss: 0.0651 - val_accuracy: 0.9793\n",
      "Epoch 54/100\n",
      "37/37 [==============================] - 0s 5ms/step - loss: 0.0529 - accuracy: 0.9836 - val_loss: 0.0639 - val_accuracy: 0.9793\n",
      "Epoch 55/100\n",
      "37/37 [==============================] - 0s 5ms/step - loss: 0.1096 - accuracy: 0.9585 - val_loss: 0.0703 - val_accuracy: 0.9793\n",
      "Epoch 56/100\n",
      "37/37 [==============================] - 0s 5ms/step - loss: 0.0673 - accuracy: 0.9775 - val_loss: 0.0787 - val_accuracy: 0.9759\n",
      "Epoch 57/100\n",
      "37/37 [==============================] - 0s 5ms/step - loss: 0.0410 - accuracy: 0.9896 - val_loss: 0.0612 - val_accuracy: 0.9828\n",
      "Epoch 58/100\n",
      "37/37 [==============================] - 0s 5ms/step - loss: 0.0384 - accuracy: 0.9853 - val_loss: 0.0689 - val_accuracy: 0.9793\n",
      "Epoch 59/100\n",
      "37/37 [==============================] - 0s 5ms/step - loss: 0.0431 - accuracy: 0.9862 - val_loss: 0.0583 - val_accuracy: 0.9759\n",
      "Epoch 60/100\n",
      "37/37 [==============================] - 0s 5ms/step - loss: 0.0617 - accuracy: 0.9706 - val_loss: 0.0772 - val_accuracy: 0.9759\n",
      "Epoch 61/100\n",
      "37/37 [==============================] - 0s 5ms/step - loss: 0.0374 - accuracy: 0.9879 - val_loss: 0.0486 - val_accuracy: 0.9862\n",
      "Epoch 62/100\n",
      "37/37 [==============================] - 0s 5ms/step - loss: 0.0353 - accuracy: 0.9905 - val_loss: 0.0816 - val_accuracy: 0.9655\n",
      "Epoch 63/100\n",
      "37/37 [==============================] - 0s 5ms/step - loss: 0.0908 - accuracy: 0.9689 - val_loss: 0.0642 - val_accuracy: 0.9655\n",
      "Epoch 64/100\n",
      "37/37 [==============================] - 0s 5ms/step - loss: 0.0862 - accuracy: 0.9680 - val_loss: 0.1021 - val_accuracy: 0.9724\n",
      "Epoch 65/100\n",
      "37/37 [==============================] - 0s 5ms/step - loss: 0.0433 - accuracy: 0.9862 - val_loss: 0.0518 - val_accuracy: 0.9828\n",
      "Epoch 66/100\n",
      "37/37 [==============================] - 0s 5ms/step - loss: 0.0308 - accuracy: 0.9896 - val_loss: 0.0966 - val_accuracy: 0.9690\n",
      "Epoch 67/100\n",
      "37/37 [==============================] - 0s 5ms/step - loss: 0.0396 - accuracy: 0.9879 - val_loss: 0.0871 - val_accuracy: 0.9724\n",
      "Epoch 68/100\n",
      "37/37 [==============================] - 0s 5ms/step - loss: 0.0410 - accuracy: 0.9870 - val_loss: 0.0451 - val_accuracy: 0.9862\n",
      "Epoch 69/100\n",
      "37/37 [==============================] - 0s 4ms/step - loss: 0.0274 - accuracy: 0.9914 - val_loss: 0.0698 - val_accuracy: 0.9690\n",
      "Epoch 70/100\n",
      "37/37 [==============================] - 0s 5ms/step - loss: 0.0290 - accuracy: 0.9888 - val_loss: 0.0590 - val_accuracy: 0.9897\n",
      "Epoch 71/100\n",
      "37/37 [==============================] - 0s 5ms/step - loss: 0.0243 - accuracy: 0.9922 - val_loss: 0.0588 - val_accuracy: 0.9862\n",
      "Epoch 72/100\n",
      "37/37 [==============================] - 0s 5ms/step - loss: 0.0477 - accuracy: 0.9827 - val_loss: 0.0579 - val_accuracy: 0.9828\n",
      "Epoch 73/100\n",
      "37/37 [==============================] - 0s 5ms/step - loss: 0.0327 - accuracy: 0.9879 - val_loss: 0.0572 - val_accuracy: 0.9897\n",
      "Epoch 74/100\n",
      "37/37 [==============================] - 0s 5ms/step - loss: 0.0348 - accuracy: 0.9888 - val_loss: 0.0589 - val_accuracy: 0.9828\n",
      "Epoch 75/100\n",
      "37/37 [==============================] - 0s 5ms/step - loss: 0.0354 - accuracy: 0.9870 - val_loss: 0.0432 - val_accuracy: 0.9966\n",
      "Epoch 76/100\n",
      "37/37 [==============================] - 0s 5ms/step - loss: 0.0357 - accuracy: 0.9862 - val_loss: 0.0794 - val_accuracy: 0.9759\n",
      "Epoch 77/100\n",
      "37/37 [==============================] - 0s 5ms/step - loss: 0.0345 - accuracy: 0.9870 - val_loss: 0.0502 - val_accuracy: 0.9862\n",
      "Epoch 78/100\n",
      "37/37 [==============================] - 0s 5ms/step - loss: 0.0287 - accuracy: 0.9888 - val_loss: 0.0512 - val_accuracy: 0.9897\n",
      "Epoch 79/100\n",
      "37/37 [==============================] - 0s 5ms/step - loss: 0.0207 - accuracy: 0.9939 - val_loss: 0.0550 - val_accuracy: 0.9793\n",
      "Epoch 80/100\n",
      "37/37 [==============================] - 0s 5ms/step - loss: 0.0302 - accuracy: 0.9888 - val_loss: 0.0460 - val_accuracy: 0.9897\n",
      "Epoch 81/100\n",
      "37/37 [==============================] - 0s 5ms/step - loss: 0.0367 - accuracy: 0.9879 - val_loss: 0.0599 - val_accuracy: 0.9759\n",
      "Epoch 82/100\n",
      "37/37 [==============================] - 0s 5ms/step - loss: 0.0235 - accuracy: 0.9914 - val_loss: 0.0499 - val_accuracy: 0.9828\n",
      "Epoch 83/100\n",
      "37/37 [==============================] - 0s 5ms/step - loss: 0.0190 - accuracy: 0.9914 - val_loss: 0.0319 - val_accuracy: 0.9966\n",
      "Epoch 84/100\n",
      "37/37 [==============================] - 0s 5ms/step - loss: 0.0369 - accuracy: 0.9888 - val_loss: 0.0602 - val_accuracy: 0.9793\n",
      "Epoch 85/100\n",
      "37/37 [==============================] - 0s 5ms/step - loss: 0.0279 - accuracy: 0.9888 - val_loss: 0.0702 - val_accuracy: 0.9793\n",
      "Epoch 86/100\n",
      "37/37 [==============================] - 0s 5ms/step - loss: 0.0288 - accuracy: 0.9888 - val_loss: 0.0525 - val_accuracy: 0.9897\n",
      "Epoch 87/100\n",
      "37/37 [==============================] - 0s 5ms/step - loss: 0.0355 - accuracy: 0.9879 - val_loss: 0.0720 - val_accuracy: 0.9759\n",
      "Epoch 88/100\n",
      "37/37 [==============================] - 0s 5ms/step - loss: 0.0228 - accuracy: 0.9914 - val_loss: 0.0821 - val_accuracy: 0.9793\n",
      "Epoch 89/100\n",
      "37/37 [==============================] - 0s 6ms/step - loss: 0.0266 - accuracy: 0.9931 - val_loss: 0.0417 - val_accuracy: 0.9897\n",
      "Epoch 90/100\n",
      "37/37 [==============================] - 0s 5ms/step - loss: 0.0231 - accuracy: 0.9896 - val_loss: 0.0561 - val_accuracy: 0.9862\n",
      "Epoch 91/100\n",
      "37/37 [==============================] - 0s 6ms/step - loss: 0.0208 - accuracy: 0.9914 - val_loss: 0.0476 - val_accuracy: 0.9897\n",
      "Epoch 92/100\n",
      "37/37 [==============================] - 0s 6ms/step - loss: 0.0214 - accuracy: 0.9939 - val_loss: 0.0502 - val_accuracy: 0.9897\n",
      "Epoch 93/100\n",
      "37/37 [==============================] - 0s 5ms/step - loss: 0.0199 - accuracy: 0.9914 - val_loss: 0.0876 - val_accuracy: 0.9759\n",
      "Epoch 94/100\n",
      "37/37 [==============================] - 0s 5ms/step - loss: 0.0259 - accuracy: 0.9914 - val_loss: 0.0686 - val_accuracy: 0.9828\n",
      "Epoch 95/100\n",
      "37/37 [==============================] - 0s 5ms/step - loss: 0.0227 - accuracy: 0.9948 - val_loss: 0.0717 - val_accuracy: 0.9759\n",
      "Epoch 96/100\n",
      "37/37 [==============================] - 0s 6ms/step - loss: 0.0185 - accuracy: 0.9914 - val_loss: 0.0437 - val_accuracy: 0.9931\n",
      "Epoch 97/100\n",
      "37/37 [==============================] - 0s 5ms/step - loss: 0.0226 - accuracy: 0.9939 - val_loss: 0.0896 - val_accuracy: 0.9759\n",
      "Epoch 98/100\n",
      "37/37 [==============================] - 0s 5ms/step - loss: 0.0382 - accuracy: 0.9853 - val_loss: 0.0737 - val_accuracy: 0.9828\n",
      "Epoch 99/100\n",
      "37/37 [==============================] - 0s 7ms/step - loss: 0.0354 - accuracy: 0.9853 - val_loss: 0.0826 - val_accuracy: 0.9759\n",
      "Epoch 100/100\n",
      "37/37 [==============================] - 0s 5ms/step - loss: 0.0490 - accuracy: 0.9836 - val_loss: 0.0734 - val_accuracy: 0.9759\n"
     ]
    },
    {
     "data": {
      "text/plain": [
       "<keras.callbacks.History at 0x7f76ac1564d0>"
      ]
     },
     "execution_count": 50,
     "metadata": {},
     "output_type": "execute_result"
    }
   ],
   "source": [
    "model_2.compile(optimizer='adam',\n",
    "                loss='categorical_crossentropy', \n",
    "              metrics=['accuracy'])\n",
    "\n",
    "# setting a callback for controlling model's performance\n",
    "callback = EarlyStopping(monitor='val_accuracy', \n",
    "                                   mode='max',\n",
    "                                   patience=10,\n",
    "                                   restore_best_weights=True)\n",
    "\n",
    "\n",
    "# fitting the model to training data\n",
    "model_2.fit(X_train, Y_train, \n",
    "          epochs=100, \n",
    "          validation_data=(X_test, Y_test), \n",
    "          verbose=1)"
   ]
  },
  {
   "cell_type": "code",
   "execution_count": 51,
   "id": "354c4b28",
   "metadata": {
    "execution": {
     "iopub.execute_input": "2022-12-21T12:01:45.631362Z",
     "iopub.status.busy": "2022-12-21T12:01:45.629757Z",
     "iopub.status.idle": "2022-12-21T12:01:45.635924Z",
     "shell.execute_reply": "2022-12-21T12:01:45.634982Z"
    },
    "papermill": {
     "duration": 0.089988,
     "end_time": "2022-12-21T12:01:45.638351",
     "exception": false,
     "start_time": "2022-12-21T12:01:45.548363",
     "status": "completed"
    },
    "tags": []
   },
   "outputs": [],
   "source": [
    "hist_2 = model_2.history.history"
   ]
  },
  {
   "cell_type": "code",
   "execution_count": 52,
   "id": "66893dab",
   "metadata": {
    "execution": {
     "iopub.execute_input": "2022-12-21T12:01:45.798051Z",
     "iopub.status.busy": "2022-12-21T12:01:45.796499Z",
     "iopub.status.idle": "2022-12-21T12:01:45.802622Z",
     "shell.execute_reply": "2022-12-21T12:01:45.801717Z"
    },
    "papermill": {
     "duration": 0.087544,
     "end_time": "2022-12-21T12:01:45.804937",
     "exception": false,
     "start_time": "2022-12-21T12:01:45.717393",
     "status": "completed"
    },
    "tags": []
   },
   "outputs": [],
   "source": [
    "acc_2, val_acc_2 = hist_2['accuracy'], hist_2['val_accuracy']\n",
    "loss_2 = hist_2['loss']\n",
    "val_loss_2 = hist_2['val_loss']"
   ]
  },
  {
   "cell_type": "code",
   "execution_count": 53,
   "id": "e5c22502",
   "metadata": {
    "execution": {
     "iopub.execute_input": "2022-12-21T12:01:45.962884Z",
     "iopub.status.busy": "2022-12-21T12:01:45.961036Z",
     "iopub.status.idle": "2022-12-21T12:01:46.724185Z",
     "shell.execute_reply": "2022-12-21T12:01:46.722957Z"
    },
    "papermill": {
     "duration": 0.844645,
     "end_time": "2022-12-21T12:01:46.726470",
     "exception": false,
     "start_time": "2022-12-21T12:01:45.881825",
     "status": "completed"
    },
    "tags": []
   },
   "outputs": [
    {
     "name": "stdout",
     "output_type": "stream",
     "text": [
      "\n"
     ]
    },
    {
     "data": {
      "image/png": "[encoded data removed]",
      "text/plain": [
       "<Figure size 576x576 with 2 Axes>"
      ]
     },
     "metadata": {},
     "output_type": "display_data"
    }
   ],
   "source": [
    "plt.figure(figsize=(8, 8))\n",
    "plt.subplot(2, 1, 1)\n",
    "plt.plot(acc_2, label='Training Accuracy of DNN 2')\n",
    "plt.plot(val_acc_2, label='Validation Accuracy of DNN 2')\n",
    "plt.ylim([0, 1])\n",
    "plt.legend(loc='lower right')\n",
    "plt.title('Training and Validation Accuracy (Deep Neural Network V2)')\n",
    "\n",
    "print('')\n",
    "\n",
    "plt.subplot(2, 1, 2)\n",
    "plt.plot(loss_2, label='Training Loss of DNN 2')\n",
    "plt.plot(val_loss_2, label='Validation Loss of DNN 2')\n",
    "plt.ylim([0, 1.0])\n",
    "\n",
    "plt.legend(loc='upper right')\n",
    "plt.title('Training and Validation Loss (Deep Neural Network V2)')\n",
    "plt.xlabel('epoch')\n",
    "plt.show()"
   ]
  },
  {
   "cell_type": "code",
   "execution_count": 54,
   "id": "35e97982",
   "metadata": {
    "execution": {
     "iopub.execute_input": "2022-12-21T12:01:46.890630Z",
     "iopub.status.busy": "2022-12-21T12:01:46.889369Z",
     "iopub.status.idle": "2022-12-21T12:01:47.098230Z",
     "shell.execute_reply": "2022-12-21T12:01:47.096237Z"
    },
    "papermill": {
     "duration": 0.294341,
     "end_time": "2022-12-21T12:01:47.100978",
     "exception": false,
     "start_time": "2022-12-21T12:01:46.806637",
     "status": "completed"
    },
    "tags": []
   },
   "outputs": [
    {
     "name": "stdout",
     "output_type": "stream",
     "text": [
      "10/10 [==============================] - 0s 2ms/step - loss: 0.0792 - accuracy: 0.9690\n",
      "10/10 [==============================] - 0s 2ms/step - loss: 0.0734 - accuracy: 0.9759\n",
      "accuracy: 96.90%\n",
      "Accuracy of First Deep Neural Network: 96.90\n",
      "Loss of First Deep Neural Network: 0.0792\n",
      "\n",
      "accuracy: 97.59%\n",
      "Accuracy of Second Deep Neural Network: 97.59\n",
      "Loss of Second Deep Neural Network: 0.0734\n"
     ]
    }
   ],
   "source": [
    "# evaluate the model\n",
    "score = model.evaluate(X_test, Y_test)\n",
    "score_2 = model_2.evaluate(X_test, Y_test)\n",
    "\n",
    "# print accuracies of models \n",
    "print(\"%s: %.2f%%\" % (model.metrics_names[1], score[1] * 100))\n",
    "print('Accuracy of First Deep Neural Network: %.2f' % (score[1]*100))\n",
    "print('Loss of First Deep Neural Network: %.4f' % (score[0]))\n",
    "\n",
    "print('')\n",
    "\n",
    "print(\"%s: %.2f%%\" % (model_2.metrics_names[1], score_2[1] * 100))\n",
    "print('Accuracy of Second Deep Neural Network: %.2f' % (score_2[1]*100))\n",
    "print('Loss of Second Deep Neural Network: %.4f' % (score_2[0]))"
   ]
  },
  {
   "cell_type": "code",
   "execution_count": 55,
   "id": "b5b10b9a",
   "metadata": {
    "execution": {
     "iopub.execute_input": "2022-12-21T12:01:47.263093Z",
     "iopub.status.busy": "2022-12-21T12:01:47.262611Z",
     "iopub.status.idle": "2022-12-21T12:01:47.268579Z",
     "shell.execute_reply": "2022-12-21T12:01:47.267120Z"
    },
    "papermill": {
     "duration": 0.088996,
     "end_time": "2022-12-21T12:01:47.270910",
     "exception": false,
     "start_time": "2022-12-21T12:01:47.181914",
     "status": "completed"
    },
    "tags": []
   },
   "outputs": [],
   "source": [
    "DNN_Accuracy = score[1]"
   ]
  },
  {
   "cell_type": "code",
   "execution_count": 56,
   "id": "491aad5e",
   "metadata": {
    "execution": {
     "iopub.execute_input": "2022-12-21T12:01:47.435770Z",
     "iopub.status.busy": "2022-12-21T12:01:47.435035Z",
     "iopub.status.idle": "2022-12-21T12:01:47.682349Z",
     "shell.execute_reply": "2022-12-21T12:01:47.681016Z"
    },
    "papermill": {
     "duration": 0.333128,
     "end_time": "2022-12-21T12:01:47.685467",
     "exception": false,
     "start_time": "2022-12-21T12:01:47.352339",
     "status": "completed"
    },
    "tags": []
   },
   "outputs": [],
   "source": [
    "y_hat_nn1 = model.predict(X_test)\n",
    "pred_nn1 = np.argmax(model.predict(X_test), axis=1)\n",
    "Y_test_class_1 = np.argmax(Y_test, axis=1)"
   ]
  },
  {
   "cell_type": "code",
   "execution_count": 57,
   "id": "ad44cbb0",
   "metadata": {
    "execution": {
     "iopub.execute_input": "2022-12-21T12:01:47.948288Z",
     "iopub.status.busy": "2022-12-21T12:01:47.947839Z",
     "iopub.status.idle": "2022-12-21T12:01:47.958798Z",
     "shell.execute_reply": "2022-12-21T12:01:47.957872Z"
    },
    "papermill": {
     "duration": 0.100253,
     "end_time": "2022-12-21T12:01:47.962379",
     "exception": false,
     "start_time": "2022-12-21T12:01:47.862126",
     "status": "completed"
    },
    "tags": []
   },
   "outputs": [
    {
     "name": "stdout",
     "output_type": "stream",
     "text": [
      "Classification Report of Deep Neural Network 1\n",
      "              precision    recall  f1-score   support\n",
      "\n",
      "           0       1.00      1.00      1.00        47\n",
      "           1       0.91      0.94      0.92        31\n",
      "           2       1.00      0.97      0.99        40\n",
      "           3       0.98      1.00      0.99        41\n",
      "           4       0.92      1.00      0.96        36\n",
      "           5       0.96      0.88      0.92        52\n",
      "           6       1.00      1.00      1.00        43\n",
      "\n",
      "    accuracy                           0.97       290\n",
      "   macro avg       0.97      0.97      0.97       290\n",
      "weighted avg       0.97      0.97      0.97       290\n",
      "\n"
     ]
    }
   ],
   "source": [
    "print('Classification Report of Deep Neural Network 1')\n",
    "print(classification_report(Y_test_class_1, pred_nn1))"
   ]
  },
  {
   "cell_type": "code",
   "execution_count": 58,
   "id": "96f7a729",
   "metadata": {
    "execution": {
     "iopub.execute_input": "2022-12-21T12:01:48.131695Z",
     "iopub.status.busy": "2022-12-21T12:01:48.130927Z",
     "iopub.status.idle": "2022-12-21T12:01:48.365109Z",
     "shell.execute_reply": "2022-12-21T12:01:48.363867Z"
    },
    "papermill": {
     "duration": 0.321403,
     "end_time": "2022-12-21T12:01:48.368329",
     "exception": false,
     "start_time": "2022-12-21T12:01:48.046926",
     "status": "completed"
    },
    "tags": []
   },
   "outputs": [],
   "source": [
    "# classification report of second neural network\n",
    "y_hat_nn2 = model_2.predict(X_test)\n",
    "pred_nn2 = np.argmax(model_2.predict(X_test), axis=1)\n",
    "Y_test_class_2 = np.argmax(Y_test, axis=1)"
   ]
  },
  {
   "cell_type": "code",
   "execution_count": 59,
   "id": "0b9aad25",
   "metadata": {
    "execution": {
     "iopub.execute_input": "2022-12-21T12:01:48.540159Z",
     "iopub.status.busy": "2022-12-21T12:01:48.539731Z",
     "iopub.status.idle": "2022-12-21T12:01:48.552715Z",
     "shell.execute_reply": "2022-12-21T12:01:48.551277Z"
    },
    "papermill": {
     "duration": 0.103364,
     "end_time": "2022-12-21T12:01:48.555103",
     "exception": false,
     "start_time": "2022-12-21T12:01:48.451739",
     "status": "completed"
    },
    "tags": []
   },
   "outputs": [
    {
     "name": "stdout",
     "output_type": "stream",
     "text": [
      "Classification Report of Deep Neural Network 2\n",
      "              precision    recall  f1-score   support\n",
      "\n",
      "           0       1.00      1.00      1.00        47\n",
      "           1       0.91      1.00      0.95        31\n",
      "           2       0.93      1.00      0.96        40\n",
      "           3       1.00      0.93      0.96        41\n",
      "           4       0.97      1.00      0.99        36\n",
      "           5       1.00      0.92      0.96        52\n",
      "           6       1.00      1.00      1.00        43\n",
      "\n",
      "    accuracy                           0.98       290\n",
      "   macro avg       0.97      0.98      0.98       290\n",
      "weighted avg       0.98      0.98      0.98       290\n",
      "\n"
     ]
    }
   ],
   "source": [
    "print('Classification Report of Deep Neural Network 2')\n",
    "print(classification_report(Y_test_class_2, pred_nn2))"
   ]
  },
  {
   "cell_type": "code",
   "execution_count": 60,
   "id": "fdf5ba2c",
   "metadata": {
    "execution": {
     "iopub.execute_input": "2022-12-21T12:01:48.719430Z",
     "iopub.status.busy": "2022-12-21T12:01:48.718976Z",
     "iopub.status.idle": "2022-12-21T12:01:48.727811Z",
     "shell.execute_reply": "2022-12-21T12:01:48.726592Z"
    },
    "papermill": {
     "duration": 0.093901,
     "end_time": "2022-12-21T12:01:48.730349",
     "exception": false,
     "start_time": "2022-12-21T12:01:48.636448",
     "status": "completed"
    },
    "tags": []
   },
   "outputs": [
    {
     "name": "stderr",
     "output_type": "stream",
     "text": [
      "/opt/conda/lib/python3.7/site-packages/ipykernel_launcher.py:1: FutureWarning: In a future version of pandas all arguments of DataFrame.drop except for the argument 'labels' will be keyword-only\n",
      "  \"\"\"Entry point for launching an IPython kernel.\n"
     ]
    }
   ],
   "source": [
    "x=df.drop(['Type'],1)\n",
    "y=df['Type'].copy()"
   ]
  },
  {
   "cell_type": "code",
   "execution_count": 61,
   "id": "b636e3c9",
   "metadata": {
    "execution": {
     "iopub.execute_input": "2022-12-21T12:01:48.893581Z",
     "iopub.status.busy": "2022-12-21T12:01:48.892798Z",
     "iopub.status.idle": "2022-12-21T12:01:48.899909Z",
     "shell.execute_reply": "2022-12-21T12:01:48.899052Z"
    },
    "papermill": {
     "duration": 0.09085,
     "end_time": "2022-12-21T12:01:48.902244",
     "exception": false,
     "start_time": "2022-12-21T12:01:48.811394",
     "status": "completed"
    },
    "tags": []
   },
   "outputs": [],
   "source": [
    "xtrain, xtest, ytrain, ytest = train_test_split(x,y, test_size = 0.2, random_state = 101)"
   ]
  },
  {
   "cell_type": "code",
   "execution_count": 62,
   "id": "c0784b83",
   "metadata": {
    "execution": {
     "iopub.execute_input": "2022-12-21T12:01:49.067570Z",
     "iopub.status.busy": "2022-12-21T12:01:49.067125Z",
     "iopub.status.idle": "2022-12-21T12:01:49.079586Z",
     "shell.execute_reply": "2022-12-21T12:01:49.078699Z"
    },
    "papermill": {
     "duration": 0.0991,
     "end_time": "2022-12-21T12:01:49.082165",
     "exception": false,
     "start_time": "2022-12-21T12:01:48.983065",
     "status": "completed"
    },
    "tags": []
   },
   "outputs": [],
   "source": [
    "scaler=StandardScaler()\n",
    "X_train_scale=scaler.fit_transform(xtrain)\n",
    "X_test_scale = scaler.transform(xtest)"
   ]
  },
  {
   "cell_type": "code",
   "execution_count": 63,
   "id": "bd848df5",
   "metadata": {
    "execution": {
     "iopub.execute_input": "2022-12-21T12:01:49.245473Z",
     "iopub.status.busy": "2022-12-21T12:01:49.244758Z",
     "iopub.status.idle": "2022-12-21T12:01:49.378185Z",
     "shell.execute_reply": "2022-12-21T12:01:49.377017Z"
    },
    "papermill": {
     "duration": 0.219313,
     "end_time": "2022-12-21T12:01:49.381799",
     "exception": false,
     "start_time": "2022-12-21T12:01:49.162486",
     "status": "completed"
    },
    "tags": []
   },
   "outputs": [
    {
     "name": "stdout",
     "output_type": "stream",
     "text": [
      "accuracy 0.8375\n"
     ]
    }
   ],
   "source": [
    "kRange = range(1,15,1)\n",
    "scores_list = []\n",
    "for i in kRange:\n",
    "    knn =  KNeighborsClassifier(n_neighbors = i)\n",
    "    knn.fit(X_train_scale,ytrain)\n",
    "    ypredr = knn.predict(X_test_scale)\n",
    "Acc_KNN=accuracy_score(ypredr, ytest)\n",
    "print('accuracy',Acc_KNN)"
   ]
  },
  {
   "cell_type": "code",
   "execution_count": 64,
   "id": "3110b641",
   "metadata": {
    "execution": {
     "iopub.execute_input": "2022-12-21T12:01:49.610478Z",
     "iopub.status.busy": "2022-12-21T12:01:49.610079Z",
     "iopub.status.idle": "2022-12-21T12:01:49.620712Z",
     "shell.execute_reply": "2022-12-21T12:01:49.619092Z"
    },
    "papermill": {
     "duration": 0.093879,
     "end_time": "2022-12-21T12:01:49.623411",
     "exception": false,
     "start_time": "2022-12-21T12:01:49.529532",
     "status": "completed"
    },
    "tags": []
   },
   "outputs": [
    {
     "name": "stdout",
     "output_type": "stream",
     "text": [
      "accuracy 0.8\n"
     ]
    }
   ],
   "source": [
    "dtr = DecisionTreeClassifier(random_state=32)\n",
    "dtr.fit(X_train_scale, ytrain)\n",
    "ypreddtf = dtr.predict(X_test_scale)\n",
    "Acc_DTC=accuracy_score(ypreddtf, ytest)\n",
    "print('accuracy',Acc_DTC)"
   ]
  },
  {
   "cell_type": "code",
   "execution_count": 65,
   "id": "78ceaa6f",
   "metadata": {
    "execution": {
     "iopub.execute_input": "2022-12-21T12:01:49.794479Z",
     "iopub.status.busy": "2022-12-21T12:01:49.794017Z",
     "iopub.status.idle": "2022-12-21T12:01:50.698023Z",
     "shell.execute_reply": "2022-12-21T12:01:50.696702Z"
    },
    "papermill": {
     "duration": 0.998448,
     "end_time": "2022-12-21T12:01:50.704982",
     "exception": false,
     "start_time": "2022-12-21T12:01:49.706534",
     "status": "completed"
    },
    "tags": []
   },
   "outputs": [
    {
     "name": "stdout",
     "output_type": "stream",
     "text": [
      "accuracy 0.9375\n"
     ]
    },
    {
     "name": "stderr",
     "output_type": "stream",
     "text": [
      "/opt/conda/lib/python3.7/site-packages/sklearn/neural_network/_multilayer_perceptron.py:696: ConvergenceWarning: Stochastic Optimizer: Maximum iterations (200) reached and the optimization hasn't converged yet.\n",
      "  ConvergenceWarning,\n"
     ]
    }
   ],
   "source": [
    "mlp=MLPClassifier()\n",
    "mlp.fit(X_train_scale, ytrain)\n",
    "ypredmlp = mlp.predict(X_test_scale)\n",
    "Acc_mlp=accuracy_score(ypredmlp,ytest )\n",
    "print('accuracy',Acc_mlp)"
   ]
  },
  {
   "cell_type": "code",
   "execution_count": 66,
   "id": "43688520",
   "metadata": {
    "execution": {
     "iopub.execute_input": "2022-12-21T12:01:50.958829Z",
     "iopub.status.busy": "2022-12-21T12:01:50.958279Z",
     "iopub.status.idle": "2022-12-21T12:01:50.975736Z",
     "shell.execute_reply": "2022-12-21T12:01:50.974481Z"
    },
    "papermill": {
     "duration": 0.113759,
     "end_time": "2022-12-21T12:01:50.978256",
     "exception": false,
     "start_time": "2022-12-21T12:01:50.864497",
     "status": "completed"
    },
    "tags": []
   },
   "outputs": [
    {
     "name": "stdout",
     "output_type": "stream",
     "text": [
      "accuracy 0.95\n"
     ]
    }
   ],
   "source": [
    "from sklearn import svm\n",
    "clf = svm.SVC(kernel='linear', C = 1.0)\n",
    "clf.fit(X_train_scale, ytrain)\n",
    "ypredclf = clf.predict(X_test_scale)\n",
    "Acc_clf=accuracy_score(ytest,ypredclf)\n",
    "print('accuracy',Acc_clf)"
   ]
  },
  {
   "cell_type": "code",
   "execution_count": 67,
   "id": "366f493f",
   "metadata": {
    "execution": {
     "iopub.execute_input": "2022-12-21T12:01:51.167648Z",
     "iopub.status.busy": "2022-12-21T12:01:51.166696Z",
     "iopub.status.idle": "2022-12-21T12:01:51.352308Z",
     "shell.execute_reply": "2022-12-21T12:01:51.350595Z"
    },
    "papermill": {
     "duration": 0.286557,
     "end_time": "2022-12-21T12:01:51.354909",
     "exception": false,
     "start_time": "2022-12-21T12:01:51.068352",
     "status": "completed"
    },
    "tags": []
   },
   "outputs": [
    {
     "name": "stdout",
     "output_type": "stream",
     "text": [
      "accuracy 0.875\n"
     ]
    }
   ],
   "source": [
    "rfr = RandomForestClassifier(random_state= 32)\n",
    "rfr.fit(X_train_scale, ytrain)\n",
    "ypredrfr = rfr.predict(X_test_scale)\n",
    "Acc_RF=accuracy_score(ypredrfr,ytest)\n",
    "print('accuracy',Acc_RF)"
   ]
  },
  {
   "cell_type": "code",
   "execution_count": 68,
   "id": "841e22a0",
   "metadata": {
    "execution": {
     "iopub.execute_input": "2022-12-21T12:01:51.520273Z",
     "iopub.status.busy": "2022-12-21T12:01:51.518866Z",
     "iopub.status.idle": "2022-12-21T12:01:59.803944Z",
     "shell.execute_reply": "2022-12-21T12:01:59.801774Z"
    },
    "papermill": {
     "duration": 8.37187,
     "end_time": "2022-12-21T12:01:59.808779",
     "exception": false,
     "start_time": "2022-12-21T12:01:51.436909",
     "status": "completed"
    },
    "tags": []
   },
   "outputs": [
    {
     "name": "stdout",
     "output_type": "stream",
     "text": [
      "accuracy 0.925\n"
     ]
    }
   ],
   "source": [
    "param_grid = {\n",
    "        'hidden_layer_sizes': [(7, 7), (128,), (128, 7)],\n",
    "        'tol': [1e-2, 1e-3, 1e-4, 1e-5, 1e-6],\n",
    "        'epsilon': [1e-3, 1e-7, 1e-8, 1e-9, 1e-8]\n",
    "    }\n",
    "estimator = GridSearchCV(\n",
    "        MLPClassifier(learning_rate='adaptive', learning_rate_init=1., early_stopping=True, shuffle=True),\n",
    "        param_grid=param_grid, n_jobs=-1)\n",
    "estimator.fit(X_train_scale, ytrain)\n",
    "grid_predictions = estimator.predict(X_test_scale)\n",
    "Acc_grid_mlp=accuracy_score(grid_predictions,ytest)\n",
    "print('accuracy',Acc_grid_mlp)"
   ]
  },
  {
   "cell_type": "code",
   "execution_count": 69,
   "id": "fc65b8fd",
   "metadata": {
    "execution": {
     "iopub.execute_input": "2022-12-21T12:02:00.037075Z",
     "iopub.status.busy": "2022-12-21T12:02:00.036562Z",
     "iopub.status.idle": "2022-12-21T12:02:00.919690Z",
     "shell.execute_reply": "2022-12-21T12:02:00.918398Z"
    },
    "papermill": {
     "duration": 0.968945,
     "end_time": "2022-12-21T12:02:00.922374",
     "exception": false,
     "start_time": "2022-12-21T12:01:59.953429",
     "status": "completed"
    },
    "tags": []
   },
   "outputs": [
    {
     "name": "stdout",
     "output_type": "stream",
     "text": [
      "Fitting 5 folds for each of 16 candidates, totalling 80 fits\n",
      "[CV] END .....................................C=0.1, gamma=1; total time=   0.0s\n",
      "[CV] END .....................................C=0.1, gamma=1; total time=   0.0s\n",
      "[CV] END .....................................C=0.1, gamma=1; total time=   0.0s\n",
      "[CV] END .....................................C=0.1, gamma=1; total time=   0.0s\n",
      "[CV] END .....................................C=0.1, gamma=1; total time=   0.0s\n",
      "[CV] END ...................................C=0.1, gamma=0.1; total time=   0.0s\n",
      "[CV] END ...................................C=0.1, gamma=0.1; total time=   0.0s\n",
      "[CV] END ...................................C=0.1, gamma=0.1; total time=   0.0s\n",
      "[CV] END ...................................C=0.1, gamma=0.1; total time=   0.0s\n",
      "[CV] END ...................................C=0.1, gamma=0.1; total time=   0.0s\n",
      "[CV] END ..................................C=0.1, gamma=0.01; total time=   0.0s\n",
      "[CV] END ..................................C=0.1, gamma=0.01; total time=   0.0s\n",
      "[CV] END ..................................C=0.1, gamma=0.01; total time=   0.0s\n",
      "[CV] END ..................................C=0.1, gamma=0.01; total time=   0.0s\n",
      "[CV] END ..................................C=0.1, gamma=0.01; total time=   0.0s\n",
      "[CV] END .................................C=0.1, gamma=0.001; total time=   0.0s\n",
      "[CV] END .................................C=0.1, gamma=0.001; total time=   0.0s\n",
      "[CV] END .................................C=0.1, gamma=0.001; total time=   0.0s\n",
      "[CV] END .................................C=0.1, gamma=0.001; total time=   0.0s\n",
      "[CV] END .................................C=0.1, gamma=0.001; total time=   0.0s\n",
      "[CV] END .......................................C=1, gamma=1; total time=   0.0s\n",
      "[CV] END .......................................C=1, gamma=1; total time=   0.0s\n",
      "[CV] END .......................................C=1, gamma=1; total time=   0.0s\n",
      "[CV] END .......................................C=1, gamma=1; total time=   0.0s\n",
      "[CV] END .......................................C=1, gamma=1; total time=   0.0s\n",
      "[CV] END .....................................C=1, gamma=0.1; total time=   0.0s\n",
      "[CV] END .....................................C=1, gamma=0.1; total time=   0.0s\n",
      "[CV] END .....................................C=1, gamma=0.1; total time=   0.0s\n",
      "[CV] END .....................................C=1, gamma=0.1; total time=   0.0s\n",
      "[CV] END .....................................C=1, gamma=0.1; total time=   0.0s\n",
      "[CV] END ....................................C=1, gamma=0.01; total time=   0.0s\n",
      "[CV] END ....................................C=1, gamma=0.01; total time=   0.0s\n",
      "[CV] END ....................................C=1, gamma=0.01; total time=   0.0s\n",
      "[CV] END ....................................C=1, gamma=0.01; total time=   0.0s\n",
      "[CV] END ....................................C=1, gamma=0.01; total time=   0.0s\n",
      "[CV] END ...................................C=1, gamma=0.001; total time=   0.0s\n",
      "[CV] END ...................................C=1, gamma=0.001; total time=   0.0s\n",
      "[CV] END ...................................C=1, gamma=0.001; total time=   0.0s\n",
      "[CV] END ...................................C=1, gamma=0.001; total time=   0.0s\n",
      "[CV] END ...................................C=1, gamma=0.001; total time=   0.0s\n",
      "[CV] END ......................................C=10, gamma=1; total time=   0.0s\n",
      "[CV] END ......................................C=10, gamma=1; total time=   0.0s\n",
      "[CV] END ......................................C=10, gamma=1; total time=   0.0s\n",
      "[CV] END ......................................C=10, gamma=1; total time=   0.0s\n",
      "[CV] END ......................................C=10, gamma=1; total time=   0.0s\n",
      "[CV] END ....................................C=10, gamma=0.1; total time=   0.0s\n",
      "[CV] END ....................................C=10, gamma=0.1; total time=   0.0s\n",
      "[CV] END ....................................C=10, gamma=0.1; total time=   0.0s\n",
      "[CV] END ....................................C=10, gamma=0.1; total time=   0.0s\n",
      "[CV] END ....................................C=10, gamma=0.1; total time=   0.0s\n",
      "[CV] END ...................................C=10, gamma=0.01; total time=   0.0s\n",
      "[CV] END ...................................C=10, gamma=0.01; total time=   0.0s\n",
      "[CV] END ...................................C=10, gamma=0.01; total time=   0.0s\n",
      "[CV] END ...................................C=10, gamma=0.01; total time=   0.0s\n",
      "[CV] END ...................................C=10, gamma=0.01; total time=   0.0s\n",
      "[CV] END ..................................C=10, gamma=0.001; total time=   0.0s\n",
      "[CV] END ..................................C=10, gamma=0.001; total time=   0.0s\n",
      "[CV] END ..................................C=10, gamma=0.001; total time=   0.0s\n",
      "[CV] END ..................................C=10, gamma=0.001; total time=   0.0s\n",
      "[CV] END ..................................C=10, gamma=0.001; total time=   0.0s\n",
      "[CV] END .....................................C=100, gamma=1; total time=   0.0s\n",
      "[CV] END .....................................C=100, gamma=1; total time=   0.0s\n",
      "[CV] END .....................................C=100, gamma=1; total time=   0.0s\n",
      "[CV] END .....................................C=100, gamma=1; total time=   0.0s\n",
      "[CV] END .....................................C=100, gamma=1; total time=   0.0s\n",
      "[CV] END ...................................C=100, gamma=0.1; total time=   0.0s\n",
      "[CV] END ...................................C=100, gamma=0.1; total time=   0.0s\n",
      "[CV] END ...................................C=100, gamma=0.1; total time=   0.0s\n",
      "[CV] END ...................................C=100, gamma=0.1; total time=   0.0s\n",
      "[CV] END ...................................C=100, gamma=0.1; total time=   0.0s\n",
      "[CV] END ..................................C=100, gamma=0.01; total time=   0.0s\n",
      "[CV] END ..................................C=100, gamma=0.01; total time=   0.0s\n",
      "[CV] END ..................................C=100, gamma=0.01; total time=   0.0s\n",
      "[CV] END ..................................C=100, gamma=0.01; total time=   0.0s\n",
      "[CV] END ..................................C=100, gamma=0.01; total time=   0.0s\n",
      "[CV] END .................................C=100, gamma=0.001; total time=   0.0s\n",
      "[CV] END .................................C=100, gamma=0.001; total time=   0.0s\n",
      "[CV] END .................................C=100, gamma=0.001; total time=   0.0s\n",
      "[CV] END .................................C=100, gamma=0.001; total time=   0.0s\n",
      "[CV] END .................................C=100, gamma=0.001; total time=   0.0s\n",
      "accuracy 0.9625\n"
     ]
    }
   ],
   "source": [
    "param_grid = {'C': [0.1,1, 10, 100], 'gamma': [1,0.1,0.01,0.001]} \n",
    "grida = GridSearchCV(svm.SVC(),param_grid,refit=True,verbose=2)\n",
    "grida.fit(X_train_scale,ytrain)\n",
    "grid_predictions = grida.predict(X_test_scale)\n",
    "Acc_grid_scv=accuracy_score(grid_predictions,ytest)\n",
    "print('accuracy',Acc_grid_scv)"
   ]
  },
  {
   "cell_type": "code",
   "execution_count": 70,
   "id": "1272b452",
   "metadata": {
    "execution": {
     "iopub.execute_input": "2022-12-21T12:02:01.090654Z",
     "iopub.status.busy": "2022-12-21T12:02:01.089593Z",
     "iopub.status.idle": "2022-12-21T12:02:01.109853Z",
     "shell.execute_reply": "2022-12-21T12:02:01.108527Z"
    },
    "papermill": {
     "duration": 0.106447,
     "end_time": "2022-12-21T12:02:01.112412",
     "exception": false,
     "start_time": "2022-12-21T12:02:01.005965",
     "status": "completed"
    },
    "tags": []
   },
   "outputs": [
    {
     "data": {
      "text/html": [
       "<div>\n",
       "<style scoped>\n",
       "    .dataframe tbody tr th:only-of-type {\n",
       "        vertical-align: middle;\n",
       "    }\n",
       "\n",
       "    .dataframe tbody tr th {\n",
       "        vertical-align: top;\n",
       "    }\n",
       "\n",
       "    .dataframe thead th {\n",
       "        text-align: right;\n",
       "    }\n",
       "</style>\n",
       "<table border=\"1\" class=\"dataframe\">\n",
       "  <thead>\n",
       "    <tr style=\"text-align: right;\">\n",
       "      <th></th>\n",
       "      <th>Model</th>\n",
       "      <th>Score</th>\n",
       "    </tr>\n",
       "  </thead>\n",
       "  <tbody>\n",
       "    <tr>\n",
       "      <th>7</th>\n",
       "      <td>DNN</td>\n",
       "      <td>0.968966</td>\n",
       "    </tr>\n",
       "    <tr>\n",
       "      <th>5</th>\n",
       "      <td>svc with gridsearch</td>\n",
       "      <td>0.962500</td>\n",
       "    </tr>\n",
       "    <tr>\n",
       "      <th>4</th>\n",
       "      <td>support vector classifier</td>\n",
       "      <td>0.950000</td>\n",
       "    </tr>\n",
       "    <tr>\n",
       "      <th>1</th>\n",
       "      <td>MLPClassifier</td>\n",
       "      <td>0.937500</td>\n",
       "    </tr>\n",
       "    <tr>\n",
       "      <th>6</th>\n",
       "      <td>mlp with gridsearch</td>\n",
       "      <td>0.925000</td>\n",
       "    </tr>\n",
       "    <tr>\n",
       "      <th>0</th>\n",
       "      <td>Random Forest</td>\n",
       "      <td>0.875000</td>\n",
       "    </tr>\n",
       "    <tr>\n",
       "      <th>2</th>\n",
       "      <td>KNeighborsClassifier</td>\n",
       "      <td>0.837500</td>\n",
       "    </tr>\n",
       "    <tr>\n",
       "      <th>3</th>\n",
       "      <td>DecisionTreeClassifier</td>\n",
       "      <td>0.800000</td>\n",
       "    </tr>\n",
       "  </tbody>\n",
       "</table>\n",
       "</div>"
      ],
      "text/plain": [
       "                       Model     Score\n",
       "7                        DNN  0.968966\n",
       "5        svc with gridsearch  0.962500\n",
       "4  support vector classifier  0.950000\n",
       "1              MLPClassifier  0.937500\n",
       "6        mlp with gridsearch  0.925000\n",
       "0              Random Forest  0.875000\n",
       "2       KNeighborsClassifier  0.837500\n",
       "3     DecisionTreeClassifier  0.800000"
      ]
     },
     "execution_count": 70,
     "metadata": {},
     "output_type": "execute_result"
    }
   ],
   "source": [
    "models = pd.DataFrame({\n",
    "    'Model': ['Random Forest', 'MLPClassifier', \n",
    "              'KNeighborsClassifier', 'DecisionTreeClassifier','support vector classifier','svc with gridsearch','mlp with gridsearch','DNN'] ,\n",
    "    'Score': [Acc_RF, Acc_mlp, \n",
    "              Acc_KNN, Acc_DTC,Acc_clf,Acc_grid_scv,Acc_grid_mlp,DNN_Accuracy ]})\n",
    "models.sort_values(by='Score', ascending=False)"
   ]
  }
 ],
 "metadata": {
  "kernelspec": {
   "display_name": "Python 3",
   "language": "python",
   "name": "python3"
  },
  "language_info": {
   "codemirror_mode": {
    "name": "ipython",
    "version": 3
   },
   "file_extension": ".py",
   "mimetype": "text/x-python",
   "name": "python",
   "nbconvert_exporter": "python",
   "pygments_lexer": "ipython3",
   "version": "3.7.12"
  },
  "papermill": {
   "default_parameters": {},
   "duration": 84.633247,
   "end_time": "2022-12-21T12:02:03.818394",
   "environment_variables": {},
   "exception": null,
   "input_path": "__notebook__.ipynb",
   "output_path": "__notebook__.ipynb",
   "parameters": {},
   "start_time": "2022-12-21T12:00:39.185147",
   "version": "2.3.4"
  }
 },
 "nbformat": 4,
 "nbformat_minor": 5
}
